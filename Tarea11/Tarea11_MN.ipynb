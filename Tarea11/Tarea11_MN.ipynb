{
 "cells": [
  {
   "cell_type": "markdown",
   "id": "48307204",
   "metadata": {},
   "source": [
    "# **Escuela Politecnica Nacional** \n",
    "# **Metodos Numericos**\n",
    "# **Tarea 11**\n",
    "## **Fecha:** 16/07/2025\n",
    "## **Nombre:**  Joseph Jimenez"
   ]
  },
  {
   "cell_type": "markdown",
   "id": "4422f23f-8049-43e1-a2c5-858e5c2b602d",
   "metadata": {},
   "source": [
    "\n",
    "## Conjunto de ejercicios"
   ]
  },
  {
   "cell_type": "markdown",
   "id": "6ac15d4b",
   "metadata": {},
   "source": [
    "Codigo con los metodos gauss jacobi y gauss seidel"
   ]
  },
  {
   "cell_type": "code",
   "execution_count": 4,
   "id": "c7ce8426-ea8f-4616-84d8-083888390321",
   "metadata": {},
   "outputs": [],
   "source": [
    "\n",
    "import numpy as np\n",
    "\n",
    "def gauss_jacobi(\n",
    "    A: np.array, b: np.array, x0: np.array, tol: float, max_iter: int\n",
    ") -> np.array:\n",
    "    # --- Validación de los argumentos de la función ---\n",
    "    if not isinstance(A, np.ndarray):\n",
    "        A = np.array(A, dtype=float)\n",
    "    assert A.shape[0] == A.shape[1], \"La matriz A debe ser de tamaño n-by-(n).\"\n",
    "\n",
    "    if not isinstance(b, np.ndarray):\n",
    "        b = np.array(b, dtype=float)\n",
    "    assert b.shape[0] == A.shape[0], \"El vector b debe ser de tamaño n.\"\n",
    "\n",
    "    if not isinstance(x0, np.ndarray):\n",
    "        x0 = np.array(x0, dtype=float)\n",
    "    assert x0.shape[0] == A.shape[0], \"El vector x0 debe ser de tamaño n.\"\n",
    "\n",
    "    # --- Algoritmo ---\n",
    "    n = A.shape[0]\n",
    "    x = x0.copy()\n",
    "    for k in range(1, max_iter):\n",
    "        x_new = np.zeros((n, 1))  # prealloc\n",
    "        for i in range(n):\n",
    "            suma = sum([A[i, j] * x[j] for j in range(n) if j != i])\n",
    "            x_new[i] = (b[i] - suma) / A[i, i]\n",
    "\n",
    "        if np.linalg.norm(x_new - x) < tol:\n",
    "            return x_new\n",
    "\n",
    "        x = x_new.copy()\n",
    "\n",
    "    return x\n"
   ]
  },
  {
   "cell_type": "code",
   "execution_count": 5,
   "id": "422367fb-c534-482f-8b3b-e89b6ba32909",
   "metadata": {},
   "outputs": [],
   "source": [
    "\n",
    "def gauss_seidel(\n",
    "    A: np.array, b: np.array, x0: np.array, tol: float, max_iter: int\n",
    ") -> np.array:\n",
    "    # --- Validación de los argumentos de la función ---\n",
    "    if not isinstance(A, np.ndarray):\n",
    "        A = np.array(A, dtype=float)\n",
    "    assert A.shape[0] == A.shape[1], \"La matriz A debe ser de tamaño n-by-(n).\"\n",
    "\n",
    "    if not isinstance(b, np.ndarray):\n",
    "        b = np.array(b, dtype=float)\n",
    "    assert b.shape[0] == A.shape[0], \"El vector b debe ser de tamaño n.\"\n",
    "\n",
    "    if not isinstance(x0, np.ndarray):\n",
    "        x0 = np.array(x0, dtype=float)\n",
    "    assert x0.shape[0] == A.shape[0], \"El vector x0 debe ser de tamaño n.\"\n",
    "\n",
    "    # --- Algoritmo ---\n",
    "    n = A.shape[0]\n",
    "    x = x0.copy()\n",
    "\n",
    "    for k in range(1, max_iter):\n",
    "        x_new = np.zeros((n, 1))  # prealloc\n",
    "        for i in range(n):\n",
    "            suma = sum([A[i, j] * x_new[j] for j in range(i) if j != i]) + sum(\n",
    "                [A[i, j] * x[j] for j in range(i, n) if j != i]\n",
    "            )\n",
    "            x_new[i] = (b[i] - suma) / A[i, i]\n",
    "\n",
    "        if np.linalg.norm(x_new - x) < tol:\n",
    "            return x_new\n",
    "\n",
    "        x = x_new.copy()\n",
    "\n",
    "    return x\n"
   ]
  },
  {
   "cell_type": "markdown",
   "id": "3da77c03-1a7f-43b3-9dd4-8fc046cb6318",
   "metadata": {},
   "source": [
    "### 1.Encuentre las primeras dos iteraciones del método de Jacobi para los siguientes sistemas lineales, por medio de $x(0) = 0$:\n",
    "\n",
    "a)\n"
   ]
  },
  {
   "cell_type": "code",
   "execution_count": 6,
   "id": "dc349aad-9c8a-4356-99bd-aa2289579875",
   "metadata": {},
   "outputs": [
    {
     "name": "stdout",
     "output_type": "stream",
     "text": [
      "[[ 0.0350863 ]\n",
      " [-0.23685698]\n",
      " [ 0.65787809]]\n"
     ]
    }
   ],
   "source": [
    "\n",
    "A = [\n",
    "    [3, -1, 1],\n",
    "    [3, 6, 2],\n",
    "    [3, 3, 7]\n",
    "]\n",
    "\n",
    "b = [1, 0, 4]\n",
    "\n",
    "x = gauss_jacobi(A, b, [0, 0, 0], 10e-5, 100)\n",
    "print(x)\n"
   ]
  },
  {
   "cell_type": "markdown",
   "id": "820911ba-5460-43aa-b401-50c3c43fd35a",
   "metadata": {},
   "source": [
    "b)\n"
   ]
  },
  {
   "cell_type": "code",
   "execution_count": 7,
   "id": "67133ac8-c94b-44ec-a3e3-cd8dc2437a15",
   "metadata": {},
   "outputs": [
    {
     "name": "stdout",
     "output_type": "stream",
     "text": [
      "[[0.9159701]\n",
      " [0.9495603]\n",
      " [0.7899054]]\n"
     ]
    }
   ],
   "source": [
    "\n",
    "A = [\n",
    "    [10, -1, 1],\n",
    "    [-1, 10, -2],\n",
    "    [0, -2, 10]\n",
    "]\n",
    "\n",
    "b = [9, 7, 6]\n",
    "\n",
    "x = gauss_jacobi(A, b, [0, 0, 0], 10e-5, 100)\n",
    "print(x)\n"
   ]
  },
  {
   "cell_type": "markdown",
   "id": "624883fa-fd79-4539-aa96-8fb9782d5c7c",
   "metadata": {},
   "source": [
    "c)\n"
   ]
  },
  {
   "cell_type": "code",
   "execution_count": 8,
   "id": "dee95620-190f-49d4-8f5c-ef26e9883889",
   "metadata": {},
   "outputs": [
    {
     "name": "stdout",
     "output_type": "stream",
     "text": [
      "[[-0.78792172]\n",
      " [ 2.77583088]\n",
      " [-0.29530611]\n",
      " [-2.25906474]]\n"
     ]
    }
   ],
   "source": [
    "\n",
    "A = [\n",
    "    [10, 5, 0, 0],\n",
    "    [5, 10, -4, 0],\n",
    "    [0, -4, -8, 1],\n",
    "    [0, 0, -1, 5]\n",
    "]\n",
    "\n",
    "b = [6, 25, -11, -11]\n",
    "\n",
    "x = gauss_jacobi(A, b, [0, 0, 0, 0], 10e-5, 100)\n",
    "print(x)\n"
   ]
  },
  {
   "cell_type": "markdown",
   "id": "d354146f-5f25-4edb-b250-0401ca5c284d",
   "metadata": {},
   "source": [
    "d)\n"
   ]
  },
  {
   "cell_type": "code",
   "execution_count": 9,
   "id": "d8bed91a-0fd8-4c31-8f07-334a3185f1da",
   "metadata": {},
   "outputs": [
    {
     "name": "stdout",
     "output_type": "stream",
     "text": [
      "[[ 0.78661584]\n",
      " [-1.00257369]\n",
      " [ 1.86634212]\n",
      " [ 1.91259293]\n",
      " [ 1.98974776]]\n"
     ]
    }
   ],
   "source": [
    "\n",
    "A = [\n",
    "    [4, 1, 1, 0, 1],\n",
    "    [-1, -3, 1, 1, 0],\n",
    "    [2, 1, 5, -1, -1],\n",
    "    [-1, -1, -1, 4, 0],\n",
    "    [0, 2, -1, 1, 4]\n",
    "]\n",
    "\n",
    "b = [6, 6, 6, 6, 6]\n",
    "\n",
    "x = gauss_jacobi(A, b, [0, 0, 0, 0, 0], 10e-5, 100)\n",
    "print(x)\n"
   ]
  },
  {
   "cell_type": "markdown",
   "id": "874c020f-b9f6-42a0-b5b7-16470da34c8f",
   "metadata": {},
   "source": [
    "\n",
    "### 2. Repita el ejercicio 1 usando el método de Gauss-Siedel.\n",
    "\n",
    "a)\n"
   ]
  },
  {
   "cell_type": "code",
   "execution_count": 10,
   "id": "b8a5cbe5-a846-4a88-980f-dcf62770ef40",
   "metadata": {},
   "outputs": [
    {
     "name": "stdout",
     "output_type": "stream",
     "text": [
      "[[ 0.03510326]\n",
      " [-0.23683891]\n",
      " [ 0.6578867 ]]\n"
     ]
    }
   ],
   "source": [
    "\n",
    "A = [\n",
    "    [3, -1, 1],\n",
    "    [3, 6, 2],\n",
    "    [3, 3, 7]\n",
    "]\n",
    "\n",
    "b = [1, 0, 4]\n",
    "\n",
    "x = gauss_seidel(A, b, [0, 0, 0], 10e-5, 100)\n",
    "print(x)\n"
   ]
  },
  {
   "cell_type": "markdown",
   "id": "a4782c52-adc8-4c18-ba1e-c9e9ec4f5ee7",
   "metadata": {},
   "source": [
    "b)\n"
   ]
  },
  {
   "cell_type": "code",
   "execution_count": 11,
   "id": "e1569612-1b17-4e4f-9b01-98d68c783007",
   "metadata": {},
   "outputs": [
    {
     "name": "stdout",
     "output_type": "stream",
     "text": [
      "[[0.91596497]\n",
      " [0.94957898]\n",
      " [0.7899158 ]]\n"
     ]
    }
   ],
   "source": [
    "\n",
    "A = [\n",
    "    [10, -1, 1],\n",
    "    [-1, 10, -2],\n",
    "    [0, -2, 10]\n",
    "]\n",
    "\n",
    "b = [9, 7, 6]\n",
    "\n",
    "x = gauss_seidel(A, b, [0, 0, 0], 10e-5, 100)\n",
    "print(x)\n"
   ]
  },
  {
   "cell_type": "markdown",
   "id": "e1a28349-c535-44ae-a377-feaf72a624f3",
   "metadata": {},
   "source": [
    "c)\n"
   ]
  },
  {
   "cell_type": "code",
   "execution_count": 12,
   "id": "dde07efe-089a-406f-98de-a1447eda7ff6",
   "metadata": {},
   "outputs": [
    {
     "name": "stdout",
     "output_type": "stream",
     "text": [
      "[[-0.78791707]\n",
      " [ 2.77583885]\n",
      " [-0.29530191]\n",
      " [-2.25906038]]\n"
     ]
    }
   ],
   "source": [
    "\n",
    "A = [\n",
    "    [10, 5, 0, 0],\n",
    "    [5, 10, -4, 0],\n",
    "    [0, -4, -8, 1],\n",
    "    [0, 0, -1, 5]\n",
    "]\n",
    "\n",
    "b = [6, 25, -11, -11]\n",
    "\n",
    "x = gauss_seidel(A, b, [0, 0, 0, 0], 10e-5, 100)\n",
    "print(x)\n"
   ]
  },
  {
   "cell_type": "markdown",
   "id": "a59323b9-e591-40b1-adb7-0cc464b1cd63",
   "metadata": {},
   "source": [
    "d)\n"
   ]
  },
  {
   "cell_type": "code",
   "execution_count": 13,
   "id": "9c3a90a9-bb64-4214-8181-4a7bd92049f9",
   "metadata": {},
   "outputs": [
    {
     "name": "stdout",
     "output_type": "stream",
     "text": [
      "[[ 0.78663577]\n",
      " [-1.00257108]\n",
      " [ 1.86632614]\n",
      " [ 1.91259771]\n",
      " [ 1.98971765]]\n"
     ]
    }
   ],
   "source": [
    "\n",
    "A = [\n",
    "    [4, 1, 1, 0, 1],\n",
    "    [-1, -3, 1, 1, 0],\n",
    "    [2, 1, 5, -1, -1],\n",
    "    [-1, -1, -1, 4, 0],\n",
    "    [0, 2, -1, 1, 4]\n",
    "]\n",
    "\n",
    "b = [6, 6, 6, 6, 6]\n",
    "\n",
    "x = gauss_seidel(A, b, [0, 0, 0, 0, 0], 10e-5, 100)\n",
    "print(x)\n"
   ]
  },
  {
   "cell_type": "markdown",
   "id": "2989a79a-2e74-40e5-912b-56e5e42c61ac",
   "metadata": {},
   "source": [
    "\n",
    "### 3. Utilice el método de Jacobi para resolver los sistemas lineales en el ejercicio 1, con $TOL = 10^{-3}$.\n",
    "\n",
    "a)\n"
   ]
  },
  {
   "cell_type": "code",
   "execution_count": 14,
   "id": "5d605bab-9f8f-4f8d-b6b9-8eb5329aefec",
   "metadata": {},
   "outputs": [
    {
     "name": "stdout",
     "output_type": "stream",
     "text": [
      "[[ 0.03516089]\n",
      " [-0.23570619]\n",
      " [ 0.65922185]]\n"
     ]
    }
   ],
   "source": [
    "\n",
    "A = [\n",
    "    [3, -1, 1],\n",
    "    [3, 6, 2],\n",
    "    [3, 3, 7]\n",
    "]\n",
    "\n",
    "b = [1, 0, 4]\n",
    "\n",
    "x = gauss_jacobi(A, b, [0, 0, 0], 10e-3, 100)\n",
    "print(x)\n"
   ]
  },
  {
   "cell_type": "markdown",
   "id": "1df1938f-7773-4d70-930b-cb7bab257839",
   "metadata": {},
   "source": [
    "b)\n"
   ]
  },
  {
   "cell_type": "code",
   "execution_count": 15,
   "id": "244ba94e-e715-49c1-98b1-82777a6e61fd",
   "metadata": {},
   "outputs": [
    {
     "name": "stdout",
     "output_type": "stream",
     "text": [
      "[[0.91603]\n",
      " [0.94913]\n",
      " [0.78962]]\n"
     ]
    }
   ],
   "source": [
    "\n",
    "A = [\n",
    "    [10, -1, 1],\n",
    "    [-1, 10, -2],\n",
    "    [0, -2, 10]\n",
    "]\n",
    "\n",
    "b = [9, 7, 6]\n",
    "\n",
    "x = gauss_jacobi(A, b, [0, 0, 0], 10e-3, 100)\n",
    "print(x)\n"
   ]
  },
  {
   "cell_type": "markdown",
   "id": "328fffbc-d25d-44c9-87b3-b1718da46f20",
   "metadata": {},
   "source": [
    "c)\n"
   ]
  },
  {
   "cell_type": "code",
   "execution_count": 16,
   "id": "37e3463b-a97a-4775-9b3f-5ea5558604c0",
   "metadata": {},
   "outputs": [
    {
     "name": "stdout",
     "output_type": "stream",
     "text": [
      "[[-0.788375  ]\n",
      " [ 2.77715625]\n",
      " [-0.29553125]\n",
      " [-2.26032813]]\n"
     ]
    }
   ],
   "source": [
    "\n",
    "A = [\n",
    "    [10, 5, 0, 0],\n",
    "    [5, 10, -4, 0],\n",
    "    [0, -4, -8, 1],\n",
    "    [0, 0, -1, 5]\n",
    "]\n",
    "\n",
    "b = [6, 25, -11, -11]\n",
    "\n",
    "x = gauss_jacobi(A, b, [0, 0, 0, 0], 10e-3, 100)\n",
    "print(x)\n"
   ]
  },
  {
   "cell_type": "markdown",
   "id": "69d3e3b2-6a50-48af-bf10-289c26a1cb10",
   "metadata": {},
   "source": [
    "d)\n"
   ]
  },
  {
   "cell_type": "code",
   "execution_count": 17,
   "id": "c209e4ae-d3d5-46a4-9e45-a8839d06de61",
   "metadata": {},
   "outputs": [
    {
     "name": "stdout",
     "output_type": "stream",
     "text": [
      "[[ 0.78718101]\n",
      " [-1.00174151]\n",
      " [ 1.8658388 ]\n",
      " [ 1.91274157]\n",
      " [ 1.98672138]]\n"
     ]
    }
   ],
   "source": [
    "\n",
    "A = [\n",
    "    [4, 1, 1, 0, 1],\n",
    "    [-1, -3, 1, 1, 0],\n",
    "    [2, 1, 5, -1, -1],\n",
    "    [-1, -1, -1, 4, 0],\n",
    "    [0, 2, -1, 1, 4]\n",
    "]\n",
    "\n",
    "b = [6, 6, 6, 6, 6]\n",
    "\n",
    "x = gauss_jacobi(A, b, [0, 0, 0, 0, 0], 10e-3, 100)\n",
    "print(x)\n"
   ]
  },
  {
   "cell_type": "markdown",
   "id": "5eeeeae5-cd9c-43fe-89fd-4c61e003f84e",
   "metadata": {},
   "source": [
    "\n",
    "### 4.Utilice el método de Gauss-Siedel para resolver los sistemas lineales en el ejercicio 1, con $TOL = 10^{-3}$.\n",
    "\n",
    "a)\n"
   ]
  },
  {
   "cell_type": "code",
   "execution_count": 18,
   "id": "9590b391-1822-4452-ade9-331e1d8602be",
   "metadata": {},
   "outputs": [
    {
     "name": "stdout",
     "output_type": "stream",
     "text": [
      "[[ 0.0361492 ]\n",
      " [-0.23660752]\n",
      " [ 0.65733928]]\n"
     ]
    }
   ],
   "source": [
    "\n",
    "A = [\n",
    "    [3, -1, 1],\n",
    "    [3, 6, 2],\n",
    "    [3, 3, 7]\n",
    "]\n",
    "\n",
    "b = [1, 0, 4]\n",
    "\n",
    "x = gauss_seidel(A, b, [0, 0, 0], 10e-3, 100)\n",
    "print(x)\n"
   ]
  },
  {
   "cell_type": "markdown",
   "id": "b835cd3f-722b-44e2-b131-d80665dd8e73",
   "metadata": {},
   "source": [
    "b)\n"
   ]
  },
  {
   "cell_type": "code",
   "execution_count": 19,
   "id": "110f124a-5686-476a-9d6e-dc452f0984d5",
   "metadata": {},
   "outputs": [
    {
     "name": "stdout",
     "output_type": "stream",
     "text": [
      "[[0.91593697]\n",
      " [0.94956218]\n",
      " [0.78991244]]\n"
     ]
    }
   ],
   "source": [
    "\n",
    "A = [\n",
    "    [10, -1, 1],\n",
    "    [-1, 10, -2],\n",
    "    [0, -2, 10]\n",
    "]\n",
    "\n",
    "b = [9, 7, 6]\n",
    "\n",
    "x = gauss_seidel(A, b, [0, 0, 0], 10e-3, 100)\n",
    "print(x)\n"
   ]
  },
  {
   "cell_type": "markdown",
   "id": "820015a2-bc6e-400c-98c7-0437b4a5731b",
   "metadata": {},
   "source": [
    "c)\n"
   ]
  },
  {
   "cell_type": "code",
   "execution_count": 20,
   "id": "306d0217-dbe4-4b7a-9cee-b15898c03850",
   "metadata": {},
   "outputs": [
    {
     "name": "stdout",
     "output_type": "stream",
     "text": [
      "[[-0.78802812]\n",
      " [ 2.77579328]\n",
      " [-0.29528544]\n",
      " [-2.25905709]]\n"
     ]
    }
   ],
   "source": [
    "\n",
    "A = [\n",
    "    [10, 5, 0, 0],\n",
    "    [5, 10, -4, 0],\n",
    "    [0, -4, -8, 1],\n",
    "    [0, 0, -1, 5]\n",
    "]\n",
    "\n",
    "b = [6, 25, -11, -11]\n",
    "\n",
    "x = gauss_seidel(A, b, [0, 0, 0, 0], 10e-3, 100)\n",
    "print(x)\n"
   ]
  },
  {
   "cell_type": "markdown",
   "id": "7e207762-c733-4621-8025-217d6e7fd523",
   "metadata": {},
   "source": [
    "d)\n"
   ]
  },
  {
   "cell_type": "code",
   "execution_count": 21,
   "id": "54777907-7111-405e-84d1-837dd8692ffc",
   "metadata": {},
   "outputs": [
    {
     "name": "stdout",
     "output_type": "stream",
     "text": [
      "[[ 0.78616258]\n",
      " [-1.00240703]\n",
      " [ 1.86606999]\n",
      " [ 1.91245638]\n",
      " [ 1.98960692]]\n"
     ]
    }
   ],
   "source": [
    "\n",
    "A = [\n",
    "    [4, 1, 1, 0, 1],\n",
    "    [-1, -3, 1, 1, 0],\n",
    "    [2, 1, 5, -1, -1],\n",
    "    [-1, -1, -1, 4, 0],\n",
    "    [0, 2, -1, 1, 4]\n",
    "]\n",
    "\n",
    "b = [6, 6, 6, 6, 6]\n",
    "\n",
    "x = gauss_seidel(A, b, [0, 0, 0, 0, 0], 10e-3, 100)\n",
    "print(x)\n"
   ]
  },
  {
   "cell_type": "markdown",
   "id": "18e35cff-c501-4692-a567-f7e1af0a7583",
   "metadata": {},
   "source": [
    "\n",
    "### 5. El sistema lineal :\n",
    "\n",
    "$$2x_1 - x_2 + x_3 = -1$$\n",
    "\n",
    "$$2x_1 + 2x_2 + 2x_3 = 4$$\n",
    "\n",
    "$$- x_1 - x_2 + 2x_3 = -5$$\n",
    "\n",
    "tiene las soluciones 1, 2 y -1.\n",
    "\n",
    "a) Muestre que el método de Jacobi con x(0) = 0 falla al proporcionar una buena aproximación \n",
    "después de 25 iteraciones. \n"
   ]
  },
  {
   "cell_type": "code",
   "execution_count": 22,
   "id": "489a9543-aa62-403b-b7d6-2395f6a072db",
   "metadata": {},
   "outputs": [
    {
     "name": "stdout",
     "output_type": "stream",
     "text": [
      "[[ -7.73114914]\n",
      " [-32.92459655]\n",
      " [  7.73114914]]\n"
     ]
    }
   ],
   "source": [
    "\n",
    "A = [\n",
    "    [2, -1, 1],\n",
    "    [2, 2, 2],\n",
    "    [-1, -1, 2]\n",
    "]\n",
    "\n",
    "b = [-1, 4, -5]\n",
    "\n",
    "x = gauss_jacobi(A, b, [0, 0, 0], 10e-5, 25)\n",
    "print(x)\n"
   ]
  },
  {
   "cell_type": "markdown",
   "id": "1a471936-2d1e-4e99-a779-eaae11917ca5",
   "metadata": {},
   "source": [
    "\n",
    "b) Utilice el método de Gauss-Siedel con $x(0) = 0$ para aproximar la solución para el sistema lineal \n",
    "dentro de $10^{−5}$.\n"
   ]
  },
  {
   "cell_type": "code",
   "execution_count": 23,
   "id": "4ae2fdc7-32e7-457d-822d-4944c436adf5",
   "metadata": {},
   "outputs": [
    {
     "name": "stdout",
     "output_type": "stream",
     "text": [
      "[[ 0.99998474]\n",
      " [ 2.00001717]\n",
      " [-0.99999905]]\n"
     ]
    }
   ],
   "source": [
    "\n",
    "A = [\n",
    "    [2, -1, 1],\n",
    "    [2, 2, 2],\n",
    "    [-1, -1, 2]\n",
    "]\n",
    "\n",
    "b = [-1, 4, -5]\n",
    "\n",
    "x = gauss_seidel(A, b, [0, 0, 0], 10e-5, 25)\n",
    "print(x)\n"
   ]
  },
  {
   "cell_type": "markdown",
   "id": "e27a50a9-b3c5-4204-b298-896bb6c961eb",
   "metadata": {},
   "source": [
    "\n",
    "### 6. El sistema lineal\n",
    "\n",
    "$$x_1 - x_3 = 0.2$$\n",
    "\n",
    "$$- \\frac{1}{2}x_1 + x_2 - \\frac{1}{4}x_3 = -1.425$$\n",
    "\n",
    "$$x_1 - \\frac{1}{2}x_2 + x_3 = 2$$\n",
    "\n",
    "tiene las soluciones 0.9, -0.8, 0.7.\n",
    "\n",
    "**a) ¿La matriz de coeficientes tiene diagonal estrictamente dominante?**\n",
    "\n",
    "Si, en la primera fila, segunda y tercera, la sumatoria de los elementos menos los de la diagonal es menor que los elementos de la misma diagonal.\n",
    "\n",
    "**b) Utilice el método iterativo de Gauss-Siedel para aproximar la solución para el sistema lineal con una tolerancia de $10^{-22}$ y un máximo de 300 iteraciones.**\n"
   ]
  },
  {
   "cell_type": "code",
   "execution_count": 24,
   "id": "248f51e8-bef6-4a34-9260-db2876bd7f5d",
   "metadata": {},
   "outputs": [
    {
     "name": "stdout",
     "output_type": "stream",
     "text": [
      "[[nan]\n",
      " [nan]\n",
      " [nan]]\n"
     ]
    },
    {
     "name": "stderr",
     "output_type": "stream",
     "text": [
      "C:\\Users\\andyj\\AppData\\Local\\Temp\\ipykernel_25288\\2200652469.py:27: RuntimeWarning: divide by zero encountered in divide\n",
      "  x_new[i] = (b[i] - suma) / A[i, i]\n",
      "C:\\Users\\andyj\\AppData\\Local\\Temp\\ipykernel_25288\\2200652469.py:25: RuntimeWarning: invalid value encountered in multiply\n",
      "  [A[i, j] * x[j] for j in range(i, n) if j != i]\n"
     ]
    }
   ],
   "source": [
    "\n",
    "A = [\n",
    "    [1, 0, -1],\n",
    "    [-0.5, 0, -0.25],\n",
    "    [1, -0.5, 1]\n",
    "]\n",
    "\n",
    "b = [0.2, -1.425, 2]\n",
    "\n",
    "x = gauss_seidel(A, b, [0, 0, 0], 10e-22, 300)\n",
    "print(x)\n"
   ]
  },
  {
   "cell_type": "markdown",
   "id": "8ae2d971-bdee-46b4-85ba-68930884a92b",
   "metadata": {},
   "source": [
    "\n",
    "c) ¿Qué pasa en la parte b) cuando el sistema cambia por el siguiente?\n",
    "\n",
    "$$x_1 - 2x_3 = 0.2$$\n",
    "\n",
    "$$- \\frac{1}{2}x_1 + x_2 - \\frac{1}{4} = -1.425$$\n",
    "\n",
    "$$x_1 - \\frac{1}{2}x_2 + x_3 = 2$$\n"
   ]
  },
  {
   "cell_type": "code",
   "execution_count": 25,
   "id": "a06c13ae-544e-4f60-b1d2-e990d0cff81f",
   "metadata": {},
   "outputs": [
    {
     "name": "stdout",
     "output_type": "stream",
     "text": [
      "[[nan]\n",
      " [nan]\n",
      " [nan]]\n"
     ]
    },
    {
     "name": "stderr",
     "output_type": "stream",
     "text": [
      "C:\\Users\\andyj\\AppData\\Local\\Temp\\ipykernel_25288\\2200652469.py:27: RuntimeWarning: divide by zero encountered in divide\n",
      "  x_new[i] = (b[i] - suma) / A[i, i]\n",
      "C:\\Users\\andyj\\AppData\\Local\\Temp\\ipykernel_25288\\2200652469.py:25: RuntimeWarning: invalid value encountered in multiply\n",
      "  [A[i, j] * x[j] for j in range(i, n) if j != i]\n"
     ]
    }
   ],
   "source": [
    "\n",
    "A = [\n",
    "    [1, 0, -2],\n",
    "    [-0.5, 0, -0.25],\n",
    "    [1, -0.5, 1]\n",
    "]\n",
    "\n",
    "b = [0.2, -1.425, 2]\n",
    "\n",
    "x = gauss_seidel(A, b, [0, 0, 0], 10e-22, 300)\n",
    "print(x)\n"
   ]
  },
  {
   "cell_type": "markdown",
   "id": "e92ed814-38de-40f3-869e-350c0496cb72",
   "metadata": {},
   "source": [
    "\n",
    "División por cero en los dos casos, podría ser el hecho de tender a cero.\n"
   ]
  },
  {
   "cell_type": "markdown",
   "id": "54e033dd-3c8e-463f-847f-bbf65e35c65f",
   "metadata": {},
   "source": [
    "\n",
    "### Un cable coaxial está formado por un conductor interno de 0.1 pulgadas cuadradas y un conductor externo  de 0.5 pulgada  cuadradas. El potencial en un punto en la sección transversal del cable se describe mediante la ecuación de Laplac Suponga que el conductor interno se mantiene en 0 volts y el conductor externo se mantiene en 110 volts. \n",
    "\n",
    "Aproximar el potencial entre los dos conductores requiere resolver el siguiente sistema lineal.e.\n"
   ]
  },
  {
   "cell_type": "code",
   "execution_count": 26,
   "id": "1942a59b-1f21-4f9e-8ad6-4d0c37ecf2fc",
   "metadata": {},
   "outputs": [],
   "source": [
    "\n",
    "A7 = [\n",
    "    [4, -1, 0, 0, -1, 0, 0, 0, 0, 0, 0, 0],\n",
    "    [-1, 4, -1, 0, 0, 0, 0, 0, 0, 0, 0, 0],\n",
    "    [0, -1, 4, -1, 0, 0, 0, 0, 0, 0, 0, 0],\n",
    "    [0, 0, -1, 4, 0, -1, 0, 0, 0, 0, 0, 0],\n",
    "    [-1, 0, 0, 0, 4, 0, -1, 0, 0, 0, 0, 0],\n",
    "    [0, 0, 0, -1, 0, 4, 0, -1, 0, 0, 0, 0],\n",
    "    [0, 0, 0, 0, -1, 0, 4, 0, -1, 0, 0, 0],\n",
    "    [0, 0, 0, 0, 0, -1, 0, 4, 0 ,0, 0, -1],\n",
    "    [0, 0, 0, 0, 0, 0, -1, 0, 4, -1, 0, 0],\n",
    "    [0, 0, 0, 0, 0, 0, 0, 0, -1, 4, -1, 0],\n",
    "    [0, 0, 0, 0, 0, 0, 0, 0, 0, -1, 4, -1],\n",
    "    [0, 0, 0, 0, 0, -1, 0, 0, 0, 0, -1, 4]\n",
    "]\n",
    "\n",
    "b7 = [220, 110, 110, 220, 110, 110, 110, 110, 220, 110, 110, 220]\n"
   ]
  },
  {
   "cell_type": "markdown",
   "id": "1365d535-8c79-4034-b355-b61f84eba88c",
   "metadata": {},
   "source": [
    "\n",
    "**a) ¿La matriz es estrictamente diagonalmente dominante?**\n",
    "\n",
    "Si, se puede notar a simple vista, la diagonal está compuesta solo de 4 siendo el mayor numero.\n",
    "\n",
    "**b) Resuelva el sistema lineal usando el método de Jacobi con $x(0) = 0$ y $TOL = 10^{-2}$.**\n"
   ]
  },
  {
   "cell_type": "code",
   "execution_count": 27,
   "id": "b74cf1a8-1769-485e-862f-f3fdb92e7aa3",
   "metadata": {},
   "outputs": [
    {
     "name": "stdout",
     "output_type": "stream",
     "text": [
      "[[87.98209548]\n",
      " [65.98209679]\n",
      " [65.98209679]\n",
      " [87.98209548]\n",
      " [65.98209679]\n",
      " [65.98209679]\n",
      " [65.98209679]\n",
      " [65.98209679]\n",
      " [87.98209548]\n",
      " [65.98209679]\n",
      " [65.98209679]\n",
      " [87.98209548]]\n"
     ]
    }
   ],
   "source": [
    "\n",
    "x = gauss_jacobi(A7, b7, [0]*len(b7), 10e-2, 300)\n",
    "print(x)\n"
   ]
  },
  {
   "cell_type": "markdown",
   "id": "8fd8e7e8-ce49-4c80-b646-55e7b942f04b",
   "metadata": {},
   "source": [
    "\n",
    "**c) Repita la parte b) mediante el método de Gauss-Siedel.**\n"
   ]
  },
  {
   "cell_type": "code",
   "execution_count": 28,
   "id": "4e175d91-c2e3-4377-ab29-b87440d16369",
   "metadata": {},
   "outputs": [
    {
     "name": "stdout",
     "output_type": "stream",
     "text": [
      "[[87.98217949]\n",
      " [65.98985217]\n",
      " [65.99375664]\n",
      " [87.99604191]\n",
      " [65.98985217]\n",
      " [65.9974727 ]\n",
      " [65.99375664]\n",
      " [65.99838442]\n",
      " [87.99604191]\n",
      " [65.9974727 ]\n",
      " [65.99838442]\n",
      " [87.99896428]]\n"
     ]
    }
   ],
   "source": [
    "\n",
    "x = gauss_seidel(A7, b7, [0]*len(b7), 10e-2, 300)\n",
    "print(x)\n"
   ]
  }
 ],
 "metadata": {
  "kernelspec": {
   "display_name": "Python 3",
   "language": "python",
   "name": "python3"
  },
  "language_info": {
   "codemirror_mode": {
    "name": "ipython",
    "version": 3
   },
   "file_extension": ".py",
   "mimetype": "text/x-python",
   "name": "python",
   "nbconvert_exporter": "python",
   "pygments_lexer": "ipython3",
   "version": "3.13.3"
  }
 },
 "nbformat": 4,
 "nbformat_minor": 5
}

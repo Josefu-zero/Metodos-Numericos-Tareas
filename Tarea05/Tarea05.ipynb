{
 "cells": [
  {
   "cell_type": "markdown",
   "id": "45eea02b",
   "metadata": {},
   "source": [
    "# **Escuela Politecnica Nacional** \n",
    "# **Metodos numericos**\n",
    "# **Tarea 05**\n",
    "## **Fecha:** 14/05/2025\n",
    "## **Nombres:**  Joseph Jimenez"
   ]
  },
  {
   "cell_type": "markdown",
   "id": "22044299",
   "metadata": {},
   "source": [
    "\n",
    "### Conjunto de ejercicios\n",
    "\n"
   ]
  },
  {
   "cell_type": "markdown",
   "id": "c248bb20",
   "metadata": {},
   "source": [
    "#### 1. Sea $f(x) = -x^3 - \\cos{x}$ y $p_0 = -1$. Use el método de Newton y de la Secante para encontrar $p_1$. ¿Se podría usar $p_0 = 0$?\n",
    "\n",
    "Para el método de newton, necesitamos la derivada de la función anterior. \n",
    "\n",
    "Como resultado: $f'(x) = -3x^2 + \\sin{x}$\n",
    "\n",
    "Usamos la función Newton con los parámetros que tenemos:\n"
   ]
  },
  {
   "cell_type": "code",
   "execution_count": 3,
   "id": "893166b6",
   "metadata": {},
   "outputs": [
    {
     "name": "stdout",
     "output_type": "stream",
     "text": [
      "-0.8654740331016144\n"
     ]
    }
   ],
   "source": [
    "from scipy.optimize import newton\n",
    "import math\n",
    "def fprime(x):\n",
    "    return -3*x**2 + math.sin(x)\n",
    "\n",
    "p1 = newton(func = lambda x : -x**3 - math.cos(x), x0 = -1, fprime = fprime)\n",
    "print(p1)"
   ]
  },
  {
   "cell_type": "markdown",
   "id": "5a24c98e",
   "metadata": {},
   "source": [
    "\n",
    "Para el método de la secante, no necesitamos la derivada de la función.\n"
   ]
  },
  {
   "cell_type": "code",
   "execution_count": 4,
   "id": "56871d2f",
   "metadata": {},
   "outputs": [
    {
     "name": "stdout",
     "output_type": "stream",
     "text": [
      "-0.8654740331016144\n"
     ]
    }
   ],
   "source": [
    "p1 = newton(func = lambda x : -x**3 - math.cos(x), x0 = -1)\n",
    "print(p1)"
   ]
  },
  {
   "cell_type": "markdown",
   "id": "acb3c609",
   "metadata": {},
   "source": [
    "\n",
    "Finalmente, el cero como punto aproximado es una mala elección. Para el método de newton, esto implica que en $p_0 = 0$ la derivada sea cero, algo no permitido. En la secante, este punto produce complicaciones por la presencia de multiplicaciones para cero.\n"
   ]
  },
  {
   "cell_type": "code",
   "execution_count": 5,
   "id": "68b77f85",
   "metadata": {},
   "outputs": [
    {
     "name": "stdout",
     "output_type": "stream",
     "text": [
      "-4.998000183473029e-09\n"
     ]
    }
   ],
   "source": [
    "p1 = newton(func = lambda x : -x**3 - math.cos(x), x0 = 0)\n",
    "print(p1)"
   ]
  },
  {
   "cell_type": "markdown",
   "id": "fcf814af",
   "metadata": {},
   "source": [
    "\n",
    "#### **2. Encuentre soluciones precisas dentro de $10^{-4}$ para los siguientes problemas.**\n",
    "\n",
    "**a) Para el intervalo $[1, 4]$ en la ecuación $x^3 - 2x^2 - 5 = 0$.**\n",
    "\n",
    "Usamos el método de la secante:\n"
   ]
  },
  {
   "cell_type": "code",
   "execution_count": 6,
   "id": "b6b2d9ac",
   "metadata": {},
   "outputs": [
    {
     "name": "stdout",
     "output_type": "stream",
     "text": [
      "2.6906484961992585\n"
     ]
    }
   ],
   "source": [
    "p1 = newton(func = lambda x : x**3 - 2*x**2 - 5, x0 = 1, tol = 10e-4, x1 = 4)\n",
    "print(p1)"
   ]
  },
  {
   "cell_type": "markdown",
   "id": "61cde22d",
   "metadata": {},
   "source": [
    "\n",
    "**b) Para el intervalo $[-3, -2]$ en la ecuación $x^3 + 3x^2 - 1 = 0$.**\n",
    "\n",
    "Usamos el método de la secante:\n"
   ]
  },
  {
   "cell_type": "code",
   "execution_count": 7,
   "id": "5848de9b",
   "metadata": {},
   "outputs": [
    {
     "name": "stdout",
     "output_type": "stream",
     "text": [
      "-2.879385194736809\n"
     ]
    }
   ],
   "source": [
    "p1 = newton(func = lambda x : x**3 + 3*x**2 - 1, x0 = -3, tol = 10e-4, x1 = -2)\n",
    "print(p1)"
   ]
  },
  {
   "cell_type": "markdown",
   "id": "4e7d7b6b",
   "metadata": {},
   "source": [
    "\n",
    "**c) Para el intervalo $[0, \\frac{\\pi}{2}]$ en la ecuación $x - \\cos{x} = 0$.**\n",
    "\n",
    "Usamos el método de la secante:\n"
   ]
  },
  {
   "cell_type": "code",
   "execution_count": 8,
   "id": "373bbcee",
   "metadata": {},
   "outputs": [
    {
     "name": "stdout",
     "output_type": "stream",
     "text": [
      "0.7390834365030763\n"
     ]
    }
   ],
   "source": [
    "p1 = newton(func = lambda x : x - math.cos(x), x0 = 0, tol = 10e-4, x1 = math.pi/2)\n",
    "print(p1)"
   ]
  },
  {
   "cell_type": "markdown",
   "id": "921a2128",
   "metadata": {},
   "source": [
    "**d) Para el intervalo $[0, \\frac{\\pi}{2}]$ en la ecuación $x - 0.8 - 0.2\\sin{x} = 0$.**\n",
    "\n",
    "Usamos el método de la secante:\n"
   ]
  },
  {
   "cell_type": "code",
   "execution_count": 9,
   "id": "1fd69272",
   "metadata": {},
   "outputs": [
    {
     "name": "stdout",
     "output_type": "stream",
     "text": [
      "0.9643338835706312\n"
     ]
    }
   ],
   "source": [
    "p1 = newton(func = lambda x : x - 0.8 - 0.2*math.sin(x), x0 = 0, tol = 10e-4, x1 = math.pi/2)\n",
    "print(p1)"
   ]
  },
  {
   "cell_type": "markdown",
   "id": "aae0bf0f",
   "metadata": {},
   "source": [
    "\n",
    "#### **3. Use los 2 métodos en esta sección para encontrar las soluciones dentro de $10^{-5}$ para los siguientes problemas.**\n",
    "\n",
    "**a) Para el intervalo $1 \\leq x \\leq 2$ en la ecuación $3x - e^{x} = 0$.**\n",
    "\n",
    "Calculamos la derivada de la función, tal que: $3 - e^{x}$. Utilizamos el método de newton:\n"
   ]
  },
  {
   "cell_type": "code",
   "execution_count": 10,
   "id": "5e3e6a64",
   "metadata": {},
   "outputs": [
    {
     "name": "stdout",
     "output_type": "stream",
     "text": [
      "0.6190612833553127\n"
     ]
    }
   ],
   "source": [
    "p1 = newton(func = lambda x : 3*x - math.exp(x), x0 = 1,\n",
    "           fprime = lambda x : 3 - math.exp(x), tol = 10e-5, x1 = 2)\n",
    "print(p1)"
   ]
  },
  {
   "cell_type": "markdown",
   "id": "2e3f37ee",
   "metadata": {},
   "source": [
    "\n",
    "Método de la secante:\n"
   ]
  },
  {
   "cell_type": "code",
   "execution_count": 11,
   "id": "33688ce4",
   "metadata": {},
   "outputs": [
    {
     "name": "stdout",
     "output_type": "stream",
     "text": [
      "1.5121345517620621\n"
     ]
    }
   ],
   "source": [
    "p1 = newton(func = lambda x : 3*x - math.exp(x), x0 = 1, tol = 10e-5, x1 = 2)\n",
    "print(p1)"
   ]
  },
  {
   "cell_type": "markdown",
   "id": "07869840",
   "metadata": {},
   "source": [
    "**b) Para el intervalo $1 \\leq x \\leq 2$ en la ecuación $2x + 3\\cos{x} - e^{x} = 0$.**\n",
    "\n",
    "Calculamos la derivada de la función, tal que: $2 - 3\\sin{x} - e^{x}$. Utilizamos el método de newton:\n"
   ]
  },
  {
   "cell_type": "code",
   "execution_count": 12,
   "id": "308593d5",
   "metadata": {},
   "outputs": [
    {
     "name": "stdout",
     "output_type": "stream",
     "text": [
      "1.2397146979752596\n"
     ]
    }
   ],
   "source": [
    "p1 = newton(func = lambda x : 2*x + 3*math.cos(x) - math.exp(x),\n",
    "            x0 = 1,\n",
    "           fprime = lambda x : 2 - 3*math.sin(x) - math.exp(x),\n",
    "            tol = 10e-5, x1 = 2)\n",
    "print(p1)"
   ]
  },
  {
   "cell_type": "markdown",
   "id": "f059bedd",
   "metadata": {},
   "source": [
    "\n",
    "Método de la secante:\n"
   ]
  },
  {
   "cell_type": "code",
   "execution_count": 13,
   "id": "015f4962",
   "metadata": {},
   "outputs": [
    {
     "name": "stdout",
     "output_type": "stream",
     "text": [
      "1.2397146920815107\n"
     ]
    }
   ],
   "source": [
    "\n",
    "p1 = newton(func = lambda x : 2*x + 3*math.cos(x) - math.exp(x), \n",
    "            x0 = 1, tol = 10e-5, x1 = 2)\n",
    "print(p1)\n"
   ]
  },
  {
   "cell_type": "markdown",
   "id": "3e03ac38",
   "metadata": {},
   "source": [
    "\n",
    "#### **4. El polinomio de cuarto grado**\n",
    "\n",
    "$$f(x) = 230x^4 + 18x^3 + 9x^2 - 221x - 9$$\n",
    "\n",
    "**tiene dos ceros reales, uno en $[-1, 0]$ y el otro en $[0, ]$. Intente aproximar estos ceros dentro de $10^{-6}$ con:**\n",
    "\n",
    "**a. Método de la secante**\n",
    "\n",
    "Usamos los dos extremos como aproximaciones iniciales. Para el primer intervalo $[-1, 0]$:\n"
   ]
  },
  {
   "cell_type": "code",
   "execution_count": 14,
   "id": "266b9950",
   "metadata": {},
   "outputs": [
    {
     "name": "stdout",
     "output_type": "stream",
     "text": [
      "-0.04065928497591696\n"
     ]
    }
   ],
   "source": [
    "p1 = newton(func = lambda x : 230*x**4 + 18*x**3 + 9*x**2 - 221*x - 9, \n",
    "            x0 = -1, tol = 10e-6, x1 = 0)\n",
    "print(p1)"
   ]
  },
  {
   "cell_type": "markdown",
   "id": "5a68cd63",
   "metadata": {},
   "source": [
    "Para el segundo intervalo $[0, 1]$:\n"
   ]
  },
  {
   "cell_type": "code",
   "execution_count": 15,
   "id": "5a1142bc",
   "metadata": {},
   "outputs": [
    {
     "name": "stdout",
     "output_type": "stream",
     "text": [
      "0.9623984191155153\n"
     ]
    }
   ],
   "source": [
    "p1 = newton(func = lambda x : 230*x**4 + 18*x**3 + 9*x**2 - 221*x - 9, \n",
    "            x0 = 1, tol = 10e-6)\n",
    "print(p1)"
   ]
  },
  {
   "cell_type": "markdown",
   "id": "0b777e5a",
   "metadata": {},
   "source": [
    "**Método de newton**\n",
    "\n",
    "Calculamos la derivada:\n",
    "\n",
    "$$920x^3 + 54x^2 + 18x - 221$$\n",
    "\n",
    "Para el primer intervalo $[-1, 0]$ con su mediana $-0.5$:\n"
   ]
  },
  {
   "cell_type": "code",
   "execution_count": 16,
   "id": "673983cd",
   "metadata": {},
   "outputs": [
    {
     "name": "stdout",
     "output_type": "stream",
     "text": [
      "-0.04065928831575899\n"
     ]
    }
   ],
   "source": [
    "p1 = newton(func = lambda x : 230*x**4 + 18*x**3 + 9*x**2 - 221*x - 9,\n",
    "            x0 = -0.5,\n",
    "           fprime = lambda x : 920*x**3 + 54*x**2 + 18*x -221,\n",
    "            tol = 10e-6)\n",
    "print(p1)"
   ]
  },
  {
   "cell_type": "markdown",
   "id": "6f787d49",
   "metadata": {},
   "source": [
    "Para el segundo intervalo $[0, 1]$:"
   ]
  },
  {
   "cell_type": "code",
   "execution_count": 17,
   "id": "14863de7",
   "metadata": {},
   "outputs": [
    {
     "name": "stdout",
     "output_type": "stream",
     "text": [
      "0.9623984187505414\n"
     ]
    }
   ],
   "source": [
    "p1 = newton(func = lambda x : 230*x**4 + 18*x**3 + 9*x**2 - 221*x - 9,\n",
    "            x0 = 1,\n",
    "           fprime = lambda x : 920*x**3 + 54*x**2 + 18*x -221,\n",
    "            tol = 10e-6)\n",
    "print(p1)"
   ]
  },
  {
   "cell_type": "markdown",
   "id": "0d16cf0f",
   "metadata": {},
   "source": [
    "\n",
    "#### **5. La función $f(x) = \\tan{\\pi x} - 6$ tiene cero en $(\\frac{1}{\\pi})$ arcotangente $6 \\approx 0.447431543$. Sea $p_0 = 0$ y $p_1 = 0.48$ y use 10 iteraciones en cada uno de los siguientes métodos para aproximar esta raíz. ¿Cuál método es más eficaz y por qué?**\n",
    "\n",
    "**Método de la Bisección**\n",
    "\n",
    "Usaremos el código de la asignación anterior:\n"
   ]
  },
  {
   "cell_type": "code",
   "execution_count": 18,
   "id": "6c022c6d",
   "metadata": {},
   "outputs": [],
   "source": [
    "def sign(x: float) -> int:\n",
    "    if x > 0:\n",
    "        return 1\n",
    "    elif x < 0:\n",
    "        return -1\n",
    "    else:\n",
    "        return 0\n",
    "    \n",
    "from typing import Callable\n",
    "\n",
    "def bisection(\n",
    "    a: float, b: float, *, equation: Callable[[float], float], N: int\n",
    ") -> tuple[float, int] | None:\n",
    "    i = 1\n",
    "    \n",
    "    assert a < b, \"a not lower than b, the interval is not valid.\"\n",
    "\n",
    "    assert (\n",
    "        equation(a) * equation(b) < 0\n",
    "    ), \"The function does not change sign over the interval.\"\n",
    "\n",
    "    Fa = equation(a)\n",
    "    p = a \n",
    "    for i in range(N + 1):\n",
    "        p = a + (b - a) / 2\n",
    "        FP = equation(p)\n",
    "        \n",
    "        if sign(Fa) * sign(FP) > 0:\n",
    "            a = p\n",
    "            Fa = FP\n",
    "            \n",
    "        else:\n",
    "            b = p\n",
    "\n",
    "    return p, i"
   ]
  },
  {
   "cell_type": "markdown",
   "id": "867071b9",
   "metadata": {},
   "source": [
    "\n",
    "Usamos el método con los valores propuestos:\n"
   ]
  },
  {
   "cell_type": "code",
   "execution_count": 19,
   "id": "648e6229",
   "metadata": {},
   "outputs": [
    {
     "name": "stdout",
     "output_type": "stream",
     "text": [
      "Raíz resultante: 0.44742187499999997 en 10 iteraciones\n"
     ]
    }
   ],
   "source": [
    "p, i = bisection(a = 0, b = 0.48, \n",
    "                 equation =  lambda x : math.tan(math.pi*x) - 6,\n",
    "                N = 10)\n",
    "print(f\"Raíz resultante: {p} en {i} iteraciones\")"
   ]
  },
  {
   "cell_type": "markdown",
   "id": "ea454ab6",
   "metadata": {},
   "source": [
    "\n",
    "**Método de Newton**\n",
    "\n",
    "Para este caso, necesitamos la derivada\n",
    "\n",
    "$$\\pi \\sec^2{\\pi x}$$\n",
    "\n",
    "Usamos el algoritmo:"
   ]
  },
  {
   "cell_type": "code",
   "execution_count": 20,
   "id": "89a25a86",
   "metadata": {},
   "outputs": [
    {
     "ename": "RuntimeError",
     "evalue": "Failed to converge after 10 iterations, value is 13.655012218324751.",
     "output_type": "error",
     "traceback": [
      "\u001b[31m---------------------------------------------------------------------------\u001b[39m",
      "\u001b[31mRuntimeError\u001b[39m                              Traceback (most recent call last)",
      "\u001b[36mCell\u001b[39m\u001b[36m \u001b[39m\u001b[32mIn[20]\u001b[39m\u001b[32m, line 1\u001b[39m\n\u001b[32m----> \u001b[39m\u001b[32m1\u001b[39m p1 = \u001b[43mnewton\u001b[49m\u001b[43m(\u001b[49m\u001b[43mfunc\u001b[49m\u001b[43m \u001b[49m\u001b[43m=\u001b[49m\u001b[43m \u001b[49m\u001b[38;5;28;43;01mlambda\u001b[39;49;00m\u001b[43m \u001b[49m\u001b[43mx\u001b[49m\u001b[43m \u001b[49m\u001b[43m:\u001b[49m\u001b[43m \u001b[49m\u001b[43mmath\u001b[49m\u001b[43m.\u001b[49m\u001b[43mtan\u001b[49m\u001b[43m(\u001b[49m\u001b[43mmath\u001b[49m\u001b[43m.\u001b[49m\u001b[43mpi\u001b[49m\u001b[43m*\u001b[49m\u001b[43mx\u001b[49m\u001b[43m)\u001b[49m\u001b[43m \u001b[49m\u001b[43m-\u001b[49m\u001b[43m \u001b[49m\u001b[32;43m6\u001b[39;49m\u001b[43m,\u001b[49m\n\u001b[32m      2\u001b[39m \u001b[43m            \u001b[49m\u001b[43mx0\u001b[49m\u001b[43m \u001b[49m\u001b[43m=\u001b[49m\u001b[43m \u001b[49m\u001b[32;43m0\u001b[39;49m\u001b[43m,\u001b[49m\n\u001b[32m      3\u001b[39m \u001b[43m           \u001b[49m\u001b[43mfprime\u001b[49m\u001b[43m \u001b[49m\u001b[43m=\u001b[49m\u001b[43m \u001b[49m\u001b[38;5;28;43;01mlambda\u001b[39;49;00m\u001b[43m \u001b[49m\u001b[43mx\u001b[49m\u001b[43m \u001b[49m\u001b[43m:\u001b[49m\u001b[43m \u001b[49m\u001b[43mmath\u001b[49m\u001b[43m.\u001b[49m\u001b[43mpi\u001b[49m\u001b[43m*\u001b[49m\u001b[43m(\u001b[49m\u001b[32;43m1\u001b[39;49m\u001b[43m/\u001b[49m\u001b[43mmath\u001b[49m\u001b[43m.\u001b[49m\u001b[43mcos\u001b[49m\u001b[43m(\u001b[49m\u001b[43mmath\u001b[49m\u001b[43m.\u001b[49m\u001b[43mpi\u001b[49m\u001b[43m*\u001b[49m\u001b[43mx\u001b[49m\u001b[43m)\u001b[49m\u001b[43m)\u001b[49m\u001b[43m*\u001b[49m\u001b[43m*\u001b[49m\u001b[32;43m2\u001b[39;49m\u001b[43m,\u001b[49m\n\u001b[32m      4\u001b[39m \u001b[43m           \u001b[49m\u001b[43mmaxiter\u001b[49m\u001b[43m \u001b[49m\u001b[43m=\u001b[49m\u001b[43m \u001b[49m\u001b[32;43m10\u001b[39;49m\u001b[43m,\u001b[49m\u001b[43m \u001b[49m\u001b[43mx1\u001b[49m\u001b[43m \u001b[49m\u001b[43m=\u001b[49m\u001b[43m \u001b[49m\u001b[32;43m0.48\u001b[39;49m\u001b[43m)\u001b[49m\n\u001b[32m      5\u001b[39m \u001b[38;5;28mprint\u001b[39m(p1)\n",
      "\u001b[36mFile \u001b[39m\u001b[32mc:\\Users\\andyj\\AppData\\Local\\Programs\\Python\\Python313\\Lib\\site-packages\\scipy\\optimize\\_zeros_py.py:391\u001b[39m, in \u001b[36mnewton\u001b[39m\u001b[34m(func, x0, fprime, args, tol, maxiter, fprime2, x1, rtol, full_output, disp)\u001b[39m\n\u001b[32m    388\u001b[39m \u001b[38;5;28;01mif\u001b[39;00m disp:\n\u001b[32m    389\u001b[39m     msg = (\u001b[33m\"\u001b[39m\u001b[33mFailed to converge after \u001b[39m\u001b[38;5;132;01m%d\u001b[39;00m\u001b[33m iterations, value is \u001b[39m\u001b[38;5;132;01m%s\u001b[39;00m\u001b[33m.\u001b[39m\u001b[33m\"\u001b[39m\n\u001b[32m    390\u001b[39m            % (itr + \u001b[32m1\u001b[39m, p))\n\u001b[32m--> \u001b[39m\u001b[32m391\u001b[39m     \u001b[38;5;28;01mraise\u001b[39;00m \u001b[38;5;167;01mRuntimeError\u001b[39;00m(msg)\n\u001b[32m    393\u001b[39m \u001b[38;5;28;01mreturn\u001b[39;00m _results_select(full_output, (p, funcalls, itr + \u001b[32m1\u001b[39m, _ECONVERR), method)\n",
      "\u001b[31mRuntimeError\u001b[39m: Failed to converge after 10 iterations, value is 13.655012218324751."
     ]
    }
   ],
   "source": [
    "p1 = newton(func = lambda x : math.tan(math.pi*x) - 6,\n",
    "            x0 = 0,\n",
    "           fprime = lambda x : math.pi*(1/math.cos(math.pi*x))**2,\n",
    "           maxiter = 10, x1 = 0.48)\n",
    "print(p1)"
   ]
  },
  {
   "cell_type": "markdown",
   "id": "4733ad02",
   "metadata": {},
   "source": [
    "\n",
    "Uno de los errores es la pendiente que tiende a converger hacia los valores mínimos.\n",
    "\n",
    "**Método de la Secante**\n",
    "\n",
    "Usamos el algoritmo con los parámetros:\n"
   ]
  },
  {
   "cell_type": "code",
   "execution_count": null,
   "id": "ea1c5c16",
   "metadata": {},
   "outputs": [
    {
     "ename": "RuntimeError",
     "evalue": "Failed to converge after 10 iterations, value is -3694.358600967476.",
     "output_type": "error",
     "traceback": [
      "\u001b[31m---------------------------------------------------------------------------\u001b[39m",
      "\u001b[31mRuntimeError\u001b[39m                              Traceback (most recent call last)",
      "\u001b[36mCell\u001b[39m\u001b[36m \u001b[39m\u001b[32mIn[20]\u001b[39m\u001b[32m, line 1\u001b[39m\n\u001b[32m----> \u001b[39m\u001b[32m1\u001b[39m p1 = \u001b[43mnewton\u001b[49m\u001b[43m(\u001b[49m\u001b[43mfunc\u001b[49m\u001b[43m \u001b[49m\u001b[43m=\u001b[49m\u001b[43m \u001b[49m\u001b[38;5;28;43;01mlambda\u001b[39;49;00m\u001b[43m \u001b[49m\u001b[43mx\u001b[49m\u001b[43m \u001b[49m\u001b[43m:\u001b[49m\u001b[43m \u001b[49m\u001b[43mmath\u001b[49m\u001b[43m.\u001b[49m\u001b[43mtan\u001b[49m\u001b[43m(\u001b[49m\u001b[43mmath\u001b[49m\u001b[43m.\u001b[49m\u001b[43mpi\u001b[49m\u001b[43m*\u001b[49m\u001b[43mx\u001b[49m\u001b[43m)\u001b[49m\u001b[43m \u001b[49m\u001b[43m-\u001b[49m\u001b[43m \u001b[49m\u001b[32;43m6\u001b[39;49m\u001b[43m,\u001b[49m\n\u001b[32m      2\u001b[39m \u001b[43m            \u001b[49m\u001b[43mx0\u001b[49m\u001b[43m \u001b[49m\u001b[43m=\u001b[49m\u001b[43m \u001b[49m\u001b[32;43m0\u001b[39;49m\u001b[43m,\u001b[49m\u001b[43m \u001b[49m\u001b[43mmaxiter\u001b[49m\u001b[43m \u001b[49m\u001b[43m=\u001b[49m\u001b[43m \u001b[49m\u001b[32;43m10\u001b[39;49m\u001b[43m,\u001b[49m\u001b[43m \u001b[49m\u001b[43mx1\u001b[49m\u001b[43m \u001b[49m\u001b[43m=\u001b[49m\u001b[43m \u001b[49m\u001b[32;43m0.48\u001b[39;49m\u001b[43m)\u001b[49m\n\u001b[32m      3\u001b[39m \u001b[38;5;28mprint\u001b[39m(p1)\n",
      "\u001b[36mFile \u001b[39m\u001b[32mc:\\Users\\andyj\\AppData\\Local\\Programs\\Python\\Python313\\Lib\\site-packages\\scipy\\optimize\\_zeros_py.py:391\u001b[39m, in \u001b[36mnewton\u001b[39m\u001b[34m(func, x0, fprime, args, tol, maxiter, fprime2, x1, rtol, full_output, disp)\u001b[39m\n\u001b[32m    388\u001b[39m \u001b[38;5;28;01mif\u001b[39;00m disp:\n\u001b[32m    389\u001b[39m     msg = (\u001b[33m\"\u001b[39m\u001b[33mFailed to converge after \u001b[39m\u001b[38;5;132;01m%d\u001b[39;00m\u001b[33m iterations, value is \u001b[39m\u001b[38;5;132;01m%s\u001b[39;00m\u001b[33m.\u001b[39m\u001b[33m\"\u001b[39m\n\u001b[32m    390\u001b[39m            % (itr + \u001b[32m1\u001b[39m, p))\n\u001b[32m--> \u001b[39m\u001b[32m391\u001b[39m     \u001b[38;5;28;01mraise\u001b[39;00m \u001b[38;5;167;01mRuntimeError\u001b[39;00m(msg)\n\u001b[32m    393\u001b[39m \u001b[38;5;28;01mreturn\u001b[39;00m _results_select(full_output, (p, funcalls, itr + \u001b[32m1\u001b[39m, _ECONVERR), method)\n",
      "\u001b[31mRuntimeError\u001b[39m: Failed to converge after 10 iterations, value is -3694.358600967476."
     ]
    }
   ],
   "source": [
    "p1 = newton(func = lambda x : math.tan(math.pi*x) - 6,\n",
    "            x0 = 0, maxiter = 10, x1 = 0.48)\n",
    "print(p1)"
   ]
  },
  {
   "cell_type": "markdown",
   "id": "58ca5f47",
   "metadata": {},
   "source": [
    "\n",
    "En conclusión, el método de bisección resulta más efectivo para hallar raíces en esta función, ya que garantiza convergencia dentro del intervalo dado, a diferencia de los otros métodos que son sensibles a la pendiente y pueden diverger. Además, la discontinuidad de la función en los reales limita la aplicabilidad de técnicas que requieren continuidad, reforzando la utilidad del método de bisección en este caso particular.\n",
    "\n",
    "#### **6. La función descrita por $f(x) = \\ln{(x^2 + 1)} - e^{0.4x}\\cos{\\pi x}$ tiene un número infinito de ceros.**\n",
    "\n",
    "**a) Determine, dentro de $10^{-6}$, el único cero negativo.**\n",
    "\n",
    "Usamos el método de secante:\n"
   ]
  },
  {
   "cell_type": "code",
   "execution_count": null,
   "id": "0deb2517",
   "metadata": {},
   "outputs": [
    {
     "name": "stdout",
     "output_type": "stream",
     "text": [
      "-0.43414304724770203\n"
     ]
    }
   ],
   "source": [
    "p1 = newton(func = lambda x : math.log(x**2 + 1) - math.exp(0.4*x)*math.cos(math.pi*x),\n",
    "            x0 = -0.4, tol = 10e-6)\n",
    "print(p1)"
   ]
  },
  {
   "cell_type": "markdown",
   "id": "d17ed4d9",
   "metadata": {},
   "source": [
    "**b) Determine, dentro de $10^{-6}$, los cuatro ceros positivos más pequeños.**\n",
    "\n",
    "Usamos el método de secante:\n"
   ]
  },
  {
   "cell_type": "code",
   "execution_count": null,
   "id": "ca375c6c",
   "metadata": {},
   "outputs": [
    {
     "name": "stdout",
     "output_type": "stream",
     "text": [
      "0.4506567478906115\n"
     ]
    }
   ],
   "source": [
    "p1 = newton(func = lambda x : math.log(x**2 + 1) - math.exp(0.4*x)*math.cos(math.pi*x),\n",
    "            x0 = 0.5, tol = 10e-6)\n",
    "print(p1)"
   ]
  },
  {
   "cell_type": "code",
   "execution_count": null,
   "id": "08f4225d",
   "metadata": {},
   "outputs": [
    {
     "name": "stdout",
     "output_type": "stream",
     "text": [
      "1.7447380533760186\n"
     ]
    }
   ],
   "source": [
    "p1 = newton(func = lambda x : math.log(x**2 + 1) - math.exp(0.4*x)*math.cos(math.pi*x),\n",
    "            x0 = 1.5, tol = 10e-6)\n",
    "print(p1)"
   ]
  },
  {
   "cell_type": "code",
   "execution_count": null,
   "id": "9991e761",
   "metadata": {},
   "outputs": [
    {
     "name": "stdout",
     "output_type": "stream",
     "text": [
      "2.238319795077607\n"
     ]
    }
   ],
   "source": [
    "p1 = newton(func = lambda x : math.log(x**2 + 1) - math.exp(0.4*x)*math.cos(math.pi*x),\n",
    "            x0 = 2.5, tol = 10e-6)\n",
    "print(p1)"
   ]
  },
  {
   "cell_type": "code",
   "execution_count": null,
   "id": "d60b65fa",
   "metadata": {},
   "outputs": [
    {
     "name": "stdout",
     "output_type": "stream",
     "text": [
      "3.709041201416693\n"
     ]
    }
   ],
   "source": [
    "p1 = newton(func = lambda x : math.log(x**2 + 1) - math.exp(0.4*x)*math.cos(math.pi*x),\n",
    "            x0 = 3.5, tol = 10e-6)\n",
    "print(p1)"
   ]
  },
  {
   "cell_type": "markdown",
   "id": "5761d812",
   "metadata": {},
   "source": [
    "\n",
    "**c)Determine una aproximación inicial razonable para encontrar el enésimo cero positivo más pequeño de $f$.**\n",
    "\n",
    "Para este literal, se necesitó de unan gráfica, hecha en Geogebra.\n",
    "\n",
    "![Gráfica estimada de la función](img2.png)\n",
    "\n",
    "Existen infinitas raíces positivas según el gráfico, la función tiene una forma de onda que va creciendo mientras x avanza. Necesitaríamos verlo más cerca.\n",
    "\n",
    "![Parte pequeña de la gráfica de la función](img1.png)\n",
    "\n",
    "En la imagen, podemos observar que las raíces tienden a estar cerca de un número entero + 0.5 infinitamente, por lo que podemos usar esto como punto de aproximación para encontrar la enésima raíz de esta función. La fórmula propuesta para encontrar la enésima raíz de la función es:\n",
    "\n",
    "$$n - 0.5$$\n",
    "\n",
    "Tal que $n$ representa una aproximación a la enésima raíz positiva, para $n \\in \\mathbb{N} - \\{0\\}$.\n",
    "\n",
    "**d)Use la parte c) para determinar, dentro de $10^{-6}$, el vigesimoquinto (25) cero positivo más pequeño de $f$.**\n",
    "\n",
    "Usamos la fórmula $n - 0.5$ con $n = 25$, tal que $(25) - 0.5 = 24.5$.\n",
    "\n",
    "El resultado lo empleamos como parámetro en el método de la secante:\n"
   ]
  },
  {
   "cell_type": "code",
   "execution_count": null,
   "id": "7740d44a",
   "metadata": {},
   "outputs": [
    {
     "name": "stdout",
     "output_type": "stream",
     "text": [
      "24.49988704757148\n"
     ]
    }
   ],
   "source": [
    "p1 = newton(func = lambda x : math.log(x**2 + 1) - math.exp(0.4*x)*math.cos(math.pi*x),\n",
    "            x0 = 24.5, tol = 10e-6)\n",
    "print(p1)"
   ]
  },
  {
   "cell_type": "markdown",
   "id": "47179416",
   "metadata": {},
   "source": [
    "**7. La función $f(x) = x^{\\frac{1}{3}}$ tiene raíz en $x = 0$.Usando el punto de inicio de $x = 1$ y $p_0 = 5$, $p_1 = 0.5$ para el método de secante, compare los resultados de los métodos de la secante y de Newton.**\n",
    "\n",
    "Para el método de newton, su derivada es: $\\frac{1}{3x^{\\frac{2}{3}}}$. Junto con los parámetros dados, llamados a la función de Newton\n"
   ]
  },
  {
   "cell_type": "code",
   "execution_count": null,
   "id": "3bbeaa44",
   "metadata": {},
   "outputs": [
    {
     "name": "stderr",
     "output_type": "stream",
     "text": [
      "C:\\Users\\DyS\\AppData\\Local\\Temp\\ipykernel_500\\3932985158.py:1: RuntimeWarning: invalid value encountered in scalar power\n",
      "  p1 = newton(func = lambda x : x**(1/3), x0 = 1,\n",
      "C:\\Users\\DyS\\AppData\\Local\\Temp\\ipykernel_500\\3932985158.py:2: RuntimeWarning: invalid value encountered in scalar power\n",
      "  fprime = lambda x : 1 / (3*x**(2/3)))\n"
     ]
    },
    {
     "ename": "RuntimeError",
     "evalue": "Failed to converge after 50 iterations, value is nan.",
     "output_type": "error",
     "traceback": [
      "\u001b[1;31m---------------------------------------------------------------------------\u001b[0m\n",
      "\u001b[1;31mRuntimeError\u001b[0m                              Traceback (most recent call last)\n",
      "Cell \u001b[1;32mIn[337], line 1\u001b[0m\n",
      "\u001b[1;32m----> 1\u001b[0m p1 \u001b[38;5;241m=\u001b[39m newton(func \u001b[38;5;241m=\u001b[39m \u001b[38;5;28;01mlambda\u001b[39;00m x : x\u001b[38;5;241m*\u001b[39m\u001b[38;5;241m*\u001b[39m(\u001b[38;5;241m1\u001b[39m\u001b[38;5;241m/\u001b[39m\u001b[38;5;241m3\u001b[39m), x0 \u001b[38;5;241m=\u001b[39m \u001b[38;5;241m1\u001b[39m,\n",
      "\u001b[0;32m      2\u001b[0m             fprime \u001b[38;5;241m=\u001b[39m \u001b[38;5;28;01mlambda\u001b[39;00m x : \u001b[38;5;241m1\u001b[39m \u001b[38;5;241m/\u001b[39m (\u001b[38;5;241m3\u001b[39m\u001b[38;5;241m*\u001b[39mx\u001b[38;5;241m*\u001b[39m\u001b[38;5;241m*\u001b[39m(\u001b[38;5;241m2\u001b[39m\u001b[38;5;241m/\u001b[39m\u001b[38;5;241m3\u001b[39m)))\n",
      "\u001b[0;32m      3\u001b[0m \u001b[38;5;28mprint\u001b[39m(p1)\n",
      "\n",
      "File \u001b[1;32m~\\anaconda3\\Lib\\site-packages\\scipy\\optimize\\_zeros_py.py:384\u001b[0m, in \u001b[0;36mnewton\u001b[1;34m(func, x0, fprime, args, tol, maxiter, fprime2, x1, rtol, full_output, disp)\u001b[0m\n",
      "\u001b[0;32m    381\u001b[0m \u001b[38;5;28;01mif\u001b[39;00m disp:\n",
      "\u001b[0;32m    382\u001b[0m     msg \u001b[38;5;241m=\u001b[39m (\u001b[38;5;124m\"\u001b[39m\u001b[38;5;124mFailed to converge after \u001b[39m\u001b[38;5;132;01m%d\u001b[39;00m\u001b[38;5;124m iterations, value is \u001b[39m\u001b[38;5;132;01m%s\u001b[39;00m\u001b[38;5;124m.\u001b[39m\u001b[38;5;124m\"\u001b[39m\n",
      "\u001b[0;32m    383\u001b[0m            \u001b[38;5;241m%\u001b[39m (itr \u001b[38;5;241m+\u001b[39m \u001b[38;5;241m1\u001b[39m, p))\n",
      "\u001b[1;32m--> 384\u001b[0m     \u001b[38;5;28;01mraise\u001b[39;00m \u001b[38;5;167;01mRuntimeError\u001b[39;00m(msg)\n",
      "\u001b[0;32m    386\u001b[0m \u001b[38;5;28;01mreturn\u001b[39;00m _results_select(full_output, (p, funcalls, itr \u001b[38;5;241m+\u001b[39m \u001b[38;5;241m1\u001b[39m, _ECONVERR))\n",
      "\n",
      "\u001b[1;31mRuntimeError\u001b[0m: Failed to converge after 50 iterations, value is nan."
     ]
    }
   ],
   "source": [
    "p1 = newton(func = lambda x : x**(1/3), x0 = 1,\n",
    "            fprime = lambda x : 1 / (3*x**(2/3)))\n",
    "print(p1)"
   ]
  },
  {
   "cell_type": "markdown",
   "id": "ea0fdea4",
   "metadata": {},
   "source": [
    "\n",
    "Para el método de la secante, solo usamos los parámetros dados:\n"
   ]
  },
  {
   "cell_type": "code",
   "execution_count": null,
   "id": "65949ccc",
   "metadata": {},
   "outputs": [
    {
     "name": "stderr",
     "output_type": "stream",
     "text": [
      "C:\\Users\\DyS\\AppData\\Local\\Temp\\ipykernel_500\\4142060945.py:1: RuntimeWarning: invalid value encountered in scalar power\n",
      "  p1 = newton(func = lambda x : x**(1/3) + 1, x0 = 1)\n"
     ]
    },
    {
     "ename": "RuntimeError",
     "evalue": "Failed to converge after 50 iterations, value is nan.",
     "output_type": "error",
     "traceback": [
      "\u001b[1;31m---------------------------------------------------------------------------\u001b[0m\n",
      "\u001b[1;31mRuntimeError\u001b[0m                              Traceback (most recent call last)\n",
      "Cell \u001b[1;32mIn[340], line 1\u001b[0m\n",
      "\u001b[1;32m----> 1\u001b[0m p1 \u001b[38;5;241m=\u001b[39m newton(func \u001b[38;5;241m=\u001b[39m \u001b[38;5;28;01mlambda\u001b[39;00m x : x\u001b[38;5;241m*\u001b[39m\u001b[38;5;241m*\u001b[39m(\u001b[38;5;241m1\u001b[39m\u001b[38;5;241m/\u001b[39m\u001b[38;5;241m3\u001b[39m) \u001b[38;5;241m+\u001b[39m \u001b[38;5;241m1\u001b[39m, x0 \u001b[38;5;241m=\u001b[39m \u001b[38;5;241m1\u001b[39m)\n",
      "\u001b[0;32m      2\u001b[0m \u001b[38;5;28mprint\u001b[39m(p1)\n",
      "\n",
      "File \u001b[1;32m~\\anaconda3\\Lib\\site-packages\\scipy\\optimize\\_zeros_py.py:384\u001b[0m, in \u001b[0;36mnewton\u001b[1;34m(func, x0, fprime, args, tol, maxiter, fprime2, x1, rtol, full_output, disp)\u001b[0m\n",
      "\u001b[0;32m    381\u001b[0m \u001b[38;5;28;01mif\u001b[39;00m disp:\n",
      "\u001b[0;32m    382\u001b[0m     msg \u001b[38;5;241m=\u001b[39m (\u001b[38;5;124m\"\u001b[39m\u001b[38;5;124mFailed to converge after \u001b[39m\u001b[38;5;132;01m%d\u001b[39;00m\u001b[38;5;124m iterations, value is \u001b[39m\u001b[38;5;132;01m%s\u001b[39;00m\u001b[38;5;124m.\u001b[39m\u001b[38;5;124m\"\u001b[39m\n",
      "\u001b[0;32m    383\u001b[0m            \u001b[38;5;241m%\u001b[39m (itr \u001b[38;5;241m+\u001b[39m \u001b[38;5;241m1\u001b[39m, p))\n",
      "\u001b[1;32m--> 384\u001b[0m     \u001b[38;5;28;01mraise\u001b[39;00m \u001b[38;5;167;01mRuntimeError\u001b[39;00m(msg)\n",
      "\u001b[0;32m    386\u001b[0m \u001b[38;5;28;01mreturn\u001b[39;00m _results_select(full_output, (p, funcalls, itr \u001b[38;5;241m+\u001b[39m \u001b[38;5;241m1\u001b[39m, _ECONVERR))\n",
      "\n",
      "\u001b[1;31mRuntimeError\u001b[0m: Failed to converge after 50 iterations, value is nan."
     ]
    }
   ],
   "source": [
    "p1 = newton(func = lambda x : x**(1/3) + 1, x0 = 1)\n",
    "print(p1)"
   ]
  },
  {
   "cell_type": "markdown",
   "id": "fa940a8b",
   "metadata": {},
   "source": [
    "En el caso de los dos, existe el error de no convergencia, dado por el cero. \n",
    "Ademas, la raíz tiene una pendiente igual a cero 0.\n"
   ]
  }
 ],
 "metadata": {
  "kernelspec": {
   "display_name": "Python 3",
   "language": "python",
   "name": "python3"
  },
  "language_info": {
   "codemirror_mode": {
    "name": "ipython",
    "version": 3
   },
   "file_extension": ".py",
   "mimetype": "text/x-python",
   "name": "python",
   "nbconvert_exporter": "python",
   "pygments_lexer": "ipython3",
   "version": "3.13.3"
  }
 },
 "nbformat": 4,
 "nbformat_minor": 5
}

{
 "cells": [
  {
   "cell_type": "markdown",
   "id": "b0f8795c",
   "metadata": {},
   "source": [
    "# **Escuela Politecnica Nacional** \n",
    "# **Metodos Numericos**\n",
    "# **Tarea 08**\n",
    "## **Fecha:** 11/06/2025\n",
    "## **Nombre:**  Joseph Jimenez"
   ]
  },
  {
   "cell_type": "code",
   "execution_count": null,
   "id": "a39c99c1",
   "metadata": {},
   "outputs": [],
   "source": []
  }
 ],
 "metadata": {
  "kernelspec": {
   "display_name": ".venv",
   "language": "python",
   "name": "python3"
  },
  "language_info": {
   "codemirror_mode": {
    "name": "ipython",
    "version": 3
   },
   "file_extension": ".py",
   "mimetype": "text/x-python",
   "name": "python",
   "nbconvert_exporter": "python",
   "pygments_lexer": "ipython3",
   "version": "3.11.9"
  }
 },
 "nbformat": 4,
 "nbformat_minor": 5
}

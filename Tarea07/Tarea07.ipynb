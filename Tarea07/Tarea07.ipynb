{
 "cells": [
  {
   "cell_type": "markdown",
   "id": "ffcf67dd",
   "metadata": {},
   "source": [
    "# **Escuela Politecnica Nacional** \n",
    "# **Metodos Numericos**\n",
    "# **Tarea 07**\n",
    "## **Fecha:** 11/06/2025\n",
    "## **Nombre:**  Joseph Jimenez"
   ]
  },
  {
   "cell_type": "markdown",
   "id": "b9738b74",
   "metadata": {},
   "source": [
    "**1. Dados los puntos (0,1),(1,5),(2,3), determine el spline cúbico.**\n"
   ]
  },
  {
   "cell_type": "code",
   "execution_count": null,
   "id": "13ab0639",
   "metadata": {},
   "outputs": [],
   "source": []
  },
  {
   "cell_type": "markdown",
   "id": "a496597f",
   "metadata": {},
   "source": [
    "**2. Dados los puntos (−1,1),(1,3), determine el spline cúbico sabiendo que $𝑓′(𝑥_0)=1,𝑓′(𝑥_𝑛)=2$.**"
   ]
  },
  {
   "cell_type": "code",
   "execution_count": null,
   "id": "03f3b5a0",
   "metadata": {},
   "outputs": [],
   "source": []
  },
  {
   "cell_type": "markdown",
   "id": "e6fd12a4",
   "metadata": {},
   "source": [
    "**3. Diríjase al pseudocódigo del spline cúbico con frontera natural provisto en clase, en base a ese pseudocódigo complete la siguiente función:**"
   ]
  },
  {
   "cell_type": "code",
   "execution_count": 15,
   "id": "3bb3c7d1",
   "metadata": {},
   "outputs": [],
   "source": [
    "import sympy as sym\n",
    "from IPython.display import display\n",
    "\n",
    "\n",
    "# ###################################################################\n",
    "def cubic_spline(xs: list[float], ys: list[float]) -> list[sym.Symbol]:\n",
    "    \"\"\"\n",
    "    Cubic spline interpolation ``S``. Every two points are interpolated by a cubic polynomial\n",
    "    ``S_j`` of the form ``S_j(x) = a_j + b_j(x - x_j) + c_j(x - x_j)^2 + d_j(x - x_j)^3.``\n",
    "\n",
    "    xs must be different  but not necessarily ordered nor equally spaced.\n",
    "\n",
    "    ## Parameters\n",
    "    - xs, ys: points to be interpolated\n",
    "\n",
    "    ## Return\n",
    "    - List of symbolic expressions for the cubic spline interpolation.\n",
    "    \"\"\"\n",
    "\n",
    "    points = sorted(zip(xs, ys), key=lambda x: x[0])  # sort points by x\n",
    "\n",
    "    xs = [x for x, _ in points]\n",
    "    ys = [y for _, y in points]\n",
    "\n",
    "    n = len(points) - 1  # number of splines\n",
    "\n",
    "    h = [xs[i + 1] - xs[i] for i in range(n)]  # distances between  contiguous xs\n",
    "\n",
    "    alpha = [0] * (n + 1)  # coefficients for the tridiagonal system\n",
    "    for i in range(1, n):\n",
    "        alpha[i] = 3 / h[i] * (ys[i + 1] - ys[i]) - 3 / h[i - 1] * (ys[i] - ys[i - 1])\n",
    "\n",
    "    l = [1]\n",
    "    u = [0]\n",
    "    z = [0]\n",
    "\n",
    "    for i in range(1, n):\n",
    "        l += [2 * (xs[i + 1] - xs[i - 1]) - h[i - 1] * u[i - 1]]\n",
    "        u += [h[i] / l[i]]\n",
    "        z += [(alpha[i]-h[i-1]*z[i-1])/l[i]]\n",
    "\n",
    "    l.append(1)\n",
    "    z.append(0)\n",
    "    c = [0] * (n + 1)\n",
    "\n",
    "    x = sym.Symbol(\"x\")\n",
    "    splines = []\n",
    "    for j in range(n - 1, -1, -1):\n",
    "        c[j] = z[j] - u[j] * c[j + 1]\n",
    "        b = (ys[j + 1] - ys[j]) / h[j] - h[j] * (c[j + 1] + 2 * c[j]) / 3\n",
    "        d = (c[j + 1] - c[j]) / (3 * h[j])\n",
    "        a = ys[j]\n",
    "\n",
    "        print(j, a, b, c[j], d)\n",
    "        S= a + b * (x - xs[j]) + c[j] * (x - xs[j])**2 + d * (x - xs[j])**3\n",
    "        splines.append(S)\n",
    "    splines.reverse()\n",
    "    return splines"
   ]
  },
  {
   "cell_type": "code",
   "execution_count": 16,
   "id": "220afd3e",
   "metadata": {},
   "outputs": [
    {
     "name": "stdout",
     "output_type": "stream",
     "text": [
      "1 5 1.0 -4.5 1.5\n",
      "0 1 5.5 0.0 -1.5\n"
     ]
    },
    {
     "data": {
      "text/latex": [
       "$\\displaystyle - 1.5 x^{3} + 5.5 x + 1$"
      ],
      "text/plain": [
       "-1.5*x**3 + 5.5*x + 1"
      ]
     },
     "metadata": {},
     "output_type": "display_data"
    },
    {
     "data": {
      "text/latex": [
       "$\\displaystyle 1.0 x + 1.5 \\left(x - 1\\right)^{3} - 4.5 \\left(x - 1\\right)^{2} + 4.0$"
      ],
      "text/plain": [
       "1.0*x + 1.5*(x - 1)**3 - 4.5*(x - 1)**2 + 4.0"
      ]
     },
     "metadata": {},
     "output_type": "display_data"
    },
    {
     "name": "stdout",
     "output_type": "stream",
     "text": [
      "______\n"
     ]
    },
    {
     "data": {
      "text/latex": [
       "$\\displaystyle - 1.5 x^{3} + 5.5 x + 1$"
      ],
      "text/plain": [
       "-1.5*x**3 + 5.5*x + 1"
      ]
     },
     "metadata": {},
     "output_type": "display_data"
    },
    {
     "data": {
      "text/latex": [
       "$\\displaystyle 1.5 x^{3} - 9.0 x^{2} + 14.5 x - 2.0$"
      ],
      "text/plain": [
       "1.5*x**3 - 9.0*x**2 + 14.5*x - 2.0"
      ]
     },
     "metadata": {},
     "output_type": "display_data"
    },
    {
     "data": {
      "image/png": "[encoded data removed]",
      "text/plain": [
       "<Figure size 640x480 with 1 Axes>"
      ]
     },
     "metadata": {},
     "output_type": "display_data"
    }
   ],
   "source": [
    "import numpy as np\n",
    "\n",
    "xs = [0, 1, 2]\n",
    "ys = [1, 5, 3]\n",
    "\n",
    "splines = cubic_spline(xs=xs, ys=ys)\n",
    "_ = [display(s) for s in splines]\n",
    "print(\"______\")\n",
    "_ = [display(s.expand()) for s in splines]\n",
    "\n",
    "import matplotlib.pyplot as plt\n",
    "\n",
    "x_vals = np.linspace(min(xs), max(xs), 200)\n",
    "y_vals = np.zeros_like(x_vals)\n",
    "\n",
    "for i, S in enumerate(splines):\n",
    "    # Each spline is valid in [xs[i], xs[i+1]]\n",
    "    mask = (x_vals >= xs[i]) & (x_vals <= xs[i+1])\n",
    "    y_vals[mask] = [float(S.subs('x', x)) for x in x_vals[mask]]\n",
    "\n",
    "plt.plot(x_vals, y_vals, label='Cubic Spline')\n",
    "plt.scatter(xs, ys, color='red', label='Data Points')\n",
    "plt.legend()\n",
    "plt.xlabel('x')\n",
    "plt.ylabel('y')\n",
    "plt.title('Cubic Spline Interpolation')\n",
    "plt.show()\n"
   ]
  },
  {
   "cell_type": "markdown",
   "id": "8884e113",
   "metadata": {},
   "source": [
    "**4. Usando la función anterior, encuentre el spline cúbico para:** \n",
    "    \n",
    "    xs = [1, 2, 3] \n",
    "    \n",
    "    ys = [2, 3, 5]"
   ]
  },
  {
   "cell_type": "code",
   "execution_count": 17,
   "id": "cc51d886",
   "metadata": {},
   "outputs": [
    {
     "name": "stdout",
     "output_type": "stream",
     "text": [
      "1 3 1.5 0.75 -0.25\n",
      "0 2 0.75 0.0 0.25\n"
     ]
    },
    {
     "data": {
      "text/latex": [
       "$\\displaystyle 0.75 x + 0.25 \\left(x - 1\\right)^{3} + 1.25$"
      ],
      "text/plain": [
       "0.75*x + 0.25*(x - 1)**3 + 1.25"
      ]
     },
     "metadata": {},
     "output_type": "display_data"
    },
    {
     "data": {
      "text/latex": [
       "$\\displaystyle 1.5 x - 0.25 \\left(x - 2\\right)^{3} + 0.75 \\left(x - 2\\right)^{2}$"
      ],
      "text/plain": [
       "1.5*x - 0.25*(x - 2)**3 + 0.75*(x - 2)**2"
      ]
     },
     "metadata": {},
     "output_type": "display_data"
    },
    {
     "name": "stdout",
     "output_type": "stream",
     "text": [
      "______\n"
     ]
    },
    {
     "data": {
      "text/latex": [
       "$\\displaystyle 0.25 x^{3} - 0.75 x^{2} + 1.5 x + 1.0$"
      ],
      "text/plain": [
       "0.25*x**3 - 0.75*x**2 + 1.5*x + 1.0"
      ]
     },
     "metadata": {},
     "output_type": "display_data"
    },
    {
     "data": {
      "text/latex": [
       "$\\displaystyle - 0.25 x^{3} + 2.25 x^{2} - 4.5 x + 5.0$"
      ],
      "text/plain": [
       "-0.25*x**3 + 2.25*x**2 - 4.5*x + 5.0"
      ]
     },
     "metadata": {},
     "output_type": "display_data"
    },
    {
     "data": {
      "image/png": "[encoded data removed]",
      "text/plain": [
       "<Figure size 640x480 with 1 Axes>"
      ]
     },
     "metadata": {},
     "output_type": "display_data"
    }
   ],
   "source": [
    "xs = [1, 2, 3]\n",
    "ys = [2, 3, 5]\n",
    "\n",
    "splines = cubic_spline(xs=xs, ys=ys)\n",
    "_ = [display(s) for s in splines]\n",
    "print(\"______\")\n",
    "_ = [display(s.expand()) for s in splines]\n",
    "\n",
    "import matplotlib.pyplot as plt\n",
    "\n",
    "x_vals = np.linspace(min(xs), max(xs), 200)\n",
    "y_vals = np.zeros_like(x_vals)\n",
    "\n",
    "for i, S in enumerate(splines):\n",
    "    # Each spline is valid in [xs[i], xs[i+1]]\n",
    "    mask = (x_vals >= xs[i]) & (x_vals <= xs[i+1])\n",
    "    y_vals[mask] = [float(S.subs('x', x)) for x in x_vals[mask]]\n",
    "\n",
    "plt.plot(x_vals, y_vals, label='Cubic Spline')\n",
    "plt.scatter(xs, ys, color='red', label='Data Points')\n",
    "plt.legend()\n",
    "plt.xlabel('x')\n",
    "plt.ylabel('y')\n",
    "plt.title('Cubic Spline Interpolation')\n",
    "plt.show()"
   ]
  },
  {
   "cell_type": "markdown",
   "id": "bb29954b",
   "metadata": {},
   "source": [
    "**5. Usando la función anterior, encuentre el spline cúbico para:**\n",
    "    \n",
    "    xs = [0, 1, 2, 3] \n",
    "\n",
    "    ys = [-1 ,1, 5, 2]"
   ]
  },
  {
   "cell_type": "code",
   "execution_count": 18,
   "id": "4fbb3967",
   "metadata": {},
   "outputs": [
    {
     "name": "stdout",
     "output_type": "stream",
     "text": [
      "2 5 1.0 -6.0 2.0\n",
      "1 1 4.0 3.0 -3.0\n",
      "0 -1 1.0 0.0 1.0\n"
     ]
    },
    {
     "data": {
      "text/latex": [
       "$\\displaystyle 1.0 x^{3} + 1.0 x - 1$"
      ],
      "text/plain": [
       "1.0*x**3 + 1.0*x - 1"
      ]
     },
     "metadata": {},
     "output_type": "display_data"
    },
    {
     "data": {
      "text/latex": [
       "$\\displaystyle 4.0 x - 3.0 \\left(x - 1\\right)^{3} + 3.0 \\left(x - 1\\right)^{2} - 3.0$"
      ],
      "text/plain": [
       "4.0*x - 3.0*(x - 1)**3 + 3.0*(x - 1)**2 - 3.0"
      ]
     },
     "metadata": {},
     "output_type": "display_data"
    },
    {
     "data": {
      "text/latex": [
       "$\\displaystyle 1.0 x + 2.0 \\left(x - 2\\right)^{3} - 6.0 \\left(x - 2\\right)^{2} + 3.0$"
      ],
      "text/plain": [
       "1.0*x + 2.0*(x - 2)**3 - 6.0*(x - 2)**2 + 3.0"
      ]
     },
     "metadata": {},
     "output_type": "display_data"
    },
    {
     "name": "stdout",
     "output_type": "stream",
     "text": [
      "______\n"
     ]
    },
    {
     "data": {
      "text/latex": [
       "$\\displaystyle 1.0 x^{3} + 1.0 x - 1$"
      ],
      "text/plain": [
       "1.0*x**3 + 1.0*x - 1"
      ]
     },
     "metadata": {},
     "output_type": "display_data"
    },
    {
     "data": {
      "text/latex": [
       "$\\displaystyle - 3.0 x^{3} + 12.0 x^{2} - 11.0 x + 3.0$"
      ],
      "text/plain": [
       "-3.0*x**3 + 12.0*x**2 - 11.0*x + 3.0"
      ]
     },
     "metadata": {},
     "output_type": "display_data"
    },
    {
     "data": {
      "text/latex": [
       "$\\displaystyle 2.0 x^{3} - 18.0 x^{2} + 49.0 x - 37.0$"
      ],
      "text/plain": [
       "2.0*x**3 - 18.0*x**2 + 49.0*x - 37.0"
      ]
     },
     "metadata": {},
     "output_type": "display_data"
    },
    {
     "data": {
      "image/png": "[encoded data removed]",
      "text/plain": [
       "<Figure size 640x480 with 1 Axes>"
      ]
     },
     "metadata": {},
     "output_type": "display_data"
    }
   ],
   "source": [
    "xs = [0, 1, 2, 3]\n",
    "ys = [-1, 1, 5, 2]\n",
    "\n",
    "splines = cubic_spline(xs=xs, ys=ys)\n",
    "_ = [display(s) for s in splines]\n",
    "print(\"______\")\n",
    "_ = [display(s.expand()) for s in splines]\n",
    "\n",
    "import matplotlib.pyplot as plt\n",
    "\n",
    "x_vals = np.linspace(min(xs), max(xs), 200)\n",
    "y_vals = np.zeros_like(x_vals)\n",
    "\n",
    "for i, S in enumerate(splines):\n",
    "    # Each spline is valid in [xs[i], xs[i+1]]\n",
    "    mask = (x_vals >= xs[i]) & (x_vals <= xs[i+1])\n",
    "    y_vals[mask] = [float(S.subs('x', x)) for x in x_vals[mask]]\n",
    "\n",
    "plt.plot(x_vals, y_vals, label='Cubic Spline')\n",
    "plt.scatter(xs, ys, color='red', label='Data Points')\n",
    "plt.legend()\n",
    "plt.xlabel('x')\n",
    "plt.ylabel('y')\n",
    "plt.title('Cubic Spline Interpolation')\n",
    "plt.show()"
   ]
  },
  {
   "cell_type": "markdown",
   "id": "89433cc8",
   "metadata": {},
   "source": [
    "**6. Use la función cubic_spline_clamped, provista en el enlace de Github, para graficar los datos de la siguiente tabla.**"
   ]
  },
  {
   "cell_type": "markdown",
   "id": "e9c4215c",
   "metadata": {},
   "source": [
    "![Gráfico de ejemplo](E6tabla.png)"
   ]
  },
  {
   "cell_type": "code",
   "execution_count": 19,
   "id": "09b4385a",
   "metadata": {},
   "outputs": [],
   "source": [
    "import sympy as sym\n",
    "from IPython.display import display\n",
    "\n",
    "\n",
    "# ###################################################################\n",
    "def cubic_spline_clamped(\n",
    "    xs: list[float], ys: list[float], d0: float, dn: float\n",
    ") -> list[sym.Symbol]:\n",
    "    \"\"\"\n",
    "    Cubic spline interpolation ``S``. Every two points are interpolated by a cubic polynomial\n",
    "    ``S_j`` of the form ``S_j(x) = a_j + b_j(x - x_j) + c_j(x - x_j)^2 + d_j(x - x_j)^3.``\n",
    "\n",
    "    xs must be different  but not necessarily ordered nor equally spaced.\n",
    "\n",
    "    ## Parameters\n",
    "    - xs, ys: points to be interpolated\n",
    "    - d0, dn: derivatives at the first and last points\n",
    "\n",
    "    ## Return\n",
    "    - List of symbolic expressions for the cubic spline interpolation.\n",
    "    \"\"\"\n",
    "\n",
    "    points = sorted(zip(xs, ys), key=lambda x: x[0])  # sort points by x\n",
    "    xs = [x for x, _ in points]\n",
    "    ys = [y for _, y in points]\n",
    "    n = len(points) - 1  # number of splines\n",
    "    h = [xs[i + 1] - xs[i] for i in range(n)]  # distances between  contiguous xs\n",
    "\n",
    "    alpha = [0] * (n + 1)  # prealloc\n",
    "    alpha[0] = 3 / h[0] * (ys[1] - ys[0]) - 3 * d0\n",
    "    alpha[-1] = 3 * dn - 3 / h[n - 1] * (ys[n] - ys[n - 1])\n",
    "\n",
    "    for i in range(1, n):\n",
    "        alpha[i] = 3 / h[i] * (ys[i + 1] - ys[i]) - 3 / h[i - 1] * (ys[i] - ys[i - 1])\n",
    "\n",
    "    l = [2 * h[0]]\n",
    "    u = [0.5]\n",
    "    z = [alpha[0] / l[0]]\n",
    "\n",
    "    for i in range(1, n):\n",
    "        l += [2 * (xs[i + 1] - xs[i - 1]) - h[i - 1] * u[i - 1]]\n",
    "        u += [h[i] / l[i]]\n",
    "        z += [(alpha[i] - h[i - 1] * z[i - 1]) / l[i]]\n",
    "\n",
    "    l.append(h[n - 1] * (2 - u[n - 1]))\n",
    "    z.append((alpha[n] - h[n - 1] * z[n - 1]) / l[n])\n",
    "    c = [0] * (n + 1)  # prealloc\n",
    "    c[-1] = z[-1]\n",
    "\n",
    "    x = sym.Symbol(\"x\")\n",
    "    splines = []\n",
    "    for j in range(n - 1, -1, -1):\n",
    "        c[j] = z[j] - u[j] * c[j + 1]\n",
    "        b = (ys[j + 1] - ys[j]) / h[j] - h[j] * (c[j + 1] + 2 * c[j]) / 3\n",
    "        d = (c[j + 1] - c[j]) / (3 * h[j])\n",
    "        a = ys[j]\n",
    "        print(j, a, b, c[j], d)\n",
    "        S = a + b * (x - xs[j]) + c[j] * (x - xs[j]) ** 2 + d * (x - xs[j]) ** 3\n",
    "\n",
    "        splines.append(S)\n",
    "    splines.reverse()\n",
    "    return splines"
   ]
  },
  {
   "cell_type": "markdown",
   "id": "c7614847",
   "metadata": {},
   "source": [
    "**- Curva 1**"
   ]
  },
  {
   "cell_type": "code",
   "execution_count": 20,
   "id": "8a56ff4d",
   "metadata": {},
   "outputs": [
    {
     "name": "stdout",
     "output_type": "stream",
     "text": [
      "7 6.7 -0.3381314976116886 -0.07593425119415571 0.0057417813992694635\n",
      "6 7.1 0.04846024164091059 -0.052929661890044014 -0.0025560654782346335\n",
      "5 6.6 0.5472201929380908 -0.19645031375854607 0.023920108644750342\n",
      "4 5.7 1.4091093003652708 -0.665438793668634 0.15632949330336265\n",
      "3 4.2 1.0163426056008245 1.0582054884330803 -0.5745480940339047\n",
      "2 3.9 -0.07447972276856785 0.03261683993631198 0.3418628828322561\n",
      "1 3.7 0.4468099653460711 -0.20638006930785827 0.02655521213824114\n",
      "0 3 1.0 -0.3468099653460706 0.046809965346070785\n"
     ]
    },
    {
     "data": {
      "text/latex": [
       "$\\displaystyle 1.0 x + 0.0468099653460708 \\left(x - 1\\right)^{3} - 0.346809965346071 \\left(x - 1\\right)^{2} + 2.0$"
      ],
      "text/plain": [
       "1.0*x + 0.0468099653460708*(x - 1)**3 - 0.346809965346071*(x - 1)**2 + 2.0"
      ]
     },
     "metadata": {},
     "output_type": "display_data"
    },
    {
     "data": {
      "text/latex": [
       "$\\displaystyle 0.446809965346071 x + 0.0265552121382411 \\left(x - 2\\right)^{3} - 0.206380069307858 \\left(x - 2\\right)^{2} + 2.80638006930786$"
      ],
      "text/plain": [
       "0.446809965346071*x + 0.0265552121382411*(x - 2)**3 - 0.206380069307858*(x - 2)**2 + 2.80638006930786"
      ]
     },
     "metadata": {},
     "output_type": "display_data"
    },
    {
     "data": {
      "text/latex": [
       "$\\displaystyle - 0.0744797227685678 x + 0.341862882832256 \\left(x - 5\\right)^{3} + 0.032616839936312 \\left(x - 5\\right)^{2} + 4.27239861384284$"
      ],
      "text/plain": [
       "-0.0744797227685678*x + 0.341862882832256*(x - 5)**3 + 0.032616839936312*(x - 5)**2 + 4.27239861384284"
      ]
     },
     "metadata": {},
     "output_type": "display_data"
    },
    {
     "data": {
      "text/latex": [
       "$\\displaystyle 1.01634260560082 x - 0.574548094033905 \\left(x - 6\\right)^{3} + 1.05820548843308 \\left(x - 6\\right)^{2} - 1.89805563360495$"
      ],
      "text/plain": [
       "1.01634260560082*x - 0.574548094033905*(x - 6)**3 + 1.05820548843308*(x - 6)**2 - 1.89805563360495"
      ]
     },
     "metadata": {},
     "output_type": "display_data"
    },
    {
     "data": {
      "text/latex": [
       "$\\displaystyle 1.40910930036527 x + 0.156329493303363 \\left(x - 7\\right)^{3} - 0.665438793668634 \\left(x - 7\\right)^{2} - 4.1637651025569$"
      ],
      "text/plain": [
       "1.40910930036527*x + 0.156329493303363*(x - 7)**3 - 0.665438793668634*(x - 7)**2 - 4.1637651025569"
      ]
     },
     "metadata": {},
     "output_type": "display_data"
    },
    {
     "data": {
      "text/latex": [
       "$\\displaystyle 0.547220192938091 x + 0.0239201086447503 \\left(x - 8\\right)^{3} - 0.196450313758546 \\left(x - 8\\right)^{2} + 2.22223845649527$"
      ],
      "text/plain": [
       "0.547220192938091*x + 0.0239201086447503*(x - 8)**3 - 0.196450313758546*(x - 8)**2 + 2.22223845649527"
      ]
     },
     "metadata": {},
     "output_type": "display_data"
    },
    {
     "data": {
      "text/latex": [
       "$\\displaystyle 0.0484602416409106 x - 0.00255606547823463 \\left(x - 10\\right)^{3} - 0.052929661890044 \\left(x - 10\\right)^{2} + 6.61539758359089$"
      ],
      "text/plain": [
       "0.0484602416409106*x - 0.00255606547823463*(x - 10)**3 - 0.052929661890044*(x - 10)**2 + 6.61539758359089"
      ]
     },
     "metadata": {},
     "output_type": "display_data"
    },
    {
     "data": {
      "text/latex": [
       "$\\displaystyle - 0.338131497611689 x + 0.00574178139926946 \\left(x - 13\\right)^{3} - 0.0759342511941557 \\left(x - 13\\right)^{2} + 11.095709468952$"
      ],
      "text/plain": [
       "-0.338131497611689*x + 0.00574178139926946*(x - 13)**3 - 0.0759342511941557*(x - 13)**2 + 11.095709468952"
      ]
     },
     "metadata": {},
     "output_type": "display_data"
    },
    {
     "name": "stdout",
     "output_type": "stream",
     "text": [
      "______\n"
     ]
    },
    {
     "data": {
      "text/latex": [
       "$\\displaystyle 0.0468099653460708 x^{3} - 0.487239861384283 x^{2} + 1.83404982673035 x + 1.60638006930786$"
      ],
      "text/plain": [
       "0.0468099653460708*x**3 - 0.487239861384283*x**2 + 1.83404982673035*x + 1.60638006930786"
      ]
     },
     "metadata": {},
     "output_type": "display_data"
    },
    {
     "data": {
      "text/latex": [
       "$\\displaystyle 0.0265552121382411 x^{3} - 0.365711342137305 x^{2} + 1.5909927882364 x + 1.7684180949705$"
      ],
      "text/plain": [
       "0.0265552121382411*x**3 - 0.365711342137305*x**2 + 1.5909927882364*x + 1.7684180949705"
      ]
     },
     "metadata": {},
     "output_type": "display_data"
    },
    {
     "data": {
      "text/latex": [
       "$\\displaystyle 0.341862882832256 x^{3} - 5.09532640254753 x^{2} + 25.2390680902875 x - 37.6450407417814$"
      ],
      "text/plain": [
       "0.341862882832256*x**3 - 5.09532640254753*x**2 + 25.2390680902875*x - 37.6450407417814"
      ]
     },
     "metadata": {},
     "output_type": "display_data"
    },
    {
     "data": {
      "text/latex": [
       "$\\displaystyle - 0.574548094033905 x^{3} + 11.4000711810434 x^{2} - 73.7333174112578 x + 160.299730261309$"
      ],
      "text/plain": [
       "-0.574548094033905*x**3 + 11.4000711810434*x**2 - 73.7333174112578*x + 160.299730261309"
      ]
     },
     "metadata": {},
     "output_type": "display_data"
    },
    {
     "data": {
      "text/latex": [
       "$\\displaystyle 0.156329493303363 x^{3} - 3.94835815303925 x^{2} + 33.7056879273205 x - 90.3912821953733$"
      ],
      "text/plain": [
       "0.156329493303363*x**3 - 3.94835815303925*x**2 + 33.7056879273205*x - 90.3912821953733"
      ]
     },
     "metadata": {},
     "output_type": "display_data"
    },
    {
     "data": {
      "text/latex": [
       "$\\displaystyle 0.0239201086447503 x^{3} - 0.770532921232554 x^{2} + 8.28308607286689 x - 22.5976772501638$"
      ],
      "text/plain": [
       "0.0239201086447503*x**3 - 0.770532921232554*x**2 + 8.28308607286689*x - 22.5976772501638"
      ]
     },
     "metadata": {},
     "output_type": "display_data"
    },
    {
     "data": {
      "text/latex": [
       "$\\displaystyle - 0.00255606547823463 x^{3} + 0.023752302456995 x^{2} + 0.340233835971401 x + 3.87849687282113$"
      ],
      "text/plain": [
       "-0.00255606547823463*x**3 + 0.023752302456995*x**2 + 0.340233835971401*x + 3.87849687282113"
      ]
     },
     "metadata": {},
     "output_type": "display_data"
    },
    {
     "data": {
      "text/latex": [
       "$\\displaystyle 0.00574178139926946 x^{3} - 0.299863725765665 x^{2} + 4.54724220286598 x - 14.3518727170554$"
      ],
      "text/plain": [
       "0.00574178139926946*x**3 - 0.299863725765665*x**2 + 4.54724220286598*x - 14.3518727170554"
      ]
     },
     "metadata": {},
     "output_type": "display_data"
    }
   ],
   "source": [
    "xs = [1, 2, 5, 6, 7, 8, 10, 13, 17]\n",
    "ys = [3, 3.7, 3.9, 4.2, 5.7, 6.6, 7.1, 6.7, 4.5]\n",
    "\n",
    "splines = cubic_spline_clamped(xs=xs, ys=ys, d0=1, dn=-0.67)\n",
    "_ = [display(s) for s in splines]\n",
    "print(\"______\")\n",
    "_ = [display(s.expand()) for s in splines]"
   ]
  },
  {
   "cell_type": "markdown",
   "id": "5b442c0e",
   "metadata": {},
   "source": [
    "**- Curva 2**"
   ]
  },
  {
   "cell_type": "code",
   "execution_count": 21,
   "id": "dbd664b4",
   "metadata": {},
   "outputs": [
    {
     "name": "stdout",
     "output_type": "stream",
     "text": [
      "5 5.2 -0.4011781849199465 0.1258152222202451 -2.568002126658778\n",
      "4 5.8 0.1539868142803838 -0.4033977218204103 0.08820215734010924\n",
      "3 5.6 -0.11137135038117751 0.6687558864819717 -0.35738453610079396\n",
      "2 6.1 -0.6085014127556733 -0.17162582410747595 0.2801272368631492\n",
      "1 7.0 -0.19787464681108174 0.03475023545927881 -0.022930673285194974\n",
      "0 4.5 3.0 -1.1007084510629728 0.12616207628025017\n"
     ]
    },
    {
     "data": {
      "text/latex": [
       "$\\displaystyle 3.0 x + 0.12616207628025 \\left(x - 17\\right)^{3} - 1.10070845106297 \\left(x - 17\\right)^{2} - 46.5$"
      ],
      "text/plain": [
       "3.0*x + 0.12616207628025*(x - 17)**3 - 1.10070845106297*(x - 17)**2 - 46.5"
      ]
     },
     "metadata": {},
     "output_type": "display_data"
    },
    {
     "data": {
      "text/latex": [
       "$\\displaystyle - 0.197874646811082 x - 0.022930673285195 \\left(x - 20\\right)^{3} + 0.0347502354592788 \\left(x - 20\\right)^{2} + 10.9574929362216$"
      ],
      "text/plain": [
       "-0.197874646811082*x - 0.022930673285195*(x - 20)**3 + 0.0347502354592788*(x - 20)**2 + 10.9574929362216"
      ]
     },
     "metadata": {},
     "output_type": "display_data"
    },
    {
     "data": {
      "text/latex": [
       "$\\displaystyle - 0.608501412755673 x + 0.280127236863149 \\left(x - 23\\right)^{3} - 0.171625824107476 \\left(x - 23\\right)^{2} + 20.0955324933805$"
      ],
      "text/plain": [
       "-0.608501412755673*x + 0.280127236863149*(x - 23)**3 - 0.171625824107476*(x - 23)**2 + 20.0955324933805"
      ]
     },
     "metadata": {},
     "output_type": "display_data"
    },
    {
     "data": {
      "text/latex": [
       "$\\displaystyle - 0.111371350381178 x - 0.357384536100794 \\left(x - 24\\right)^{3} + 0.668755886481972 \\left(x - 24\\right)^{2} + 8.27291240914826$"
      ],
      "text/plain": [
       "-0.111371350381178*x - 0.357384536100794*(x - 24)**3 + 0.668755886481972*(x - 24)**2 + 8.27291240914826"
      ]
     },
     "metadata": {},
     "output_type": "display_data"
    },
    {
     "data": {
      "text/latex": [
       "$\\displaystyle 0.153986814280384 x + 0.0882021573401092 \\left(x - 25\\right)^{3} - 0.40339772182041 \\left(x - 25\\right)^{2} + 1.9503296429904$"
      ],
      "text/plain": [
       "0.153986814280384*x + 0.0882021573401092*(x - 25)**3 - 0.40339772182041*(x - 25)**2 + 1.9503296429904"
      ]
     },
     "metadata": {},
     "output_type": "display_data"
    },
    {
     "data": {
      "text/latex": [
       "$\\displaystyle - 0.401178184919947 x - 2.56800212665878 \\left(x - 27\\right)^{3} + 0.125815222220245 \\left(x - 27\\right)^{2} + 16.0318109928386$"
      ],
      "text/plain": [
       "-0.401178184919947*x - 2.56800212665878*(x - 27)**3 + 0.125815222220245*(x - 27)**2 + 16.0318109928386"
      ]
     },
     "metadata": {},
     "output_type": "display_data"
    },
    {
     "name": "stdout",
     "output_type": "stream",
     "text": [
      "______\n"
     ]
    },
    {
     "data": {
      "text/latex": [
       "$\\displaystyle 0.12616207628025 x^{3} - 7.53497434135573 x^{2} + 149.806607471118 x - 984.439023122068$"
      ],
      "text/plain": [
       "0.12616207628025*x**3 - 7.53497434135573*x**2 + 149.806607471118*x - 984.439023122068"
      ]
     },
     "metadata": {},
     "output_type": "display_data"
    },
    {
     "data": {
      "text/latex": [
       "$\\displaystyle - 0.022930673285195 x^{3} + 1.41059063257098 x^{2} - 29.1046920074162 x + 208.302973401493$"
      ],
      "text/plain": [
       "-0.022930673285195*x**3 + 1.41059063257098*x**2 - 29.1046920074162*x + 208.302973401493"
      ]
     },
     "metadata": {},
     "output_type": "display_data"
    },
    {
     "data": {
      "text/latex": [
       "$\\displaystyle 0.280127236863149 x^{3} - 19.5004051676648 x^{2} + 451.848211398006 x - 3479.00261937341$"
      ],
      "text/plain": [
       "0.280127236863149*x**3 - 19.5004051676648*x**2 + 451.848211398006*x - 3479.00261937341"
      ]
     },
     "metadata": {},
     "output_type": "display_data"
    },
    {
     "data": {
      "text/latex": [
       "$\\displaystyle - 0.357384536100794 x^{3} + 26.4004424857391 x^{2} - 649.772132283688 x + 5333.96013008014$"
      ],
      "text/plain": [
       "-0.357384536100794*x**3 + 26.4004424857391*x**2 - 649.772132283688*x + 5333.96013008014"
      ]
     },
     "metadata": {},
     "output_type": "display_data"
    },
    {
     "data": {
      "text/latex": [
       "$\\displaystyle 0.0882021573401092 x^{3} - 7.0185595223286 x^{2} + 185.702917918006 x - 1628.33195493397$"
      ],
      "text/plain": [
       "0.0882021573401092*x**3 - 7.0185595223286*x**2 + 185.702917918006*x - 1628.33195493397"
      ]
     },
     "metadata": {},
     "output_type": "display_data"
    },
    {
     "data": {
      "text/latex": [
       "$\\displaystyle - 2.56800212665878 x^{3} + 208.133987481581 x^{2} - 5623.41585118756 x + 50653.7369670161$"
      ],
      "text/plain": [
       "-2.56800212665878*x**3 + 208.133987481581*x**2 - 5623.41585118756*x + 50653.7369670161"
      ]
     },
     "metadata": {},
     "output_type": "display_data"
    }
   ],
   "source": [
    "xs = [17,20,23,24,25,27,27.7]\n",
    "ys = [4.5,7.0,6.1,5.6,5.8,5.2,4.1]\n",
    "\n",
    "splines = cubic_spline_clamped(xs=xs, ys=ys, d0=3, dn=-4.0)\n",
    "_ = [display(s) for s in splines]\n",
    "print(\"______\")\n",
    "_ = [display(s.expand()) for s in splines]"
   ]
  },
  {
   "cell_type": "markdown",
   "id": "a7d706ba",
   "metadata": {},
   "source": [
    "**- Curva 3**"
   ]
  },
  {
   "cell_type": "code",
   "execution_count": 22,
   "id": "7e028c0b",
   "metadata": {},
   "outputs": [
    {
     "name": "stdout",
     "output_type": "stream",
     "text": [
      "2 4.1 -0.7653465346534649 -0.26930693069306927 -0.06534653465346556\n",
      "1 4.3 0.6613861386138599 -1.1574257425742556 0.2960396039603954\n",
      "0 4.1 0.3299999999999999 2.2620462046204524 -3.799413274660778\n"
     ]
    },
    {
     "data": {
      "text/latex": [
       "$\\displaystyle 0.33 x - 3.79941327466078 \\left(x - 27.7\\right)^{3} + 2.26204620462045 \\left(x - 27.7\\right)^{2} - 5.041$"
      ],
      "text/plain": [
       "0.33*x - 3.79941327466078*(x - 27.7)**3 + 2.26204620462045*(x - 27.7)**2 - 5.041"
      ]
     },
     "metadata": {},
     "output_type": "display_data"
    },
    {
     "data": {
      "text/latex": [
       "$\\displaystyle 0.66138613861386 x + 0.296039603960395 \\left(x - 28\\right)^{3} - 1.15742574257426 \\left(x - 28\\right)^{2} - 14.2188118811881$"
      ],
      "text/plain": [
       "0.66138613861386*x + 0.296039603960395*(x - 28)**3 - 1.15742574257426*(x - 28)**2 - 14.2188118811881"
      ]
     },
     "metadata": {},
     "output_type": "display_data"
    },
    {
     "data": {
      "text/latex": [
       "$\\displaystyle - 0.765346534653465 x - 0.0653465346534656 \\left(x - 29\\right)^{3} - 0.269306930693069 \\left(x - 29\\right)^{2} + 26.2950495049505$"
      ],
      "text/plain": [
       "-0.765346534653465*x - 0.0653465346534656*(x - 29)**3 - 0.269306930693069*(x - 29)**2 + 26.2950495049505"
      ]
     },
     "metadata": {},
     "output_type": "display_data"
    },
    {
     "name": "stdout",
     "output_type": "stream",
     "text": [
      "______\n"
     ]
    },
    {
     "data": {
      "text/latex": [
       "$\\displaystyle - 3.79941327466078 x^{3} + 317.993289328931 x^{2} - 8870.74279427938 x + 82483.079611294$"
      ],
      "text/plain": [
       "-3.79941327466078*x**3 + 317.993289328931*x**2 - 8870.74279427938*x + 82483.079611294"
      ]
     },
     "metadata": {},
     "output_type": "display_data"
    },
    {
     "data": {
      "text/latex": [
       "$\\displaystyle 0.296039603960395 x^{3} - 26.0247524752475 x^{2} + 761.762376237622 x - 7420.30198019801$"
      ],
      "text/plain": [
       "0.296039603960395*x**3 - 26.0247524752475*x**2 + 761.762376237622*x - 7420.30198019801"
      ]
     },
     "metadata": {},
     "output_type": "display_data"
    },
    {
     "data": {
      "text/latex": [
       "$\\displaystyle - 0.0653465346534656 x^{3} + 5.41584158415843 x^{2} - 150.014851485149 x + 1393.54455445545$"
      ],
      "text/plain": [
       "-0.0653465346534656*x**3 + 5.41584158415843*x**2 - 150.014851485149*x + 1393.54455445545"
      ]
     },
     "metadata": {},
     "output_type": "display_data"
    }
   ],
   "source": [
    "xs = [27.7,28,29,30]\n",
    "ys = [4.1,4.3,4.1,3.0]\n",
    "\n",
    "splines = cubic_spline_clamped(xs=xs, ys=ys, d0=0.33, dn=-1.5)\n",
    "_ = [display(s) for s in splines]\n",
    "print(\"______\")\n",
    "_ = [display(s.expand()) for s in splines]"
   ]
  },
  {
   "cell_type": "code",
   "execution_count": null,
   "id": "37892c14",
   "metadata": {},
   "outputs": [],
   "source": []
  }
 ],
 "metadata": {
  "kernelspec": {
   "display_name": ".venv",
   "language": "python",
   "name": "python3"
  },
  "language_info": {
   "codemirror_mode": {
    "name": "ipython",
    "version": 3
   },
   "file_extension": ".py",
   "mimetype": "text/x-python",
   "name": "python",
   "nbconvert_exporter": "python",
   "pygments_lexer": "ipython3",
   "version": "3.11.9"
  }
 },
 "nbformat": 4,
 "nbformat_minor": 5
}

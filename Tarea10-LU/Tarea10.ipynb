{
 "cells": [
  {
   "cell_type": "markdown",
   "id": "3d2fcadc",
   "metadata": {},
   "source": [
    "# **Escuela Politecnica Nacional** \n",
    "# **Metodos Numericos**\n",
    "# **Tarea 10**\n",
    "## **Fecha:** 16/07/2025\n",
    "## **Nombre:**  Joseph Jimenez"
   ]
  },
  {
   "cell_type": "markdown",
   "id": "4fbaccb1",
   "metadata": {},
   "source": [
    "Enlace al repositorio : https://github.com/Josefu-zero/Metodos-Numericos-Tareas/tree/main/Tarea10"
   ]
  },
  {
   "cell_type": "markdown",
   "id": "278b5c0d-5385-431f-846c-e74f1a1a2e97",
   "metadata": {},
   "source": [
    "\n",
    "# Conjunto de ejercicios\n",
    "\n",
    "### 1. Realice las siguientes multiplicaciones matriz-matriz: \n",
    "\n",
    "a)\n"
   ]
  },
  {
   "cell_type": "code",
   "execution_count": 1,
   "id": "dd5ec61a-340f-4c63-a0af-ef7ff55aa923",
   "metadata": {},
   "outputs": [
    {
     "name": "stdout",
     "output_type": "stream",
     "text": [
      "[[-4 10]\n",
      " [ 1 15]]\n"
     ]
    }
   ],
   "source": [
    "\n",
    "import numpy as np\n",
    "\n",
    "A = [\n",
    "    [2, -3],\n",
    "    [3, -1]\n",
    "]\n",
    "\n",
    "B = [\n",
    "    [1, 5],\n",
    "    [2, 0]\n",
    "]\n",
    "\n",
    "C = np.matmul(A, B)\n",
    "print(C)\n"
   ]
  },
  {
   "cell_type": "markdown",
   "id": "c4836109-f22a-4daa-a4cf-9dad14374509",
   "metadata": {},
   "source": [
    "b)\n"
   ]
  },
  {
   "cell_type": "code",
   "execution_count": 2,
   "id": "0d29bbb2-aae5-4137-9fbb-3df23a349153",
   "metadata": {},
   "outputs": [
    {
     "name": "stdout",
     "output_type": "stream",
     "text": [
      "[[ 11   4  -8]\n",
      " [  6  13 -12]]\n"
     ]
    }
   ],
   "source": [
    "\n",
    "A = [\n",
    "    [2, -3],\n",
    "    [3, -1]\n",
    "]\n",
    "\n",
    "B = [\n",
    "    [1, 5, -4],\n",
    "    [-3, 2, 0]\n",
    "]\n",
    "\n",
    "C = np.matmul(A, B)\n",
    "print(C)\n"
   ]
  },
  {
   "cell_type": "markdown",
   "id": "af4f44fa-25d8-473f-94bd-2ecd9f2731f4",
   "metadata": {},
   "source": [
    "c)\n"
   ]
  },
  {
   "cell_type": "code",
   "execution_count": 3,
   "id": "d3432b03-5e49-4796-9069-301b666eca1f",
   "metadata": {},
   "outputs": [
    {
     "name": "stdout",
     "output_type": "stream",
     "text": [
      "[[ -1   5  -3]\n",
      " [  3   4 -11]\n",
      " [ -6  -7  -4]]\n"
     ]
    }
   ],
   "source": [
    "\n",
    "A = [\n",
    "    [2, -3, 1],\n",
    "    [4, 3, 0], \n",
    "    [5, 2, -4]\n",
    "]\n",
    "\n",
    "B = [\n",
    "    [0, 1, -2],\n",
    "    [1, 0, -1],\n",
    "    [2, 3, -2]\n",
    "]\n",
    "\n",
    "C = np.matmul(A, B)\n",
    "print(C)\n"
   ]
  },
  {
   "cell_type": "markdown",
   "id": "e0677574-a9ce-466f-abc7-9ea53fef27f8",
   "metadata": {},
   "source": [
    "d)\n"
   ]
  },
  {
   "cell_type": "code",
   "execution_count": 4,
   "id": "60444489-cfce-4450-858a-933003b969f3",
   "metadata": {},
   "outputs": [
    {
     "name": "stdout",
     "output_type": "stream",
     "text": [
      "[[ -2   1]\n",
      " [-14   7]\n",
      " [  6   1]]\n"
     ]
    }
   ],
   "source": [
    "\n",
    "A = [\n",
    "    [2, 1, 2],\n",
    "    [-2, 3, 0], \n",
    "    [2, -1, 3]\n",
    "]\n",
    "\n",
    "B = [\n",
    "    [1, -2],\n",
    "    [-4, 1],\n",
    "    [0, 2]\n",
    "]\n",
    "\n",
    "C = np.matmul(A, B)\n",
    "print(C)\n"
   ]
  },
  {
   "cell_type": "markdown",
   "id": "590e2b2a-966a-4457-be50-f2cbad972269",
   "metadata": {},
   "source": [
    "\n",
    "### 2. Determine cuales de las siguientes matrices son no singulares y calcule la inversa de esas matrices: \n",
    "\n",
    "a)\n"
   ]
  },
  {
   "cell_type": "code",
   "execution_count": 5,
   "id": "de1763cc-9ac3-4832-96e5-68de5641e71d",
   "metadata": {},
   "outputs": [
    {
     "ename": "LinAlgError",
     "evalue": "Singular matrix",
     "output_type": "error",
     "traceback": [
      "\u001b[31m---------------------------------------------------------------------------\u001b[39m",
      "\u001b[31mLinAlgError\u001b[39m                               Traceback (most recent call last)",
      "\u001b[36mCell\u001b[39m\u001b[36m \u001b[39m\u001b[32mIn[5]\u001b[39m\u001b[32m, line 7\u001b[39m\n\u001b[32m      1\u001b[39m A = [\n\u001b[32m      2\u001b[39m     [\u001b[32m4\u001b[39m, \u001b[32m2\u001b[39m, \u001b[32m6\u001b[39m],\n\u001b[32m      3\u001b[39m     [\u001b[32m3\u001b[39m, \u001b[32m0\u001b[39m, \u001b[32m7\u001b[39m], \n\u001b[32m      4\u001b[39m     [-\u001b[32m2\u001b[39m, -\u001b[32m1\u001b[39m, -\u001b[32m3\u001b[39m]\n\u001b[32m      5\u001b[39m ]\n\u001b[32m----> \u001b[39m\u001b[32m7\u001b[39m B = \u001b[43mnp\u001b[49m\u001b[43m.\u001b[49m\u001b[43mlinalg\u001b[49m\u001b[43m.\u001b[49m\u001b[43minv\u001b[49m\u001b[43m(\u001b[49m\u001b[43mA\u001b[49m\u001b[43m)\u001b[49m\n\u001b[32m      8\u001b[39m \u001b[38;5;28mprint\u001b[39m(B)\n",
      "\u001b[36mFile \u001b[39m\u001b[32mc:\\Users\\andyj\\AppData\\Local\\Programs\\Python\\Python313\\Lib\\site-packages\\numpy\\linalg\\_linalg.py:609\u001b[39m, in \u001b[36minv\u001b[39m\u001b[34m(a)\u001b[39m\n\u001b[32m    606\u001b[39m signature = \u001b[33m'\u001b[39m\u001b[33mD->D\u001b[39m\u001b[33m'\u001b[39m \u001b[38;5;28;01mif\u001b[39;00m isComplexType(t) \u001b[38;5;28;01melse\u001b[39;00m \u001b[33m'\u001b[39m\u001b[33md->d\u001b[39m\u001b[33m'\u001b[39m\n\u001b[32m    607\u001b[39m \u001b[38;5;28;01mwith\u001b[39;00m errstate(call=_raise_linalgerror_singular, invalid=\u001b[33m'\u001b[39m\u001b[33mcall\u001b[39m\u001b[33m'\u001b[39m,\n\u001b[32m    608\u001b[39m               over=\u001b[33m'\u001b[39m\u001b[33mignore\u001b[39m\u001b[33m'\u001b[39m, divide=\u001b[33m'\u001b[39m\u001b[33mignore\u001b[39m\u001b[33m'\u001b[39m, under=\u001b[33m'\u001b[39m\u001b[33mignore\u001b[39m\u001b[33m'\u001b[39m):\n\u001b[32m--> \u001b[39m\u001b[32m609\u001b[39m     ainv = \u001b[43m_umath_linalg\u001b[49m\u001b[43m.\u001b[49m\u001b[43minv\u001b[49m\u001b[43m(\u001b[49m\u001b[43ma\u001b[49m\u001b[43m,\u001b[49m\u001b[43m \u001b[49m\u001b[43msignature\u001b[49m\u001b[43m=\u001b[49m\u001b[43msignature\u001b[49m\u001b[43m)\u001b[49m\n\u001b[32m    610\u001b[39m \u001b[38;5;28;01mreturn\u001b[39;00m wrap(ainv.astype(result_t, copy=\u001b[38;5;28;01mFalse\u001b[39;00m))\n",
      "\u001b[36mFile \u001b[39m\u001b[32mc:\\Users\\andyj\\AppData\\Local\\Programs\\Python\\Python313\\Lib\\site-packages\\numpy\\linalg\\_linalg.py:104\u001b[39m, in \u001b[36m_raise_linalgerror_singular\u001b[39m\u001b[34m(err, flag)\u001b[39m\n\u001b[32m    103\u001b[39m \u001b[38;5;28;01mdef\u001b[39;00m\u001b[38;5;250m \u001b[39m\u001b[34m_raise_linalgerror_singular\u001b[39m(err, flag):\n\u001b[32m--> \u001b[39m\u001b[32m104\u001b[39m     \u001b[38;5;28;01mraise\u001b[39;00m LinAlgError(\u001b[33m\"\u001b[39m\u001b[33mSingular matrix\u001b[39m\u001b[33m\"\u001b[39m)\n",
      "\u001b[31mLinAlgError\u001b[39m: Singular matrix"
     ]
    }
   ],
   "source": [
    "\n",
    "A = [\n",
    "    [4, 2, 6],\n",
    "    [3, 0, 7], \n",
    "    [-2, -1, -3]\n",
    "]\n",
    "\n",
    "B = np.linalg.inv(A)\n",
    "print(B)\n"
   ]
  },
  {
   "cell_type": "markdown",
   "id": "a8459acf-7f60-4f20-a323-e8c4ddae024a",
   "metadata": {},
   "source": [
    "b)\n"
   ]
  },
  {
   "cell_type": "code",
   "execution_count": 6,
   "id": "7f0bd586-2108-4113-93af-5c2f4a43403b",
   "metadata": {},
   "outputs": [
    {
     "name": "stdout",
     "output_type": "stream",
     "text": [
      "[[-0.25   0.25   0.25 ]\n",
      " [ 0.625 -0.125 -0.125]\n",
      " [ 0.125 -0.625  0.375]]\n"
     ]
    }
   ],
   "source": [
    "\n",
    "A = [\n",
    "    [1, 2, 0],\n",
    "    [2, 1, -1], \n",
    "    [3, 1, 1]\n",
    "]\n",
    "\n",
    "B = np.linalg.inv(A)\n",
    "print(B)\n"
   ]
  },
  {
   "cell_type": "markdown",
   "id": "6f95e6e0-3047-42ff-ae94-ff93577de4fe",
   "metadata": {},
   "source": [
    "c)\n"
   ]
  },
  {
   "cell_type": "code",
   "execution_count": 7,
   "id": "b96eeb04-1995-4e49-87b5-feabee9cec49",
   "metadata": {},
   "outputs": [
    {
     "ename": "LinAlgError",
     "evalue": "Singular matrix",
     "output_type": "error",
     "traceback": [
      "\u001b[31m---------------------------------------------------------------------------\u001b[39m",
      "\u001b[31mLinAlgError\u001b[39m                               Traceback (most recent call last)",
      "\u001b[36mCell\u001b[39m\u001b[36m \u001b[39m\u001b[32mIn[7]\u001b[39m\u001b[32m, line 8\u001b[39m\n\u001b[32m      1\u001b[39m A = [\n\u001b[32m      2\u001b[39m     [\u001b[32m1\u001b[39m, \u001b[32m1\u001b[39m, -\u001b[32m1\u001b[39m, \u001b[32m1\u001b[39m],\n\u001b[32m      3\u001b[39m     [\u001b[32m1\u001b[39m, \u001b[32m2\u001b[39m, -\u001b[32m4\u001b[39m, -\u001b[32m2\u001b[39m], \n\u001b[32m      4\u001b[39m     [\u001b[32m2\u001b[39m, \u001b[32m1\u001b[39m, \u001b[32m1\u001b[39m, \u001b[32m5\u001b[39m],\n\u001b[32m      5\u001b[39m     [-\u001b[32m1\u001b[39m, \u001b[32m0\u001b[39m, -\u001b[32m2\u001b[39m, -\u001b[32m4\u001b[39m]\n\u001b[32m      6\u001b[39m ]\n\u001b[32m----> \u001b[39m\u001b[32m8\u001b[39m B = \u001b[43mnp\u001b[49m\u001b[43m.\u001b[49m\u001b[43mlinalg\u001b[49m\u001b[43m.\u001b[49m\u001b[43minv\u001b[49m\u001b[43m(\u001b[49m\u001b[43mA\u001b[49m\u001b[43m)\u001b[49m\n\u001b[32m      9\u001b[39m \u001b[38;5;28mprint\u001b[39m(B)\n",
      "\u001b[36mFile \u001b[39m\u001b[32mc:\\Users\\andyj\\AppData\\Local\\Programs\\Python\\Python313\\Lib\\site-packages\\numpy\\linalg\\_linalg.py:609\u001b[39m, in \u001b[36minv\u001b[39m\u001b[34m(a)\u001b[39m\n\u001b[32m    606\u001b[39m signature = \u001b[33m'\u001b[39m\u001b[33mD->D\u001b[39m\u001b[33m'\u001b[39m \u001b[38;5;28;01mif\u001b[39;00m isComplexType(t) \u001b[38;5;28;01melse\u001b[39;00m \u001b[33m'\u001b[39m\u001b[33md->d\u001b[39m\u001b[33m'\u001b[39m\n\u001b[32m    607\u001b[39m \u001b[38;5;28;01mwith\u001b[39;00m errstate(call=_raise_linalgerror_singular, invalid=\u001b[33m'\u001b[39m\u001b[33mcall\u001b[39m\u001b[33m'\u001b[39m,\n\u001b[32m    608\u001b[39m               over=\u001b[33m'\u001b[39m\u001b[33mignore\u001b[39m\u001b[33m'\u001b[39m, divide=\u001b[33m'\u001b[39m\u001b[33mignore\u001b[39m\u001b[33m'\u001b[39m, under=\u001b[33m'\u001b[39m\u001b[33mignore\u001b[39m\u001b[33m'\u001b[39m):\n\u001b[32m--> \u001b[39m\u001b[32m609\u001b[39m     ainv = \u001b[43m_umath_linalg\u001b[49m\u001b[43m.\u001b[49m\u001b[43minv\u001b[49m\u001b[43m(\u001b[49m\u001b[43ma\u001b[49m\u001b[43m,\u001b[49m\u001b[43m \u001b[49m\u001b[43msignature\u001b[49m\u001b[43m=\u001b[49m\u001b[43msignature\u001b[49m\u001b[43m)\u001b[49m\n\u001b[32m    610\u001b[39m \u001b[38;5;28;01mreturn\u001b[39;00m wrap(ainv.astype(result_t, copy=\u001b[38;5;28;01mFalse\u001b[39;00m))\n",
      "\u001b[36mFile \u001b[39m\u001b[32mc:\\Users\\andyj\\AppData\\Local\\Programs\\Python\\Python313\\Lib\\site-packages\\numpy\\linalg\\_linalg.py:104\u001b[39m, in \u001b[36m_raise_linalgerror_singular\u001b[39m\u001b[34m(err, flag)\u001b[39m\n\u001b[32m    103\u001b[39m \u001b[38;5;28;01mdef\u001b[39;00m\u001b[38;5;250m \u001b[39m\u001b[34m_raise_linalgerror_singular\u001b[39m(err, flag):\n\u001b[32m--> \u001b[39m\u001b[32m104\u001b[39m     \u001b[38;5;28;01mraise\u001b[39;00m LinAlgError(\u001b[33m\"\u001b[39m\u001b[33mSingular matrix\u001b[39m\u001b[33m\"\u001b[39m)\n",
      "\u001b[31mLinAlgError\u001b[39m: Singular matrix"
     ]
    }
   ],
   "source": [
    "\n",
    "A = [\n",
    "    [1, 1, -1, 1],\n",
    "    [1, 2, -4, -2], \n",
    "    [2, 1, 1, 5],\n",
    "    [-1, 0, -2, -4]\n",
    "]\n",
    "\n",
    "B = np.linalg.inv(A)\n",
    "print(B)\n"
   ]
  },
  {
   "cell_type": "markdown",
   "id": "0278838e-8d8d-4813-88a6-064a20f448bf",
   "metadata": {},
   "source": [
    "d)\n"
   ]
  },
  {
   "cell_type": "code",
   "execution_count": 8,
   "id": "77fe5084-9ee7-44ce-a320-9bd3d4bdac1b",
   "metadata": {},
   "outputs": [
    {
     "name": "stdout",
     "output_type": "stream",
     "text": [
      "[[ 2.50000000e-01  6.16790569e-18  0.00000000e+00  0.00000000e+00]\n",
      " [-2.14285714e-01  1.42857143e-01 -0.00000000e+00 -0.00000000e+00]\n",
      " [ 1.07142857e-01 -1.57142857e+00  1.00000000e+00 -0.00000000e+00]\n",
      " [-5.00000000e-01  1.00000000e+00 -1.00000000e+00  1.00000000e+00]]\n"
     ]
    }
   ],
   "source": [
    "\n",
    "A = [\n",
    "    [4, 0, 0, 0],\n",
    "    [6, 7, 0, 0], \n",
    "    [9, 11, 1, 0],\n",
    "    [5, 4, 1, 1]\n",
    "]\n",
    "\n",
    "B = np.linalg.inv(A)\n",
    "print(B)\n",
    "\n"
   ]
  },
  {
   "cell_type": "markdown",
   "id": "cff99ddb-159d-4221-9e2b-ddab3e64b02f",
   "metadata": {},
   "source": [
    "\n",
    "### 3. Resuelva los sistemas lineales 4 x 4 que tienen la misma matriz de coeficientes:\n"
   ]
  },
  {
   "cell_type": "code",
   "execution_count": 9,
   "id": "cb637772-7c7b-4d95-9044-0f36f6b56f87",
   "metadata": {},
   "outputs": [
    {
     "name": "stdout",
     "output_type": "stream",
     "text": [
      "[ 3. -6. -2. -1.]\n",
      "[1. 1. 1. 1.]\n"
     ]
    }
   ],
   "source": [
    "\n",
    "A = [\n",
    "    [1, -1, 2, -1],\n",
    "    [1, 0, -1, 1], \n",
    "    [2, 1, 3, -4],\n",
    "    [0, -1, 1, -1]\n",
    "]\n",
    "\n",
    "b1 = [6, 4, -2, 5]\n",
    "\n",
    "b2 = [1, 1, 2, -1]\n",
    "\n",
    "B1 = np.linalg.solve(A, b1)\n",
    "B2 = np.linalg.solve(A, b2)\n",
    "print(B1)\n",
    "print(B2)\n"
   ]
  },
  {
   "cell_type": "markdown",
   "id": "9f0c6479-4cd8-4120-bfc8-5ef45b53c2d5",
   "metadata": {},
   "source": [
    "\n",
    "### 4. Encuentre los valores de A que hacen que la siguiente matriz sea singular.\n",
    "\n",
    "Se puede obtener $\\alpha$ si calculamos el determinante de esta matriz y la igualamos a cero, entonces:\n",
    "\n",
    "$$det(A) = - \\alpha (1 - 2 \\alpha) - \\frac{3}{2} (2 + 2)$$\n",
    "\n",
    "$$det(A) = 2 \\alpha^{2} - \\alpha - 6 = 0$$\n",
    "\n",
    "$$\\alpha = 2      ------    \\alpha = - \\frac{3}{2}$$\n",
    "\n",
    "Si $\\alpha$ tiene alguno de los valores del conjunto: {$- \\frac{3}{2}, 2$}, entonces el sistema no tiene solucion.\n",
    "\n",
    "Si $\\alpha$, para este momento es igual a cero, entonces existen soluciones infinitas.\n",
    "\n",
    "Esta es la matriz reducida, y el valor $(- \\frac{1}{2} - 2 \\alpha)$ es lo que nos interesa.\n",
    "\n",
    "$$- \\frac{1}{2} - 2 \\alpha$$\n",
    "\n",
    "Si $\\alpha$ tiene alguno de los valores del conjunto {$- \\frac{1}{4}$}, entonces el sistema tiene soluciones infinitas.\n",
    "\n",
    "La respuesta es que $\\alpha$ solo puede usar valores reales menos los del conjunto {$- \\frac{3}{2}, - \\frac{1}{4}, 2$}.\n"
   ]
  },
  {
   "cell_type": "markdown",
   "id": "08f2274f-5be8-4094-ae95-0efdc5e39c8e",
   "metadata": {},
   "source": [
    "\n",
    "### 5. Resuelva los siguientes sistemas lineales:\n",
    "\n",
    "a)\n"
   ]
  },
  {
   "cell_type": "code",
   "execution_count": 10,
   "id": "519e6f36-3bea-46bc-be29-cfd420c3f945",
   "metadata": {},
   "outputs": [
    {
     "name": "stdout",
     "output_type": "stream",
     "text": [
      "[-3.  3.  1.]\n"
     ]
    }
   ],
   "source": [
    "\n",
    "A1 = [\n",
    "    [1, 0, 0],\n",
    "    [2, 1, 0],\n",
    "    [-1, 0, 1]\n",
    "]\n",
    "\n",
    "A2 = [\n",
    "    [2, 3, -1],\n",
    "    [0, -2, 1],\n",
    "    [0, 0, 3]\n",
    "]\n",
    "\n",
    "b = [2, -1, 1]\n",
    "\n",
    "C = np.matmul(A1, A2)\n",
    "C = np.linalg.solve(C, b)\n",
    "print(C)\n"
   ]
  },
  {
   "cell_type": "markdown",
   "id": "b974d651-e134-48d7-8807-03c18a3c03dd",
   "metadata": {},
   "source": [
    "b)\n"
   ]
  },
  {
   "cell_type": "code",
   "execution_count": 11,
   "id": "90b7d94c-c24d-459a-ab73-d48d3ef7cdb1",
   "metadata": {},
   "outputs": [
    {
     "name": "stdout",
     "output_type": "stream",
     "text": [
      "[ 0.5 -4.5  3.5]\n"
     ]
    }
   ],
   "source": [
    "\n",
    "A1 = [\n",
    "    [2, 0, 0],\n",
    "    [-1, 1, 0],\n",
    "    [3, 2, -1]\n",
    "]\n",
    "\n",
    "A2 = [\n",
    "    [1, 1, 1],\n",
    "    [0, 1, 2],\n",
    "    [0, 0, 1]\n",
    "]\n",
    "\n",
    "b = [-1, 3, 0]\n",
    "\n",
    "C = np.matmul(A1, A2)\n",
    "C = np.linalg.solve(C, b)\n",
    "print(C)\n"
   ]
  },
  {
   "cell_type": "markdown",
   "id": "ae177db8-e2ed-499a-a76b-6c7937cf561c",
   "metadata": {},
   "source": [
    "\n",
    "### 6. Factorice las siguientes matrices en la descomposicion $LU$ mediante el algoritmo de factorizacion $LU$ con $l_{ii} = 1$ para todas las $i$."
   ]
  },
  {
   "cell_type": "code",
   "execution_count": 13,
   "id": "4dcca6c0-e180-4dd3-a732-58edc70703b3",
   "metadata": {},
   "outputs": [],
   "source": [
    "\n",
    "def descomposicion_LU(A: np.ndarray) -> tuple[np.ndarray, np.ndarray]:\n",
    "    A = np.array(\n",
    "        A, dtype=float\n",
    "    )\n",
    "\n",
    "    assert A.shape[0] == A.shape[1], \"La matriz A debe ser cuadrada.\"\n",
    "    n = A.shape[0]\n",
    "\n",
    "    L = np.zeros((n, n), dtype=float)\n",
    "\n",
    "    for i in range(0, n):  # loop por columna\n",
    "\n",
    "        # --- deterimnar pivote\n",
    "        if A[i, i] == 0:\n",
    "            raise ValueError(\"No existe solucion unica.\")\n",
    "\n",
    "        # --- Eliminación: loop por fila\n",
    "        L[i, i] = 1\n",
    "        for j in range(i + 1, n):\n",
    "            m = A[j, i] / A[i, i]\n",
    "            A[j, i:] = A[j, i:] - m * A[i, i:]\n",
    "\n",
    "            L[j, i] = m\n",
    "\n",
    "    if A[n - 1, n - 1] == 0:\n",
    "        raise ValueError(\"No existe solucion unica.\")\n",
    "\n",
    "    return L, A\n"
   ]
  },
  {
   "cell_type": "markdown",
   "id": "71d8ba99-2e1d-49fd-b152-04d09210d49f",
   "metadata": {},
   "source": [
    "a)\n"
   ]
  },
  {
   "cell_type": "code",
   "execution_count": 14,
   "id": "affe896f-1ccd-4af8-a53a-a17f57ac35da",
   "metadata": {},
   "outputs": [
    {
     "name": "stdout",
     "output_type": "stream",
     "text": [
      "[[1.  0.  0. ]\n",
      " [1.5 1.  0. ]\n",
      " [1.5 1.  1. ]]\n",
      "\n",
      "[[ 2.  -1.   1. ]\n",
      " [ 0.   4.5  7.5]\n",
      " [ 0.   0.  -4. ]]\n"
     ]
    }
   ],
   "source": [
    "\n",
    "A = [\n",
    "    [2, -1, 1],\n",
    "    [3, 3, 9], \n",
    "    [3, 3, 5]\n",
    "]\n",
    "\n",
    "L, U = descomposicion_LU(A)\n",
    "print(L)\n",
    "print()\n",
    "print(U)\n"
   ]
  },
  {
   "cell_type": "markdown",
   "id": "7c99c9df-6527-4727-bba9-99033715e6d9",
   "metadata": {},
   "source": [
    "b)\n"
   ]
  },
  {
   "cell_type": "code",
   "execution_count": 15,
   "id": "f46001e0-de64-4779-b760-f0317bebdd84",
   "metadata": {},
   "outputs": [
    {
     "name": "stdout",
     "output_type": "stream",
     "text": [
      "[[ 1.          0.          0.        ]\n",
      " [-2.10671937  1.          0.        ]\n",
      " [ 3.06719368  1.19775553  1.        ]]\n",
      "\n",
      "[[ 1.012      -2.132       3.104     ]\n",
      " [ 0.         -0.39552569 -0.47374308]\n",
      " [ 0.          0.         -8.93914077]]\n"
     ]
    }
   ],
   "source": [
    "\n",
    "A = [\n",
    "    [1.012, -2.132, 3.104],\n",
    "    [-2.132, 4.096, -7.013], \n",
    "    [3.104, -7.013, 0.014]\n",
    "]\n",
    "\n",
    "L, U = descomposicion_LU(A)\n",
    "print(L)\n",
    "print()\n",
    "print(U)\n"
   ]
  },
  {
   "cell_type": "markdown",
   "id": "5c2342aa-7091-46d3-9033-9bb908a1132f",
   "metadata": {},
   "source": [
    "c)\n"
   ]
  },
  {
   "cell_type": "code",
   "execution_count": 16,
   "id": "2b6ca7c6-b123-491b-88df-98fd7e5c449b",
   "metadata": {},
   "outputs": [
    {
     "name": "stdout",
     "output_type": "stream",
     "text": [
      "[[ 1.          0.          0.          0.        ]\n",
      " [ 0.5         1.          0.          0.        ]\n",
      " [ 0.         -2.          1.          0.        ]\n",
      " [ 1.         -1.33333333  2.          1.        ]]\n",
      "\n",
      "[[2.  0.  0.  0. ]\n",
      " [0.  1.5 0.  0. ]\n",
      " [0.  0.  0.5 0. ]\n",
      " [0.  0.  0.  1. ]]\n"
     ]
    }
   ],
   "source": [
    "\n",
    "A = [\n",
    "    [2, 0, 0, 0],\n",
    "    [1, 1.5, 0, 0], \n",
    "    [0, -3, 0.5, 0],\n",
    "    [2, -2, 1, 1]\n",
    "]\n",
    "\n",
    "L, U = descomposicion_LU(A)\n",
    "print(L)\n",
    "print()\n",
    "print(U)\n"
   ]
  },
  {
   "cell_type": "markdown",
   "id": "fa23120b-a397-42cc-925f-582ee07ee54e",
   "metadata": {},
   "source": [
    "d)\n"
   ]
  },
  {
   "cell_type": "code",
   "execution_count": 17,
   "id": "a5324114-5e0c-4043-bc46-077e9aefbe8f",
   "metadata": {},
   "outputs": [
    {
     "name": "stdout",
     "output_type": "stream",
     "text": [
      "[[ 1.          0.          0.          0.        ]\n",
      " [-1.84919103  1.          0.          0.        ]\n",
      " [-0.45964332 -0.25012194  1.          0.        ]\n",
      " [ 2.76866152 -0.30794361 -5.35228302  1.        ]]\n",
      "\n",
      "[[ 2.17560000e+00  4.02310000e+00 -2.17320000e+00  5.19670000e+00]\n",
      " [ 0.00000000e+00  1.34394804e+01 -4.01866194e+00  1.08069910e+01]\n",
      " [ 0.00000000e+00  4.44089210e-16 -8.92952394e-01  5.09169403e+00]\n",
      " [ 0.00000000e+00  0.00000000e+00  0.00000000e+00  1.20361280e+01]]\n"
     ]
    }
   ],
   "source": [
    "\n",
    "A = [\n",
    "    [2.1756, 4.0231, -2.1732, 5.1967],\n",
    "    [-4.0231, 6, 0, 1.1973], \n",
    "    [-1, -5.2107, 1.1111, 0],\n",
    "    [6.0235, 7, 0, -4.1561]\n",
    "]\n",
    "\n",
    "L, U = descomposicion_LU(A)\n",
    "print(L)\n",
    "print()\n",
    "print(U)\n"
   ]
  },
  {
   "cell_type": "markdown",
   "id": "b2bdb027-e6d8-4863-9066-233646495ea9",
   "metadata": {},
   "source": [
    "### 7. Modifique el algoritmo de eliminacion gaussiana de tal forma que se pueda utilizar para resolver un sistema lineal usando la descomposicion LU y, a continuacion, resuelva los siguientes sistemas lineales.\n"
   ]
  },
  {
   "cell_type": "code",
   "execution_count": 18,
   "id": "d80d728b-b261-47f1-acac-3dc2f7b21279",
   "metadata": {},
   "outputs": [],
   "source": [
    "\n",
    "def eliminacion_gaussiana(A: np.ndarray) -> np.ndarray:\n",
    "    if not isinstance(A, np.ndarray):\n",
    "        A = np.array(A)\n",
    "    assert A.shape[0] == A.shape[1] - 1, \"La matriz A debe ser de tamanio n-by-(n+1).\"\n",
    "    n = A.shape[0]\n",
    "\n",
    "    for i in range(0, n - 1):  # loop por columna\n",
    "\n",
    "        # --- encontrar pivote\n",
    "        p = None  # default, first element\n",
    "        for pi in range(i, n):\n",
    "            if A[pi, i] == 0:\n",
    "                # must be nonzero\n",
    "                continue\n",
    "\n",
    "            if p is None:\n",
    "                # first nonzero element\n",
    "                p = pi\n",
    "                continue\n",
    "\n",
    "            if abs(A[pi, i]) < abs(A[p, i]):\n",
    "                p = pi\n",
    "\n",
    "        if p is None:\n",
    "            # no pivot found.\n",
    "            raise ValueError(\"No existe solucion unica.\")\n",
    "\n",
    "        if p != i:\n",
    "            # swap rows\n",
    "            _aux = A[i, :].copy()\n",
    "            A[i, :] = A[p, :].copy()\n",
    "            A[p, :] = _aux\n",
    "\n",
    "        for j in range(i + 1, n):\n",
    "            m = A[j, i] / A[i, i]\n",
    "            A[j, i:] = A[j, i:] - m * A[i, i:]\n",
    "\n",
    "\n",
    "    if A[n - 1, n - 1] == 0:\n",
    "        raise ValueError(\"No existe solucion unica.\")\n",
    "\n",
    "        print(f\"\\n{A}\")\n",
    "    solucion = np.zeros(n)\n",
    "    solucion[n - 1] = A[n - 1, n] / A[n - 1, n - 1]\n",
    "\n",
    "    for i in range(n - 2, -1, -1):\n",
    "        suma = 0\n",
    "        for j in range(i + 1, n):\n",
    "            suma += A[i, j] * solucion[j]\n",
    "        solucion[i] = (A[i, n] - suma) / A[i, i]\n",
    "\n",
    "    return solucion\n"
   ]
  },
  {
   "cell_type": "markdown",
   "id": "2ee61c93-4e86-4d6a-956c-ca8ff4818b53",
   "metadata": {},
   "source": [
    "a)\n"
   ]
  },
  {
   "cell_type": "code",
   "execution_count": 19,
   "id": "b7209737-fd02-46dc-ac3d-3fdd26f73790",
   "metadata": {},
   "outputs": [
    {
     "name": "stdout",
     "output_type": "stream",
     "text": [
      "[ 1.  2. -1.]\n"
     ]
    }
   ],
   "source": [
    "\n",
    "A = [\n",
    "    [2, -1, 1, -1],\n",
    "    [3, 3, 9, 0], \n",
    "    [3, 3, 5, 4]\n",
    "]\n",
    "\n",
    "x = eliminacion_gaussiana(A)\n",
    "print(x)\n"
   ]
  },
  {
   "cell_type": "markdown",
   "id": "c1961d85-44f2-4d4d-8dde-763306cf8051",
   "metadata": {},
   "source": [
    "b)\n"
   ]
  },
  {
   "cell_type": "code",
   "execution_count": 20,
   "id": "08a3bcfc-a6af-4d80-bdfc-f8e110bb8100",
   "metadata": {},
   "outputs": [
    {
     "name": "stdout",
     "output_type": "stream",
     "text": [
      "[1. 1. 1.]\n"
     ]
    }
   ],
   "source": [
    "\n",
    "A = [\n",
    "    [1.012, -2.132, 3.104, 1.984],\n",
    "    [-2.132, 4.096, -7.013, -5.049], \n",
    "    [3.104, -7.013, 0.014, -3.895]\n",
    "]\n",
    "\n",
    "x = eliminacion_gaussiana(A)\n",
    "print(x)\n"
   ]
  },
  {
   "cell_type": "markdown",
   "id": "c550654b-7d36-4145-884a-406a4c53ad04",
   "metadata": {},
   "source": [
    "c)\n"
   ]
  },
  {
   "cell_type": "code",
   "execution_count": 21,
   "id": "faa2cb50-6b95-49b1-b011-e117a0b3cccb",
   "metadata": {},
   "outputs": [
    {
     "name": "stdout",
     "output_type": "stream",
     "text": [
      "[ 1.5  2.  -1.2  3. ]\n"
     ]
    }
   ],
   "source": [
    "\n",
    "A = [\n",
    "    [2, 0, 0, 0, 3],\n",
    "    [1, 1.5, 0, 0, 4.5], \n",
    "    [0, -3, 0.5, 0, -6.6],\n",
    "    [2, -2, 1, 1, 0.8]\n",
    "]\n",
    "\n",
    "x = eliminacion_gaussiana(A)\n",
    "print(x)\n"
   ]
  },
  {
   "cell_type": "markdown",
   "id": "386f862c-c36a-49f6-a59f-a7f9bf5b8f57",
   "metadata": {},
   "source": [
    "d)\n"
   ]
  },
  {
   "cell_type": "code",
   "execution_count": 22,
   "id": "acce9edd-f53a-40a8-9dd3-c683bdd89bd0",
   "metadata": {},
   "outputs": [
    {
     "name": "stdout",
     "output_type": "stream",
     "text": [
      "[2.9398512  0.0706777  5.67773512 4.37981223]\n"
     ]
    }
   ],
   "source": [
    "\n",
    "A = [\n",
    "    [2.1756, 4.0231, -2.1732, 5.1967, 17.102],\n",
    "    [-4.0231, 6, 0, 1.1973, -6.1593], \n",
    "    [-1, -5.2107, 1.1111, 0, 3.0004],\n",
    "    [6.0235, 7, 0, -4.1561, 0]\n",
    "]\n",
    "\n",
    "x = eliminacion_gaussiana(A)\n",
    "print(x)\n"
   ]
  }
 ],
 "metadata": {
  "kernelspec": {
   "display_name": "Python 3",
   "language": "python",
   "name": "python3"
  },
  "language_info": {
   "codemirror_mode": {
    "name": "ipython",
    "version": 3
   },
   "file_extension": ".py",
   "mimetype": "text/x-python",
   "name": "python",
   "nbconvert_exporter": "python",
   "pygments_lexer": "ipython3",
   "version": "3.13.3"
  }
 },
 "nbformat": 4,
 "nbformat_minor": 5
}

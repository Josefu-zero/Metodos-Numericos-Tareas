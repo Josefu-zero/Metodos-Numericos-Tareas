{
 "cells": [
  {
   "cell_type": "markdown",
   "id": "b0f8795c",
   "metadata": {},
   "source": [
    "# **Escuela Politecnica Nacional** \n",
    "# **Metodos Numericos**\n",
    "# **Tarea 09**\n",
    "## **Fecha:** 13/07/2025\n",
    "## **Nombre:**  Joseph Jimenez"
   ]
  },
  {
   "cell_type": "markdown",
   "id": "a39c99c1",
   "metadata": {},
   "source": [
    "### **1. Para cada uno de los siguientes sistemas lineales, obtenga, de ser posible, una solución con métodos gráficos.**\n",
    "\n",
    "Explique los resultados desde un punto de vista geométrico."
   ]
  },
  {
   "cell_type": "markdown",
   "id": "56daf174",
   "metadata": {},
   "source": [
    "Esta librería tiene una función para resolver un sistema de ecuaciones mediante matrices.\n"
   ]
  },
  {
   "cell_type": "code",
   "execution_count": 2,
   "id": "c90320af",
   "metadata": {},
   "outputs": [],
   "source": [
    "import numpy as np"
   ]
  },
  {
   "cell_type": "markdown",
   "id": "5bec038b",
   "metadata": {},
   "source": [
    "\n",
    "**a)**\n",
    "\n",
    "$$x_1 + 2x_2 = 0$$\n",
    "\n",
    "$$x_1 - x_2 = 0$$\n"
   ]
  },
  {
   "cell_type": "code",
   "execution_count": 3,
   "id": "c8ae32d0",
   "metadata": {},
   "outputs": [
    {
     "name": "stdout",
     "output_type": "stream",
     "text": [
      "[ 0. -0.]\n"
     ]
    }
   ],
   "source": [
    "\n",
    "A = [\n",
    "    [1, 2],\n",
    "    [1, -1]\n",
    "]\n",
    "\n",
    "b = [0, 0]\n",
    "\n",
    "x = np.linalg.solve(A, b)\n",
    "print(x)\n"
   ]
  },
  {
   "cell_type": "markdown",
   "id": "17cd0f12",
   "metadata": {},
   "source": [
    "\n",
    "**b)**\n",
    "\n",
    "$$x_1 + 2x_2 = 3$$\n",
    "\n",
    "$$-2x_1 - 4x_2 = 6$$\n"
   ]
  },
  {
   "cell_type": "code",
   "execution_count": 4,
   "id": "ed3921e0",
   "metadata": {},
   "outputs": [
    {
     "ename": "LinAlgError",
     "evalue": "Singular matrix",
     "output_type": "error",
     "traceback": [
      "\u001b[31m---------------------------------------------------------------------------\u001b[39m",
      "\u001b[31mLinAlgError\u001b[39m                               Traceback (most recent call last)",
      "\u001b[36mCell\u001b[39m\u001b[36m \u001b[39m\u001b[32mIn[4]\u001b[39m\u001b[32m, line 8\u001b[39m\n\u001b[32m      1\u001b[39m A = [\n\u001b[32m      2\u001b[39m     [\u001b[32m1\u001b[39m, \u001b[32m2\u001b[39m],\n\u001b[32m      3\u001b[39m     [-\u001b[32m2\u001b[39m, -\u001b[32m4\u001b[39m]\n\u001b[32m      4\u001b[39m ]\n\u001b[32m      6\u001b[39m b = [\u001b[32m3\u001b[39m, \u001b[32m6\u001b[39m]\n\u001b[32m----> \u001b[39m\u001b[32m8\u001b[39m x = \u001b[43mnp\u001b[49m\u001b[43m.\u001b[49m\u001b[43mlinalg\u001b[49m\u001b[43m.\u001b[49m\u001b[43msolve\u001b[49m\u001b[43m(\u001b[49m\u001b[43mA\u001b[49m\u001b[43m,\u001b[49m\u001b[43m \u001b[49m\u001b[43mb\u001b[49m\u001b[43m)\u001b[49m\n\u001b[32m      9\u001b[39m \u001b[38;5;28mprint\u001b[39m(x)\n",
      "\u001b[36mFile \u001b[39m\u001b[32mc:\\Users\\andyj\\AppData\\Local\\Programs\\Python\\Python313\\Lib\\site-packages\\numpy\\linalg\\_linalg.py:410\u001b[39m, in \u001b[36msolve\u001b[39m\u001b[34m(a, b)\u001b[39m\n\u001b[32m    407\u001b[39m signature = \u001b[33m'\u001b[39m\u001b[33mDD->D\u001b[39m\u001b[33m'\u001b[39m \u001b[38;5;28;01mif\u001b[39;00m isComplexType(t) \u001b[38;5;28;01melse\u001b[39;00m \u001b[33m'\u001b[39m\u001b[33mdd->d\u001b[39m\u001b[33m'\u001b[39m\n\u001b[32m    408\u001b[39m \u001b[38;5;28;01mwith\u001b[39;00m errstate(call=_raise_linalgerror_singular, invalid=\u001b[33m'\u001b[39m\u001b[33mcall\u001b[39m\u001b[33m'\u001b[39m,\n\u001b[32m    409\u001b[39m               over=\u001b[33m'\u001b[39m\u001b[33mignore\u001b[39m\u001b[33m'\u001b[39m, divide=\u001b[33m'\u001b[39m\u001b[33mignore\u001b[39m\u001b[33m'\u001b[39m, under=\u001b[33m'\u001b[39m\u001b[33mignore\u001b[39m\u001b[33m'\u001b[39m):\n\u001b[32m--> \u001b[39m\u001b[32m410\u001b[39m     r = \u001b[43mgufunc\u001b[49m\u001b[43m(\u001b[49m\u001b[43ma\u001b[49m\u001b[43m,\u001b[49m\u001b[43m \u001b[49m\u001b[43mb\u001b[49m\u001b[43m,\u001b[49m\u001b[43m \u001b[49m\u001b[43msignature\u001b[49m\u001b[43m=\u001b[49m\u001b[43msignature\u001b[49m\u001b[43m)\u001b[49m\n\u001b[32m    412\u001b[39m \u001b[38;5;28;01mreturn\u001b[39;00m wrap(r.astype(result_t, copy=\u001b[38;5;28;01mFalse\u001b[39;00m))\n",
      "\u001b[36mFile \u001b[39m\u001b[32mc:\\Users\\andyj\\AppData\\Local\\Programs\\Python\\Python313\\Lib\\site-packages\\numpy\\linalg\\_linalg.py:104\u001b[39m, in \u001b[36m_raise_linalgerror_singular\u001b[39m\u001b[34m(err, flag)\u001b[39m\n\u001b[32m    103\u001b[39m \u001b[38;5;28;01mdef\u001b[39;00m\u001b[38;5;250m \u001b[39m\u001b[34m_raise_linalgerror_singular\u001b[39m(err, flag):\n\u001b[32m--> \u001b[39m\u001b[32m104\u001b[39m     \u001b[38;5;28;01mraise\u001b[39;00m LinAlgError(\u001b[33m\"\u001b[39m\u001b[33mSingular matrix\u001b[39m\u001b[33m\"\u001b[39m)\n",
      "\u001b[31mLinAlgError\u001b[39m: Singular matrix"
     ]
    }
   ],
   "source": [
    "\n",
    "A = [\n",
    "    [1, 2],\n",
    "    [-2, -4]\n",
    "]\n",
    "\n",
    "b = [3, 6]\n",
    "\n",
    "x = np.linalg.solve(A, b)\n",
    "print(x)\n"
   ]
  },
  {
   "cell_type": "markdown",
   "id": "47b251f4",
   "metadata": {},
   "source": [
    "R: No existe solución.\n"
   ]
  },
  {
   "cell_type": "markdown",
   "id": "445a2229",
   "metadata": {},
   "source": [
    "**c)**\n",
    "\n",
    "$$2x_1 + x_2 = -1$$\n",
    "\n",
    "$$x_1 + x_2 = 2$$\n",
    "\n",
    "$$x_1 - 3x_2 = 5$$\n"
   ]
  },
  {
   "cell_type": "code",
   "execution_count": null,
   "id": "1746f4c1",
   "metadata": {},
   "outputs": [
    {
     "ename": "LinAlgError",
     "evalue": "Last 2 dimensions of the array must be square",
     "output_type": "error",
     "traceback": [
      "\u001b[31m---------------------------------------------------------------------------\u001b[39m",
      "\u001b[31mLinAlgError\u001b[39m                               Traceback (most recent call last)",
      "\u001b[36mCell\u001b[39m\u001b[36m \u001b[39m\u001b[32mIn[5]\u001b[39m\u001b[32m, line 9\u001b[39m\n\u001b[32m      1\u001b[39m A = [\n\u001b[32m      2\u001b[39m     [\u001b[32m2\u001b[39m, \u001b[32m1\u001b[39m],\n\u001b[32m      3\u001b[39m     [\u001b[32m1\u001b[39m, \u001b[32m1\u001b[39m],\n\u001b[32m      4\u001b[39m     [\u001b[32m1\u001b[39m, -\u001b[32m3\u001b[39m]\n\u001b[32m      5\u001b[39m ]\n\u001b[32m      7\u001b[39m b = [-\u001b[32m1\u001b[39m, \u001b[32m2\u001b[39m, \u001b[32m5\u001b[39m]\n\u001b[32m----> \u001b[39m\u001b[32m9\u001b[39m x = \u001b[43mnp\u001b[49m\u001b[43m.\u001b[49m\u001b[43mlinalg\u001b[49m\u001b[43m.\u001b[49m\u001b[43msolve\u001b[49m\u001b[43m(\u001b[49m\u001b[43mA\u001b[49m\u001b[43m,\u001b[49m\u001b[43m \u001b[49m\u001b[43mb\u001b[49m\u001b[43m)\u001b[49m\n\u001b[32m     10\u001b[39m \u001b[38;5;28mprint\u001b[39m(x)\n",
      "\u001b[36mFile \u001b[39m\u001b[32mc:\\Users\\andyj\\AppData\\Local\\Programs\\Python\\Python313\\Lib\\site-packages\\numpy\\linalg\\_linalg.py:457\u001b[39m, in \u001b[36msolve\u001b[39m\u001b[34m(a, b)\u001b[39m\n\u001b[32m    384\u001b[39m \u001b[38;5;250m\u001b[39m\u001b[33;03m\"\"\"\u001b[39;00m\n\u001b[32m    385\u001b[39m \u001b[33;03mSolve a linear matrix equation, or system of linear scalar equations.\u001b[39;00m\n\u001b[32m    386\u001b[39m \n\u001b[32m   (...)\u001b[39m\u001b[32m    454\u001b[39m \n\u001b[32m    455\u001b[39m \u001b[33;03m\"\"\"\u001b[39;00m\n\u001b[32m    456\u001b[39m a, _ = _makearray(a)\n\u001b[32m--> \u001b[39m\u001b[32m457\u001b[39m \u001b[43m_assert_stacked_square\u001b[49m\u001b[43m(\u001b[49m\u001b[43ma\u001b[49m\u001b[43m)\u001b[49m\n\u001b[32m    458\u001b[39m b, wrap = _makearray(b)\n\u001b[32m    459\u001b[39m t, result_t = _commonType(a, b)\n",
      "\u001b[36mFile \u001b[39m\u001b[32mc:\\Users\\andyj\\AppData\\Local\\Programs\\Python\\Python313\\Lib\\site-packages\\numpy\\linalg\\_linalg.py:264\u001b[39m, in \u001b[36m_assert_stacked_square\u001b[39m\u001b[34m(*arrays)\u001b[39m\n\u001b[32m    261\u001b[39m     \u001b[38;5;28;01mraise\u001b[39;00m LinAlgError(\u001b[33m'\u001b[39m\u001b[38;5;132;01m%d\u001b[39;00m\u001b[33m-dimensional array given. Array must be \u001b[39m\u001b[33m'\u001b[39m\n\u001b[32m    262\u001b[39m             \u001b[33m'\u001b[39m\u001b[33mat least two-dimensional\u001b[39m\u001b[33m'\u001b[39m % a.ndim)\n\u001b[32m    263\u001b[39m \u001b[38;5;28;01mif\u001b[39;00m m != n:\n\u001b[32m--> \u001b[39m\u001b[32m264\u001b[39m     \u001b[38;5;28;01mraise\u001b[39;00m LinAlgError(\u001b[33m'\u001b[39m\u001b[33mLast 2 dimensions of the array must be square\u001b[39m\u001b[33m'\u001b[39m)\n",
      "\u001b[31mLinAlgError\u001b[39m: Last 2 dimensions of the array must be square"
     ]
    }
   ],
   "source": [
    "\n",
    "A = [\n",
    "    [2, 1],\n",
    "    [1, 1],\n",
    "    [1, -3]\n",
    "]\n",
    "\n",
    "b = [-1, 2, 5]\n",
    "\n",
    "x = np.linalg.solve(A, b)\n",
    "print(x)\n"
   ]
  },
  {
   "cell_type": "markdown",
   "id": "fd4e6c1e",
   "metadata": {},
   "source": [
    "R: Existen soluciones infinitas\n",
    "\n",
    "**d)**\n",
    "\n",
    "$$2x_1 + x_2 + x_3 = 1$$\n",
    "\n",
    "$$2x_1 + 4x_2 - x_3= -1$$\n"
   ]
  },
  {
   "cell_type": "code",
   "execution_count": null,
   "id": "7e91dd3f",
   "metadata": {},
   "outputs": [
    {
     "ename": "LinAlgError",
     "evalue": "Last 2 dimensions of the array must be square",
     "output_type": "error",
     "traceback": [
      "\u001b[31m---------------------------------------------------------------------------\u001b[39m",
      "\u001b[31mLinAlgError\u001b[39m                               Traceback (most recent call last)",
      "\u001b[36mCell\u001b[39m\u001b[36m \u001b[39m\u001b[32mIn[6]\u001b[39m\u001b[32m, line 8\u001b[39m\n\u001b[32m      1\u001b[39m A = [\n\u001b[32m      2\u001b[39m     [\u001b[32m2\u001b[39m, \u001b[32m1\u001b[39m, \u001b[32m1\u001b[39m],\n\u001b[32m      3\u001b[39m     [\u001b[32m2\u001b[39m, \u001b[32m4\u001b[39m, -\u001b[32m1\u001b[39m]\n\u001b[32m      4\u001b[39m ]\n\u001b[32m      6\u001b[39m b = [\u001b[32m1\u001b[39m, -\u001b[32m1\u001b[39m]\n\u001b[32m----> \u001b[39m\u001b[32m8\u001b[39m x = \u001b[43mnp\u001b[49m\u001b[43m.\u001b[49m\u001b[43mlinalg\u001b[49m\u001b[43m.\u001b[49m\u001b[43msolve\u001b[49m\u001b[43m(\u001b[49m\u001b[43mA\u001b[49m\u001b[43m,\u001b[49m\u001b[43m \u001b[49m\u001b[43mb\u001b[49m\u001b[43m)\u001b[49m\n\u001b[32m      9\u001b[39m \u001b[38;5;28mprint\u001b[39m(x)\n",
      "\u001b[36mFile \u001b[39m\u001b[32mc:\\Users\\andyj\\AppData\\Local\\Programs\\Python\\Python313\\Lib\\site-packages\\numpy\\linalg\\_linalg.py:457\u001b[39m, in \u001b[36msolve\u001b[39m\u001b[34m(a, b)\u001b[39m\n\u001b[32m    384\u001b[39m \u001b[38;5;250m\u001b[39m\u001b[33;03m\"\"\"\u001b[39;00m\n\u001b[32m    385\u001b[39m \u001b[33;03mSolve a linear matrix equation, or system of linear scalar equations.\u001b[39;00m\n\u001b[32m    386\u001b[39m \n\u001b[32m   (...)\u001b[39m\u001b[32m    454\u001b[39m \n\u001b[32m    455\u001b[39m \u001b[33;03m\"\"\"\u001b[39;00m\n\u001b[32m    456\u001b[39m a, _ = _makearray(a)\n\u001b[32m--> \u001b[39m\u001b[32m457\u001b[39m \u001b[43m_assert_stacked_square\u001b[49m\u001b[43m(\u001b[49m\u001b[43ma\u001b[49m\u001b[43m)\u001b[49m\n\u001b[32m    458\u001b[39m b, wrap = _makearray(b)\n\u001b[32m    459\u001b[39m t, result_t = _commonType(a, b)\n",
      "\u001b[36mFile \u001b[39m\u001b[32mc:\\Users\\andyj\\AppData\\Local\\Programs\\Python\\Python313\\Lib\\site-packages\\numpy\\linalg\\_linalg.py:264\u001b[39m, in \u001b[36m_assert_stacked_square\u001b[39m\u001b[34m(*arrays)\u001b[39m\n\u001b[32m    261\u001b[39m     \u001b[38;5;28;01mraise\u001b[39;00m LinAlgError(\u001b[33m'\u001b[39m\u001b[38;5;132;01m%d\u001b[39;00m\u001b[33m-dimensional array given. Array must be \u001b[39m\u001b[33m'\u001b[39m\n\u001b[32m    262\u001b[39m             \u001b[33m'\u001b[39m\u001b[33mat least two-dimensional\u001b[39m\u001b[33m'\u001b[39m % a.ndim)\n\u001b[32m    263\u001b[39m \u001b[38;5;28;01mif\u001b[39;00m m != n:\n\u001b[32m--> \u001b[39m\u001b[32m264\u001b[39m     \u001b[38;5;28;01mraise\u001b[39;00m LinAlgError(\u001b[33m'\u001b[39m\u001b[33mLast 2 dimensions of the array must be square\u001b[39m\u001b[33m'\u001b[39m)\n",
      "\u001b[31mLinAlgError\u001b[39m: Last 2 dimensions of the array must be square"
     ]
    }
   ],
   "source": [
    "\n",
    "A = [\n",
    "    [2, 1, 1],\n",
    "    [2, 4, -1]\n",
    "]\n",
    "\n",
    "b = [1, -1]\n",
    "\n",
    "x = np.linalg.solve(A, b)\n",
    "print(x)\n"
   ]
  },
  {
   "cell_type": "markdown",
   "id": "5cd1ad32",
   "metadata": {},
   "source": [
    "\n",
    "Soluciones infinitas\n"
   ]
  },
  {
   "cell_type": "markdown",
   "id": "782323a9",
   "metadata": {},
   "source": [
    "### **2. Utilice la eliminación gaussiana con sustitución hacia atrás y aritmética de redondeo de dos dígitos para resolver los siguientes sistemas lineales. No reordene las ecuaciones. (La solución exacta para cada sistema es $x_1 = -1$, $x_2 = 2$, $x_3 = 3$.)**"
   ]
  },
  {
   "cell_type": "markdown",
   "id": "c6397cf0",
   "metadata": {},
   "source": [
    "\n",
    "**a)**\n",
    "\n",
    "$$-x_1 + 4x_2 + x_3 = 8$$\n",
    "\n",
    "$$\\frac{5}{3}x_1 + \\frac{2}{3}x_2 - \\frac{2}{3}x_3= 1$$\n",
    "\n",
    "$$2x_1 + x_2 + 4x_3 = 11$$\n"
   ]
  },
  {
   "cell_type": "code",
   "execution_count": 5,
   "id": "4d34e88a",
   "metadata": {},
   "outputs": [
    {
     "name": "stdout",
     "output_type": "stream",
     "text": [
      "[-1.00651042  0.99739583  3.00390625]\n"
     ]
    }
   ],
   "source": [
    "A = [\n",
    "    [-1, 4, 1],\n",
    "    [round(5/3, 2), round(2/3, 2), round(2/3, 2)],\n",
    "    [2, 1, 4]\n",
    "]\n",
    "\n",
    "b = [8, 1, 11]\n",
    "\n",
    "x = np.linalg.solve(A, b)\n",
    "print(x)"
   ]
  },
  {
   "cell_type": "markdown",
   "id": "64141fca",
   "metadata": {},
   "source": [
    "**b)**\n",
    "\n",
    "$$4x_1 + 2x_2 - x_3 = -5$$\n",
    "\n",
    "$$\\frac{1}{9}x_1 + \\frac{1}{9}x_2 - \\frac{1}{3}x_3= -1$$\n",
    "\n",
    "$$x_1 + 4x_2 + 2x_3 = 9$$\n"
   ]
  },
  {
   "cell_type": "code",
   "execution_count": 8,
   "id": "0ce825c6",
   "metadata": {},
   "outputs": [
    {
     "name": "stdout",
     "output_type": "stream",
     "text": [
      "[-4.52993348  4.97117517 -3.17738359]\n"
     ]
    }
   ],
   "source": [
    "\n",
    "A = [\n",
    "    [4, 2, -1],\n",
    "    [round(1/9, 2), round(1/9, 2), round(1/3, 2)],\n",
    "    [1, 4, 2]\n",
    "]\n",
    "\n",
    "b = [-5, -1, 9]\n",
    "\n",
    "x = np.linalg.solve(A, b)\n",
    "print(x)\n"
   ]
  },
  {
   "cell_type": "markdown",
   "id": "a8a57770",
   "metadata": {},
   "source": [
    "\n",
    "### **3. Utilice el algoritmo de eliminación gaussiana para resolver, de ser posible, los siguientes sistemas de ecuaciones lineales y muestre los intercambios de fila necesarios.**\n"
   ]
  },
  {
   "cell_type": "code",
   "execution_count": 9,
   "id": "a629bce2",
   "metadata": {},
   "outputs": [],
   "source": [
    "def eliminacion_gaussiana(A: np.ndarray) -> np.ndarray:\n",
    "    A = np.array(A)\n",
    "    assert A.shape[0] == A.shape[1] - 1, \"La matriz A debe ser de tamaño n-by-(n+1).\"\n",
    "    n = A.shape[0]\n",
    "\n",
    "    for i in range(0, n - 1):  # loop por columna\n",
    "\n",
    "        # --- encontrar pivote\n",
    "        p = None  # default, first element\n",
    "        for pi in range(i, n):\n",
    "            if A[pi, i] == 0:\n",
    "                # must be nonzero\n",
    "                continue\n",
    "\n",
    "            if p is None:\n",
    "                # first nonzero element\n",
    "                p = pi\n",
    "                continue\n",
    "\n",
    "            if abs(A[pi, i]) < abs(A[p, i]):\n",
    "                p = pi\n",
    "\n",
    "        if p is None:\n",
    "            # no pivot found.\n",
    "            raise ValueError(\"No existe solución única.\")\n",
    "\n",
    "        if p != i:\n",
    "            # swap rows\n",
    "            print(f\"Intercambiando filas {i} y {p}\")\n",
    "            _aux = A[i, :].copy()\n",
    "            A[i, :] = A[p, :].copy()\n",
    "            A[p, :] = _aux\n",
    "\n",
    "        # --- Eliminación: loop por fila\n",
    "        for j in range(i + 1, n):\n",
    "            m = A[j, i] / A[i, i]\n",
    "            A[j, i:] = A[j, i:] - m * A[i, i:]\n",
    "\n",
    "\n",
    "    if A[n - 1, n - 1] == 0:\n",
    "        raise ValueError(\"No existe solución única.\")\n",
    "\n",
    "        print(f\"\\n{A}\")\n",
    "    # --- Sustitución hacia atrás\n",
    "    solucion = np.zeros(n)\n",
    "    solucion[n - 1] = A[n - 1, n] / A[n - 1, n - 1]\n",
    "\n",
    "    for i in range(n - 2, -1, -1):\n",
    "        suma = 0\n",
    "        for j in range(i + 1, n):\n",
    "            suma += A[i, j] * solucion[j]\n",
    "        solucion[i] = (A[i, n] - suma) / A[i, i]\n",
    "\n",
    "    return solucion"
   ]
  },
  {
   "cell_type": "markdown",
   "id": "9d349706",
   "metadata": {},
   "source": [
    "**a)**\n",
    "\n",
    "$$x_1 - x_2 + 3x_3 = 2$$\n",
    "\n",
    "$$3x_1 - 3x_2 + 1x_3= - 1$$\n",
    "\n",
    "$$x_1 + x_2  = 3$$\n"
   ]
  },
  {
   "cell_type": "code",
   "execution_count": 10,
   "id": "69dfb9c9",
   "metadata": {},
   "outputs": [
    {
     "name": "stdout",
     "output_type": "stream",
     "text": [
      "Intercambiando filas 1 y 2\n",
      "[1.1875 1.8125 0.875 ]\n"
     ]
    }
   ],
   "source": [
    "\n",
    "A = [\n",
    "    [1, -1, 3, 2],\n",
    "    [3, -3, 1, -1],\n",
    "    [1, 1, 0, 3]\n",
    "]\n",
    "\n",
    "x = eliminacion_gaussiana(A)\n",
    "print(x)\n"
   ]
  },
  {
   "cell_type": "markdown",
   "id": "1defb7a6",
   "metadata": {},
   "source": [
    "**b)**\n",
    "\n",
    "$$2x_1 - 1.5x_2 + 3x_3 = 1$$\n",
    "\n",
    "$$-x_1 + 2x_3 = 3$$\n",
    "\n",
    "$$4x_1 - 4.5x_2 + 5x_3 = 1$$\n"
   ]
  },
  {
   "cell_type": "code",
   "execution_count": 11,
   "id": "4edf86ce",
   "metadata": {},
   "outputs": [
    {
     "name": "stdout",
     "output_type": "stream",
     "text": [
      "Intercambiando filas 0 y 1\n",
      "[-1. -0.  1.]\n"
     ]
    }
   ],
   "source": [
    "\n",
    "A = [\n",
    "    [2, -1.5, 3, 1],\n",
    "    [-1, 0, 2, 3],\n",
    "    [4, -4.5, 5, 1]\n",
    "]\n",
    "\n",
    "x = eliminacion_gaussiana(A)\n",
    "print(x)\n"
   ]
  },
  {
   "cell_type": "markdown",
   "id": "07ea2157",
   "metadata": {},
   "source": [
    "**c)**\n",
    "\n",
    "$$2x_1 = 3$$\n",
    "\n",
    "$$x_1 + 1.5x_2= 4.5$$\n",
    "\n",
    "$$- 3x_2 - 0.5x_3 = -6.6$$\n",
    "\n",
    "$$2x_1 - 2x_2 + x_3 + x_4 = 0.8$$\n"
   ]
  },
  {
   "cell_type": "code",
   "execution_count": null,
   "id": "454a092c",
   "metadata": {},
   "outputs": [
    {
     "name": "stdout",
     "output_type": "stream",
     "text": [
      "Intercambiando filas 0 y 1\n",
      "[ 1.5  2.  -1.2  3. ]\n"
     ]
    }
   ],
   "source": [
    "\n",
    "A = [\n",
    "    [2, 0, 0, 0, 3],\n",
    "    [1, 1.5, 0, 0, 4.5],\n",
    "    [0, -3, 0.5, 0, -6.6],\n",
    "    [2, -2, 1, 1, 0.8]\n",
    "]\n",
    "\n",
    "x = eliminacion_gaussiana(A)\n",
    "print(x)\n"
   ]
  },
  {
   "cell_type": "markdown",
   "id": "a6880a77",
   "metadata": {},
   "source": [
    "**d)**\n",
    "\n",
    "$$x_1 + x_2 + x_4 = 2$$\n",
    "\n",
    "$$2x_1 + x_2 - x_3 + x_4 = 1$$\n",
    "\n",
    "$$4x_1 - x_2 - 2x_3 + 2x_4 = 0$$\n",
    "\n",
    "$$3x_1 - x_2 - x_3 + 2x_4 = -3$$\n"
   ]
  },
  {
   "cell_type": "code",
   "execution_count": 12,
   "id": "523fcf5b",
   "metadata": {},
   "outputs": [
    {
     "ename": "ValueError",
     "evalue": "No existe solución única.",
     "output_type": "error",
     "traceback": [
      "\u001b[31m---------------------------------------------------------------------------\u001b[39m",
      "\u001b[31mValueError\u001b[39m                                Traceback (most recent call last)",
      "\u001b[36mCell\u001b[39m\u001b[36m \u001b[39m\u001b[32mIn[12]\u001b[39m\u001b[32m, line 8\u001b[39m\n\u001b[32m      1\u001b[39m A = [\n\u001b[32m      2\u001b[39m     [\u001b[32m1\u001b[39m, \u001b[32m1\u001b[39m, \u001b[32m0\u001b[39m, \u001b[32m1\u001b[39m, \u001b[32m2\u001b[39m],\n\u001b[32m      3\u001b[39m     [\u001b[32m2\u001b[39m, \u001b[32m1\u001b[39m, -\u001b[32m1\u001b[39m, \u001b[32m1\u001b[39m, \u001b[32m1\u001b[39m],\n\u001b[32m      4\u001b[39m     [\u001b[32m4\u001b[39m, -\u001b[32m1\u001b[39m, -\u001b[32m2\u001b[39m, \u001b[32m2\u001b[39m, \u001b[32m0\u001b[39m],\n\u001b[32m      5\u001b[39m     [\u001b[32m3\u001b[39m, -\u001b[32m1\u001b[39m, -\u001b[32m1\u001b[39m, \u001b[32m2\u001b[39m, -\u001b[32m3\u001b[39m]\n\u001b[32m      6\u001b[39m ]\n\u001b[32m----> \u001b[39m\u001b[32m8\u001b[39m x = \u001b[43meliminacion_gaussiana\u001b[49m\u001b[43m(\u001b[49m\u001b[43mA\u001b[49m\u001b[43m)\u001b[49m\n\u001b[32m      9\u001b[39m \u001b[38;5;28mprint\u001b[39m(x)\n",
      "\u001b[36mCell\u001b[39m\u001b[36m \u001b[39m\u001b[32mIn[9]\u001b[39m\u001b[32m, line 41\u001b[39m, in \u001b[36meliminacion_gaussiana\u001b[39m\u001b[34m(A)\u001b[39m\n\u001b[32m     37\u001b[39m         A[j, i:] = A[j, i:] - m * A[i, i:]\n\u001b[32m     40\u001b[39m \u001b[38;5;28;01mif\u001b[39;00m A[n - \u001b[32m1\u001b[39m, n - \u001b[32m1\u001b[39m] == \u001b[32m0\u001b[39m:\n\u001b[32m---> \u001b[39m\u001b[32m41\u001b[39m     \u001b[38;5;28;01mraise\u001b[39;00m \u001b[38;5;167;01mValueError\u001b[39;00m(\u001b[33m\"\u001b[39m\u001b[33mNo existe solución única.\u001b[39m\u001b[33m\"\u001b[39m)\n\u001b[32m     43\u001b[39m     \u001b[38;5;28mprint\u001b[39m(\u001b[33mf\u001b[39m\u001b[33m\"\u001b[39m\u001b[38;5;130;01m\\n\u001b[39;00m\u001b[38;5;132;01m{\u001b[39;00mA\u001b[38;5;132;01m}\u001b[39;00m\u001b[33m\"\u001b[39m)\n\u001b[32m     44\u001b[39m \u001b[38;5;66;03m# --- Sustitución hacia atrás\u001b[39;00m\n",
      "\u001b[31mValueError\u001b[39m: No existe solución única."
     ]
    }
   ],
   "source": [
    "\n",
    "A = [\n",
    "    [1, 1, 0, 1, 2],\n",
    "    [2, 1, -1, 1, 1],\n",
    "    [4, -1, -2, 2, 0],\n",
    "    [3, -1, -1, 2, -3]\n",
    "]\n",
    "\n",
    "x = eliminacion_gaussiana(A)\n",
    "print(x)\n"
   ]
  },
  {
   "cell_type": "markdown",
   "id": "c7d11e92",
   "metadata": {},
   "source": [
    "\n",
    "### **4.Use el algoritmo de eliminación gaussiana y la aritmética computacional de precisión de 32 bits para resolver los siguientes sistemas lineales.**\n"
   ]
  },
  {
   "cell_type": "code",
   "execution_count": 14,
   "id": "54b07321",
   "metadata": {},
   "outputs": [],
   "source": [
    "def eliminacion_gaussiana(A: np.ndarray) -> np.ndarray:\n",
    "    A = np.array(A)\n",
    "    \n",
    "    assert A.shape[0] == A.shape[1] - 1, \"La matriz A debe ser de tamaño n-by-(n+1).\"\n",
    "    n = A.shape[0]\n",
    "\n",
    "    for i in range(0, n - 1):  # loop por columna\n",
    "\n",
    "        # --- encontrar pivote\n",
    "        p = None  # default, first element\n",
    "        for pi in range(i, n):\n",
    "            if A[pi, i] == 0:\n",
    "                # debe ser distinto de cero\n",
    "                continue\n",
    "\n",
    "            if p is None:\n",
    "                # first nonzero element\n",
    "                p = pi\n",
    "                continue\n",
    "\n",
    "            if abs(A[pi, i]) < abs(A[p, i]):\n",
    "                p = pi\n",
    "\n",
    "        if p is None:\n",
    "            # no pivot found.\n",
    "            raise ValueError(\"No existe solución única.\")\n",
    "\n",
    "        if p != i:\n",
    "            # swap rows\n",
    "            print(f\"Intercambiando filas {i} y {p}\")\n",
    "            _aux = A[i, :].copy()\n",
    "            A[i, :] = A[p, :].copy()\n",
    "            A[p, :] = _aux\n",
    "\n",
    "        # --- Eliminación: loop por fila\n",
    "        for j in range(i + 1, n):\n",
    "            m = A[j, i] / A[i, i]\n",
    "            A[j, i:] = A[j, i:] - m * A[i, i:]\n",
    "\n",
    "    if A[n - 1, n - 1] == 0:\n",
    "        raise ValueError(\"No existe solución única.\")\n",
    "\n",
    "    # --- Sustitución hacia atrás\n",
    "    solucion = np.zeros(n, dtype=np.float32)\n",
    "    solucion[n - 1] = A[n - 1, n] / A[n - 1, n - 1]\n",
    "\n",
    "    for i in range(n - 2, -1, -1):\n",
    "        suma = 0\n",
    "        for j in range(i + 1, n):\n",
    "            suma += A[i, j] * solucion[j]\n",
    "        solucion[i] = (A[i, n] - suma) / A[i, i]\n",
    "\n",
    "    return solucion\n"
   ]
  },
  {
   "cell_type": "markdown",
   "id": "943092e6",
   "metadata": {},
   "source": [
    "**a)**\n",
    "\n",
    "$$\\frac{1}{4}x_1 + \\frac{1}{5}x_2 + \\frac{1}{6}x_3 = 9$$\n",
    "\n",
    "$$\\frac{1}{3}x_1 + \\frac{1}{4}x_2 + \\frac{1}{5}x_3= 8$$\n",
    "\n",
    "$$\\frac{1}{2}x_1 + x_2 + 2x_3 = 8$$\n"
   ]
  },
  {
   "cell_type": "code",
   "execution_count": null,
   "id": "ea04bcea",
   "metadata": {},
   "outputs": [
    {
     "name": "stdout",
     "output_type": "stream",
     "text": [
      "[-227.07666  476.92264 -177.69217]\n"
     ]
    }
   ],
   "source": [
    "\n",
    "A = np.array([[1/4, 1/5, 1/6, 9],\n",
    "              [1/3, 1/4, 1/5, 8],\n",
    "              [1/2, 1, 2, 8]], dtype=np.float32)\n",
    "\n",
    "solucion = eliminacion_gaussiana(A)\n",
    "print(solucion)\n"
   ]
  },
  {
   "cell_type": "markdown",
   "id": "7ecfe6d4",
   "metadata": {},
   "source": [
    "**b)**\n",
    "\n",
    "$$3.333x_1 + 15920x_2 - 10.333x_3 = 15913$$\n",
    "\n",
    "$$2.222x_1 + 16.71x_2 + 9.612x_3 = 28.544$$\n",
    "\n",
    "$$1.5611x_1 + 5.1791x_2 + 1.6852x_3 = 8.4254$$\n"
   ]
  },
  {
   "cell_type": "code",
   "execution_count": 15,
   "id": "faef8040",
   "metadata": {},
   "outputs": [
    {
     "name": "stdout",
     "output_type": "stream",
     "text": [
      "Intercambiando filas 0 y 2\n",
      "[1.0024955 0.9987004 1.0016824]\n"
     ]
    }
   ],
   "source": [
    "A = np.array([[3.333, 15920, 10.333, 15913],\n",
    "              [2.222, 16.71, 9.612, 28.544],\n",
    "              [1.5611, 5.1791, 1.6852, 8.4254]], dtype=np.float32)\n",
    "\n",
    "solucion = eliminacion_gaussiana(A)\n",
    "print(solucion)"
   ]
  },
  {
   "cell_type": "markdown",
   "id": "dd4e850f",
   "metadata": {},
   "source": [
    "**c)**\n",
    "\n",
    "$$x_1 + \\frac{1}{2}x_2 + \\frac{1}{3}x_3 + \\frac{1}{4}x_4 = \\frac{1}{6}$$\n",
    "\n",
    "$$\\frac{1}{2}x_1 + \\frac{1}{3}x_2 + \\frac{1}{4}x_3 + \\frac{1}{5}x_4 = \\frac{1}{7}$$\n",
    "\n",
    "$$\\frac{1}{3}x_1 + \\frac{1}{4}x_2 + \\frac{1}{5}x_3 + \\frac{1}{6}x_4 = \\frac{1}{8}$$\n",
    "\n",
    "$$\\frac{1}{4}x_1 + \\frac{1}{5}x_2 + \\frac{1}{6}x_3 + \\frac{1}{7}x_4 = \\frac{1}{9}$$\n"
   ]
  },
  {
   "cell_type": "code",
   "execution_count": 16,
   "id": "264ba5b9",
   "metadata": {},
   "outputs": [
    {
     "name": "stdout",
     "output_type": "stream",
     "text": [
      "Intercambiando filas 0 y 3\n",
      "Intercambiando filas 1 y 2\n",
      "[-0.03174075  0.5951853  -2.3808312   2.7777011 ]\n"
     ]
    }
   ],
   "source": [
    "A = np.array([[1, 1/2, 1/3, 1/4, 1/6],\n",
    "              [1/2, 1/3, 1/4, 1/5, 1/7],\n",
    "              [1/3, 1/4, 1/5, 1/6, 1/8],\n",
    "              [1/4, 1/5, 1/6, 1/7, 1/9]], dtype=np.float32)\n",
    "\n",
    "solucion = eliminacion_gaussiana(A)\n",
    "print(solucion)"
   ]
  },
  {
   "cell_type": "markdown",
   "id": "f358b7ae",
   "metadata": {},
   "source": [
    "**d)**\n",
    "\n",
    "$$2x_1 + x_2 - x_3 + x_4 - 3x_5 = 7$$\n",
    "\n",
    "$$x_1 + 2x_3 - x_4 + x_5 = 2$$\n",
    "\n",
    "$$- 2x_2 - x_3 + x_4 - x_5 = -5$$\n",
    "\n",
    "$$3x_1 + x_2 - 4x_3 + 5x_5 = 6$$\n",
    "\n",
    "$$x_1 - x_2 - x_3 - x_4 + x_5= -3$$\n"
   ]
  },
  {
   "cell_type": "code",
   "execution_count": 17,
   "id": "d357580b",
   "metadata": {},
   "outputs": [
    {
     "name": "stdout",
     "output_type": "stream",
     "text": [
      "Intercambiando filas 0 y 1\n",
      "Intercambiando filas 2 y 3\n",
      "Intercambiando filas 3 y 4\n",
      "[1.8830411  2.807017   0.73099416 1.4385967  0.09356727]\n"
     ]
    }
   ],
   "source": [
    "A = np.array([[2, 1, -1, 1, -3, 7],\n",
    "              [1, 0, 2, -1, 1, 2],\n",
    "              [0, -2, -1, 1, -1, -5],\n",
    "              [3, 1, -4, 0, 5, 6],\n",
    "              [1, -1, -1, -1, 1, -3]], dtype=np.float32)\n",
    "\n",
    "solucion = eliminacion_gaussiana(A)\n",
    "print(solucion)"
   ]
  },
  {
   "cell_type": "markdown",
   "id": "13225fc3",
   "metadata": {},
   "source": [
    "\n",
    "### **5.Dado el sistema lineal:**\n",
    "\n",
    "$$x_1 - x_2 + \\alpha x_3 = -2$$\n",
    "\n",
    "$$- x_1 + 2x_2 - \\alpha x_3 = 3$$\n",
    "\n",
    "$$\\alpha x_1 + x_2 + x_3 = 2$$\n",
    "\n",
    "**a)**\n",
    "\n",
    "Encuentre el valor(es) de $\\alpha$ para los que el sistema no tiene soluciones.\n",
    "\n",
    "Se puede obtener $\\alpha$ si calculamos el determinante de esta matriz y la igualamos a cero, entonces:\n",
    "\n",
    "$$det(A) = (2 + \\alpha) + (-1 + \\alpha) + \\alpha (- 1 - 2 \\alpha) = 0$$\n",
    "\n",
    "$$det(A) = 2 \\alpha^{2} - \\alpha + 1 = 0$$\n",
    "\n",
    "$$\\alpha = 1      ;     \\alpha = - \\frac{1}{2}$$\n",
    "\n",
    "Si $\\alpha$ tiene alguno de los valores del conjunto: $\\set{-\\frac{1}{2}, 1}$, entonces el sistema no tiene solución.\n",
    "\n",
    "**b)**\n",
    "\n",
    "Encuentre el valor(es) de 𝛼 para los que el sistema tiene un número infinito de soluciones.\n",
    "\n",
    "Para encontrar el valor de $\\alpha$ necesitamos reducir la matriz ampliada de este sistema de ecuaciones de manera que encontremos la última fila dependiendo de este escalar. Si $\\alpha$, para este momento es igual a cero, entonces existen soluciones infinitas.\n",
    "\n",
    "$$\\begin{pmatrix} 1 & -1 & \\alpha & -2 \\\\ 0 & 1 & 0 & 1 \\\\ 0 & 0 & (1 - \\alpha^{2}) & .... \\end{pmatrix}$$\n",
    "\n",
    "Esta es la matriz reducida, y el valor $(1 - \\alpha^{2})$ es lo que nos interesa.\n",
    "\n",
    "$$1 - \\alpha^{2} = 0$$\n",
    "\n",
    "Si $\\alpha$ tiene alguno de los valores del conjunto $\\set{-1, 1}$, entonces el sistema tiene soluciones infinitas.\n",
    "\n",
    "**c)**\n",
    "\n",
    "Suponga que existe una única solución para una a determinada, encuentre la solución.\n",
    "\n",
    "Asignemos de manera: $\\alpha = 2$. Con esto, calculemos las soluciones mediante numpy.\n"
   ]
  },
  {
   "cell_type": "code",
   "execution_count": null,
   "id": "d0977b2f",
   "metadata": {},
   "outputs": [
    {
     "name": "stdout",
     "output_type": "stream",
     "text": [
      "[ 1.  1. -1.]\n"
     ]
    }
   ],
   "source": [
    "\n",
    "A = [\n",
    "    [1, -1, 2],\n",
    "    [-1, 2, -2],\n",
    "    [2, 1, 1]\n",
    "]\n",
    "\n",
    "b = [-2, 3, 2]\n",
    "\n",
    "x = np.linalg.solve(A, b)\n",
    "print(x)\n"
   ]
  },
  {
   "cell_type": "markdown",
   "id": "ca6cc5fc",
   "metadata": {},
   "source": [
    "El sistema si tiene solución.\n",
    "\n",
    "### **6. Suponga que en un sistema biológico existen $n$ especies de animales y $m$ fuentes de alimento. Si $x_j$ representa la población de las j-ésimas especies, para cada $j = 1, ... , n$,;$b_i$; representa el suministro diario disponible del i-ésimoalimento $a_{ij}$𝑗 representa la cantidad del i-ésimo alimento**\n",
    "\n",
    "**a)**\n",
    "\n",
    "Si:\n",
    "\n",
    "$$\\begin{pmatrix} 1 & 2 & 0 & 3 \\\\ 1 & 0 & 2 & 2 \\\\ 0 & 0 & 1 & 1 \\end{pmatrix}$$\n",
    "\n",
    "$x = (x_j) = (1000, 500, 350, 400)$ y $b = (b_i) = (3500, 2700, 900)$. ¿Existe suficiente alimento para satisfacer el promedio consumo diario?\n",
    ". "
   ]
  },
  {
   "cell_type": "code",
   "execution_count": 18,
   "id": "6fabf799",
   "metadata": {},
   "outputs": [
    {
     "name": "stdout",
     "output_type": "stream",
     "text": [
      "[3200 2500  750]\n"
     ]
    }
   ],
   "source": [
    "A = [\n",
    "    [1, 2, 0, 3],\n",
    "    [1, 0, 2, 2],\n",
    "    [0, 0, 1, 1]\n",
    "]\n",
    "\n",
    "x = [1000, 500, 350, 400]\n",
    "\n",
    "x = np.matmul(A, x)\n",
    "print(x)"
   ]
  },
  {
   "cell_type": "markdown",
   "id": "6ff205fc",
   "metadata": {},
   "source": [
    "\n",
    "El alimento fue suficiente para satisfacer a las poblaciones de especies que conviven debido al suministro por donde se parte ($[3500, 2700, 900]$).\n",
    "\n",
    "**b) Cuál es el número máximo de animales de cada especie que se podría agregar de forma individual al sistema con el suministro de alimento que cumpla con el consumo?**"
   ]
  },
  {
   "cell_type": "code",
   "execution_count": 19,
   "id": "c18caa4a",
   "metadata": {},
   "outputs": [
    {
     "ename": "LinAlgError",
     "evalue": "Last 2 dimensions of the array must be square",
     "output_type": "error",
     "traceback": [
      "\u001b[31m---------------------------------------------------------------------------\u001b[39m",
      "\u001b[31mLinAlgError\u001b[39m                               Traceback (most recent call last)",
      "\u001b[36mCell\u001b[39m\u001b[36m \u001b[39m\u001b[32mIn[19]\u001b[39m\u001b[32m, line 9\u001b[39m\n\u001b[32m      1\u001b[39m A = [\n\u001b[32m      2\u001b[39m     [\u001b[32m1\u001b[39m, \u001b[32m2\u001b[39m, \u001b[32m0\u001b[39m, \u001b[32m3\u001b[39m],\n\u001b[32m      3\u001b[39m     [\u001b[32m1\u001b[39m, \u001b[32m0\u001b[39m, \u001b[32m2\u001b[39m, \u001b[32m2\u001b[39m],\n\u001b[32m      4\u001b[39m     [\u001b[32m0\u001b[39m, \u001b[32m0\u001b[39m, \u001b[32m1\u001b[39m, \u001b[32m1\u001b[39m]\n\u001b[32m      5\u001b[39m ]\n\u001b[32m      7\u001b[39m b = [\u001b[32m3500\u001b[39m, \u001b[32m2700\u001b[39m, \u001b[32m900\u001b[39m]\n\u001b[32m----> \u001b[39m\u001b[32m9\u001b[39m x = \u001b[43mnp\u001b[49m\u001b[43m.\u001b[49m\u001b[43mlinalg\u001b[49m\u001b[43m.\u001b[49m\u001b[43msolve\u001b[49m\u001b[43m(\u001b[49m\u001b[43mA\u001b[49m\u001b[43m,\u001b[49m\u001b[43m \u001b[49m\u001b[43mb\u001b[49m\u001b[43m)\u001b[49m\n\u001b[32m     10\u001b[39m \u001b[38;5;28mprint\u001b[39m(x)\n",
      "\u001b[36mFile \u001b[39m\u001b[32mc:\\Users\\andyj\\AppData\\Local\\Programs\\Python\\Python313\\Lib\\site-packages\\numpy\\linalg\\_linalg.py:396\u001b[39m, in \u001b[36msolve\u001b[39m\u001b[34m(a, b)\u001b[39m\n\u001b[32m    394\u001b[39m a, _ = _makearray(a)\n\u001b[32m    395\u001b[39m _assert_stacked_2d(a)\n\u001b[32m--> \u001b[39m\u001b[32m396\u001b[39m \u001b[43m_assert_stacked_square\u001b[49m\u001b[43m(\u001b[49m\u001b[43ma\u001b[49m\u001b[43m)\u001b[49m\n\u001b[32m    397\u001b[39m b, wrap = _makearray(b)\n\u001b[32m    398\u001b[39m t, result_t = _commonType(a, b)\n",
      "\u001b[36mFile \u001b[39m\u001b[32mc:\\Users\\andyj\\AppData\\Local\\Programs\\Python\\Python313\\Lib\\site-packages\\numpy\\linalg\\_linalg.py:202\u001b[39m, in \u001b[36m_assert_stacked_square\u001b[39m\u001b[34m(*arrays)\u001b[39m\n\u001b[32m    200\u001b[39m m, n = a.shape[-\u001b[32m2\u001b[39m:]\n\u001b[32m    201\u001b[39m \u001b[38;5;28;01mif\u001b[39;00m m != n:\n\u001b[32m--> \u001b[39m\u001b[32m202\u001b[39m     \u001b[38;5;28;01mraise\u001b[39;00m LinAlgError(\u001b[33m'\u001b[39m\u001b[33mLast 2 dimensions of the array must be square\u001b[39m\u001b[33m'\u001b[39m)\n",
      "\u001b[31mLinAlgError\u001b[39m: Last 2 dimensions of the array must be square"
     ]
    }
   ],
   "source": [
    "\n",
    "A = [\n",
    "    [1, 2, 0, 3],\n",
    "    [1, 0, 2, 2],\n",
    "    [0, 0, 1, 1]\n",
    "]\n",
    "\n",
    "b = [3500, 2700, 900]\n",
    "\n",
    "x = np.linalg.solve(A, b)\n",
    "print(x)\n"
   ]
  },
  {
   "cell_type": "markdown",
   "id": "88b89424",
   "metadata": {},
   "source": [
    "No se puede determinar de forma exacta ya que hay muchas distribuciones posibles\n",
    "\n",
    "**c) Si la especie 1 se extingue, ¿qué cantidad de incremento individual de las especies restantes se podría soportar?**\n",
    "\n",
    "\n",
    "Por lo tanto..."
   ]
  },
  {
   "cell_type": "code",
   "execution_count": 20,
   "id": "bdfa1a6b",
   "metadata": {},
   "outputs": [
    {
     "ename": "LinAlgError",
     "evalue": "Singular matrix",
     "output_type": "error",
     "traceback": [
      "\u001b[31m---------------------------------------------------------------------------\u001b[39m",
      "\u001b[31mLinAlgError\u001b[39m                               Traceback (most recent call last)",
      "\u001b[36mCell\u001b[39m\u001b[36m \u001b[39m\u001b[32mIn[20]\u001b[39m\u001b[32m, line 9\u001b[39m\n\u001b[32m      1\u001b[39m A = [\n\u001b[32m      2\u001b[39m     [\u001b[32m2\u001b[39m, \u001b[32m0\u001b[39m, \u001b[32m3\u001b[39m],\n\u001b[32m      3\u001b[39m     [\u001b[32m0\u001b[39m, \u001b[32m2\u001b[39m, \u001b[32m2\u001b[39m],\n\u001b[32m      4\u001b[39m     [\u001b[32m0\u001b[39m, \u001b[32m1\u001b[39m, \u001b[32m1\u001b[39m]\n\u001b[32m      5\u001b[39m ]\n\u001b[32m      7\u001b[39m b = [\u001b[32m3500\u001b[39m, \u001b[32m2700\u001b[39m, \u001b[32m900\u001b[39m]\n\u001b[32m----> \u001b[39m\u001b[32m9\u001b[39m x = \u001b[43mnp\u001b[49m\u001b[43m.\u001b[49m\u001b[43mlinalg\u001b[49m\u001b[43m.\u001b[49m\u001b[43msolve\u001b[49m\u001b[43m(\u001b[49m\u001b[43mA\u001b[49m\u001b[43m,\u001b[49m\u001b[43m \u001b[49m\u001b[43mb\u001b[49m\u001b[43m)\u001b[49m\n\u001b[32m     10\u001b[39m \u001b[38;5;28mprint\u001b[39m(x)\n",
      "\u001b[36mFile \u001b[39m\u001b[32mc:\\Users\\andyj\\AppData\\Local\\Programs\\Python\\Python313\\Lib\\site-packages\\numpy\\linalg\\_linalg.py:410\u001b[39m, in \u001b[36msolve\u001b[39m\u001b[34m(a, b)\u001b[39m\n\u001b[32m    407\u001b[39m signature = \u001b[33m'\u001b[39m\u001b[33mDD->D\u001b[39m\u001b[33m'\u001b[39m \u001b[38;5;28;01mif\u001b[39;00m isComplexType(t) \u001b[38;5;28;01melse\u001b[39;00m \u001b[33m'\u001b[39m\u001b[33mdd->d\u001b[39m\u001b[33m'\u001b[39m\n\u001b[32m    408\u001b[39m \u001b[38;5;28;01mwith\u001b[39;00m errstate(call=_raise_linalgerror_singular, invalid=\u001b[33m'\u001b[39m\u001b[33mcall\u001b[39m\u001b[33m'\u001b[39m,\n\u001b[32m    409\u001b[39m               over=\u001b[33m'\u001b[39m\u001b[33mignore\u001b[39m\u001b[33m'\u001b[39m, divide=\u001b[33m'\u001b[39m\u001b[33mignore\u001b[39m\u001b[33m'\u001b[39m, under=\u001b[33m'\u001b[39m\u001b[33mignore\u001b[39m\u001b[33m'\u001b[39m):\n\u001b[32m--> \u001b[39m\u001b[32m410\u001b[39m     r = \u001b[43mgufunc\u001b[49m\u001b[43m(\u001b[49m\u001b[43ma\u001b[49m\u001b[43m,\u001b[49m\u001b[43m \u001b[49m\u001b[43mb\u001b[49m\u001b[43m,\u001b[49m\u001b[43m \u001b[49m\u001b[43msignature\u001b[49m\u001b[43m=\u001b[49m\u001b[43msignature\u001b[49m\u001b[43m)\u001b[49m\n\u001b[32m    412\u001b[39m \u001b[38;5;28;01mreturn\u001b[39;00m wrap(r.astype(result_t, copy=\u001b[38;5;28;01mFalse\u001b[39;00m))\n",
      "\u001b[36mFile \u001b[39m\u001b[32mc:\\Users\\andyj\\AppData\\Local\\Programs\\Python\\Python313\\Lib\\site-packages\\numpy\\linalg\\_linalg.py:104\u001b[39m, in \u001b[36m_raise_linalgerror_singular\u001b[39m\u001b[34m(err, flag)\u001b[39m\n\u001b[32m    103\u001b[39m \u001b[38;5;28;01mdef\u001b[39;00m\u001b[38;5;250m \u001b[39m\u001b[34m_raise_linalgerror_singular\u001b[39m(err, flag):\n\u001b[32m--> \u001b[39m\u001b[32m104\u001b[39m     \u001b[38;5;28;01mraise\u001b[39;00m LinAlgError(\u001b[33m\"\u001b[39m\u001b[33mSingular matrix\u001b[39m\u001b[33m\"\u001b[39m)\n",
      "\u001b[31mLinAlgError\u001b[39m: Singular matrix"
     ]
    }
   ],
   "source": [
    "\n",
    "A = [\n",
    "    [2, 0, 3],\n",
    "    [0, 2, 2],\n",
    "    [0, 1, 1]\n",
    "]\n",
    "\n",
    "b = [3500, 2700, 900]\n",
    "\n",
    "x = np.linalg.solve(A, b)\n",
    "print(x)\n"
   ]
  },
  {
   "cell_type": "markdown",
   "id": "0fd3daf2",
   "metadata": {},
   "source": [
    "no parece existir una distribución exacta.\n",
    "\n",
    "**d) Si la especie 2 se extingue, ¿qué cantidad de incremento individual de las especies restantes se podría soportar?**\n",
    "\n",
    "\n"
   ]
  },
  {
   "cell_type": "code",
   "execution_count": 21,
   "id": "1975b9be",
   "metadata": {},
   "outputs": [
    {
     "name": "stdout",
     "output_type": "stream",
     "text": [
      "[900.          33.33333333 866.66666667]\n"
     ]
    }
   ],
   "source": [
    "\n",
    "A = [\n",
    "    [1, 0, 3],\n",
    "    [1, 2, 2],\n",
    "    [0, 1, 1]\n",
    "]\n",
    "\n",
    "b = [3500, 2700, 900]\n",
    "\n",
    "x = np.linalg.solve(A, b)\n",
    "print(x)\n"
   ]
  },
  {
   "cell_type": "markdown",
   "id": "42827d4f",
   "metadata": {},
   "source": [
    "\n",
    "En este caso se determinó la población que pueden tener cada una de las especies \n",
    "(Especie 1: 900, especie 2: 33, especie 3: 866)\n"
   ]
  }
 ],
 "metadata": {
  "kernelspec": {
   "display_name": "Python 3",
   "language": "python",
   "name": "python3"
  },
  "language_info": {
   "codemirror_mode": {
    "name": "ipython",
    "version": 3
   },
   "file_extension": ".py",
   "mimetype": "text/x-python",
   "name": "python",
   "nbconvert_exporter": "python",
   "pygments_lexer": "ipython3",
   "version": "3.13.3"
  }
 },
 "nbformat": 4,
 "nbformat_minor": 5
}

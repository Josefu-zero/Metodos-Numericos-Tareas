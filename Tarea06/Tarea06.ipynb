{
 "cells": [
  {
   "cell_type": "markdown",
   "id": "9babcc7c",
   "metadata": {},
   "source": [
    "# **Escuela Politecnica Nacional** \n",
    "# **Metodos Numericos**\n",
    "# **Tarea 06**\n",
    "## **Fecha:** 09/06/2025\n",
    "## **Nombres:**  Joseph Jimenez"
   ]
  },
  {
   "cell_type": "markdown",
   "id": "174c9b3d",
   "metadata": {},
   "source": [
    "Determine el orden de la mejor aproximación para las siguientes funciones, usando la Serie de Taylor y el Polinomio de Lagrange:\n",
    "\n",
    " 125∗x2+1,x0=0\n",
    " arctanx,x0=1"
   ]
  },
  {
   "cell_type": "markdown",
   "id": "8017b9fa",
   "metadata": {},
   "source": [
    "Escriba las fórmulas de los diferentes polinomios\n",
    "Grafique las diferentes aproximaciones"
   ]
  },
  {
   "cell_type": "markdown",
   "id": "9df90b61",
   "metadata": {},
   "source": [
    "1. "
   ]
  },
  {
   "cell_type": "code",
   "execution_count": 7,
   "id": "ff1ffac9",
   "metadata": {},
   "outputs": [],
   "source": [
    "import numpy as np\n",
    "import matplotlib.pyplot as plt\n",
    "from scipy.interpolate import lagrange\n",
    "from sympy import symbols, diff, lambdify, atan\n",
    "\n",
    "\n",
    "# Función 1: 1/(25x^2 + 1)\n",
    "def f1(x):\n",
    "    return 1/(25*x**2 + 1)\n",
    "\n",
    "# Punto de expansión para Taylor\n",
    "x0 = 0\n",
    "\n",
    "# Rangos para visualización\n",
    "x_vals = np.linspace(-0.5, 0.5, 400)"
   ]
  },
  {
   "cell_type": "markdown",
   "id": "fbea549d",
   "metadata": {},
   "source": [
    "Aproximacion con Serie de Taylor"
   ]
  },
  {
   "cell_type": "code",
   "execution_count": 8,
   "id": "91feca9b",
   "metadata": {},
   "outputs": [
    {
     "data": {
      "image/png": "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
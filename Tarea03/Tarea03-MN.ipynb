{
 "cells": [
  {
   "cell_type": "markdown",
   "id": "2b6b8004",
   "metadata": {},
   "source": [
    "# Tarea 03"
   ]
  },
  {
   "cell_type": "markdown",
   "id": "1ac85d0a",
   "metadata": {},
   "source": [
    "## CONJUNTO DE EJERCICIOS 1.3\n",
    "**1. Utilice aritmética de corte de tres dígitos para calcular las siguientes sumas. Para cada parte, ¿qué método es más preciso y por qué?**\n",
    "\n",
    "a) $$\\sum_{i=1}^{10} \\frac{1}{i^2} $$\n",
    "    \n",
    "El siguiente código produce la suma exacta de esta función:"
   ]
  },
  {
   "cell_type": "code",
   "execution_count": 37,
   "id": "073303f4",
   "metadata": {},
   "outputs": [
    {
     "name": "stdout",
     "output_type": "stream",
     "text": [
      "1.5497677311665408\n"
     ]
    }
   ],
   "source": [
    "sum = 0\n",
    "for i in range (1, 11):\n",
    "    sum += 1 / (i ** 2)\n",
    "\n",
    "print(sum)"
   ]
  },
  {
   "cell_type": "markdown",
   "id": "ec77740e",
   "metadata": {},
   "source": [
    "Redondear a 3 dígitos cada vez que se itera:"
   ]
  },
  {
   "cell_type": "code",
   "execution_count": 38,
   "id": "e21a2407",
   "metadata": {},
   "outputs": [
    {
     "name": "stdout",
     "output_type": "stream",
     "text": [
      "\n",
      "Resultado con corte de 3 dígitos: 1.547\n",
      "Resultado inverso con corte de 3 dígitos: 1.547\n"
     ]
    }
   ],
   "source": [
    "sum_corte = 0\n",
    "for i in range(1, 11):\n",
    "    # Calcula 1/i^3 y redondea a 3 dígitos truncando (no redondeo estándar)\n",
    "    termino = 1 / (i ** 2)\n",
    "    termino_cortado = int(termino * 1000) / 1000  # Corte a 3 dígitos\n",
    "    sum_corte += termino_cortado\n",
    "    \n",
    "\n",
    "print(\"\\nResultado con corte de 3 dígitos:\", sum_corte)\n",
    "\n",
    "sum_corte_reverse = 0\n",
    "for i in range(10, 0, -1):\n",
    "    termino = 1 / (i ** 2)\n",
    "    termino_cortado = int(termino * 1000) / 1000  # Corte a 3 dígitos\n",
    "    sum_corte_reverse += termino_cortado\n",
    "\n",
    "print(\"Resultado inverso con corte de 3 dígitos:\", sum_corte_reverse)"
   ]
  },
  {
   "cell_type": "markdown",
   "id": "866fa13a",
   "metadata": {},
   "source": [
    "b) $$\\sum_{i=1}^{10} \\frac{1}{i^3}$$\n",
    "Suma exacta:"
   ]
  },
  {
   "cell_type": "code",
   "execution_count": 32,
   "id": "868b84a4",
   "metadata": {},
   "outputs": [
    {
     "name": "stdout",
     "output_type": "stream",
     "text": [
      "Final Result 1.197531985674193\n"
     ]
    }
   ],
   "source": [
    "sum = 0\n",
    "for i in range (1, 11):\n",
    "    sum += 1 / (i **3)\n",
    "\n",
    "print(\"Final Result\",sum)\n"
   ]
  },
  {
   "cell_type": "markdown",
   "id": "2c3a2b46",
   "metadata": {},
   "source": [
    "Redondear a 3 dígitos cada vez que se itera:"
   ]
  },
  {
   "cell_type": "code",
   "execution_count": 40,
   "id": "fe5651b3",
   "metadata": {},
   "outputs": [
    {
     "name": "stdout",
     "output_type": "stream",
     "text": [
      "\n",
      "Resultado con corte de 3 dígitos: 1.1939999999999995\n",
      "Resultado inverso con corte de 3 dígitos: 1.194\n"
     ]
    }
   ],
   "source": [
    "sum_corte = 0\n",
    "for i in range(1, 11):\n",
    "    # Calcula 1/i^3 y redondea a 3 dígitos truncando (no redondeo estándar)\n",
    "    termino = 1 / (i ** 3)\n",
    "    termino_cortado = int(termino * 1000) / 1000  # Corte a 3 dígitos\n",
    "    sum_corte += termino_cortado\n",
    "\n",
    "print(\"\\nResultado con corte de 3 dígitos:\", sum_corte)\n",
    "\n",
    "sum_corte_reverse = 0\n",
    "for i in range(10, 0, -1):\n",
    "    termino = 1 / (i ** 3)\n",
    "    termino_cortado = int(termino * 1000) / 1000  # Corte a 3 dígitos\n",
    "    sum_corte_reverse += termino_cortado\n",
    "\n",
    "print(\"Resultado inverso con corte de 3 dígitos:\", sum_corte_reverse)"
   ]
  },
  {
   "cell_type": "markdown",
   "id": "ec93be46",
   "metadata": {},
   "source": [
    "Conclusión: Al comenzar con los términos más grandes y avanzar hacia los más pequeños, se reduce la pérdida de precisión al sumar valores decimales. Esto evita que los errores de redondeo o truncamiento afecten significativamente el resultado final.\n",
    "\n",
    "En cambio, la suma inversa acumula primero los términos más pequeños, lo que puede amplificar los errores al sumarlos posteriormente con valores más grandes, especialmente cuando se trabaja con aritmética de precisión limitada (como el corte a 3 dígitos)."
   ]
  },
  {
   "cell_type": "markdown",
   "id": "69a19dfc",
   "metadata": {},
   "source": [
    "**2. Serie de Maclaurin para la función arcotangente**\n",
    "\n",
    "La serie de Maclaurin para la función arcotangente converge para $-1 < x \\leq 1$ y está dada por:\n",
    "\n",
    "$\n",
    "\\arctan x = \\lim_{n \\to \\infty} P_n(x) = \\lim_{n \\to \\infty} \\sum_{i=1}^{n} (-1)^{i+1} \\frac{x^{2i-1}}{2i-1}\n",
    "$\n",
    "\n",
    "a) Utilice el hecho de que $\\tan \\frac{\\pi}{4} = 1\\ $\n",
    "para determinar el número n de términos de la serie que se necesita sumar para garantizar que $|4P_n(1) - \\pi| < 10^{-3}$."
   ]
  },
  {
   "cell_type": "markdown",
   "id": "bd11af3e",
   "metadata": {},
   "source": [
    "Entonces, dado que $\\arctan{1} = \\frac{\\pi}{4}$ con $x = 1$, reemplazando:\n",
    "$$\\frac{\\pi}{4} = \\sum_{i=1}^{n}(-1)^{i+1}\\frac{1^{2i-1}}{2i-1}$$"
   ]
  },
  {
   "cell_type": "code",
   "execution_count": 41,
   "id": "409dc9e0",
   "metadata": {},
   "outputs": [
    {
     "name": "stdout",
     "output_type": "stream",
     "text": [
      "0.7853981633974483\n"
     ]
    }
   ],
   "source": [
    "import math\n",
    "x = math.pi / 4\n",
    "print(x)"
   ]
  },
  {
   "cell_type": "markdown",
   "id": "8be62b8d",
   "metadata": {},
   "source": [
    "Calculo de la sumatoria para cierto número $n$:"
   ]
  },
  {
   "cell_type": "code",
   "execution_count": 45,
   "id": "cd0ed91a",
   "metadata": {},
   "outputs": [
    {
     "name": "stdout",
     "output_type": "stream",
     "text": [
      "0.7851481634599485\n"
     ]
    }
   ],
   "source": [
    "sum = 0\n",
    "n = 1000\n",
    "for i in range(1, n + 1):\n",
    "    sum += ((-1) ** (i + 1)) * (1 ** (2*i - 1)/(2*i - 1))\n",
    "print(sum)"
   ]
  },
  {
   "cell_type": "markdown",
   "id": "898e821e",
   "metadata": {},
   "source": [
    "Mediante prueba y acercamiento, se encontró el valor $n = 1000$ para el cual, la función se acerca al valor $\\frac{\\pi}{4}$.\n",
    "\n",
    "Por tanto, $P_{1000}(1) = 0.78514...$. \n",
    "\n",
    "Comprobemos si cumple la condición:\n",
    "$$|4P_{22}(1) - \\pi|< 10^{-3}$$"
   ]
  },
  {
   "cell_type": "code",
   "execution_count": 43,
   "id": "14377837",
   "metadata": {},
   "outputs": [
    {
     "name": "stdout",
     "output_type": "stream",
     "text": [
      "0.000999999749998981\n",
      "True\n"
     ]
    }
   ],
   "source": [
    "total = abs(4*sum - math.pi)\n",
    "print(total)\n",
    "print(total < 10**(-3))"
   ]
  },
  {
   "cell_type": "markdown",
   "id": "c41117e3",
   "metadata": {},
   "source": [
    "**b) El lenguaje de programación C++ requiere que el valor de $\\pi$ se encuentre dentro de $10^{-10}$. ¿Cuántos términos de la serie se necesitarían sumar para obtener este grado de precisión?**\n",
    "\n",
    "**Respuesta:** \n",
    "En este caso se necesitaría hacer una suma infinita de la función: $P_n(\\pi)$. Y esto se debe a que la tangente de $\\pi$ no está definida."
   ]
  },
  {
   "cell_type": "markdown",
   "id": "bb9d6fca",
   "metadata": {},
   "source": [
    "**1.3. Otra fórmula para calcular $\\pi$ se puede deducir a partir de la identidad: $\\frac{\\pi}{4} = 4\\arctan{\\frac{1}{5}} - \\arctan{\\frac{1}{239}}$. Determine el número de términos que se deben sumar para garantizar una aproximación $\\pi$ dentro de $10^{-3}$.**\n",
    "\n",
    "Para resolver este ejercicio, despejamos el número 4 de la izquierda, quedándonos:\n",
    "\n",
    "$$\\pi = \\frac{4\\arctan{\\frac{1}{5}} - \\arctan{\\frac{1}{239}}}{4}$$\n",
    "Ahora, el siguiente código cumple con la suma de esta funcion con un parámetro n"
   ]
  },
  {
   "cell_type": "code",
   "execution_count": 48,
   "id": "52d87e83",
   "metadata": {},
   "outputs": [
    {
     "name": "stdout",
     "output_type": "stream",
     "text": [
      "3.1415926535897944\n",
      "1.3322676295501878e-15\n",
      "True\n"
     ]
    }
   ],
   "source": [
    "from numpy import arctan\n",
    "sum = 0\n",
    "n = 16\n",
    "for i in range (1, n + 1):\n",
    "    sum += (4*arctan(1 / 5) - arctan(1/239)) / 4\n",
    "print(sum)\n",
    "arc16=(math.pi - sum)\n",
    "print(abs(arc16))\n",
    "\n",
    "print(arc16 < 10**(-3))"
   ]
  },
  {
   "cell_type": "markdown",
   "id": "14c946e2",
   "metadata": {},
   "source": [
    "**04. Compare los siguientes tres algoritmos. ¿Cuándo es correcto el algoritmo de la parte 1a?**\n",
    "Compare los siguientes tres algoritmos. ¿Cuándo es correcto el algoritmo de la parte 1a?\n",
    "\n",
    "    a. ENTRADA 𝑛,𝑥1,𝑥2,⋯,𝑥𝑛. \n",
    "    SALIDA PRODUCT. \n",
    "    Paso 1 Determine PRODUCT = 0. \n",
    "    Paso 2 Para 𝑖 = 1,2,⋯,𝑛 haga \n",
    "    Determine PRODUCT = PRODUCT∗𝑥𝑖. \n",
    "    Paso 3 SALIDA PRODUCT; \n",
    "    PARE. \n",
    "    \n",
    "    b. ENTRADA 𝑛,𝑥1,𝑥2,⋯,𝑥𝑛. \n",
    "    SALIDA PRODUCT. \n",
    "    Paso 1 Determine PRODUCT = 1. \n",
    "    Paso 2 Para 𝑖 = 1,2,⋯,𝑛 haga \n",
    "    Set PRODUCT = PRODUCT∗𝑥𝑖. \n",
    "    Paso 3 SALIDA PRODUCT; \n",
    "    PARE. \n",
    "    \n",
    "    c. ENTRADA 𝑛,𝑥1,𝑥2,⋯,𝑥𝑛. \n",
    "    SALIDA PRODUCT. \n",
    "    Paso 1 Determine PRODUCT = 1. \n",
    "    Paso 2 Para 𝑖 = 1,2,⋯,𝑛 haga \n",
    "    si 𝑥𝑖=0 entonces determine PRODUCT = 0; \n",
    "    SALIDA PRODUCT; \n",
    "    PARE \n",
    "    Determine PRODUCT = PRODUCT∗𝑥𝑖. \n",
    "    Paso 3 SALIDA PRODUCT; \n",
    "    PARE.\n",
    "\n",
    "Respuesta: El algoritmo “a” sería el más acertado\n"
   ]
  },
  {
   "cell_type": "markdown",
   "id": "7f169b0a",
   "metadata": {},
   "source": [
    "**5.** \n",
    "\n",
    "**a)¿Cuántas multiplicaciones y sumas se requieren para determinar una suma de la forma:**\n",
    "\n",
    "$$\\sum_{i=1}^{n} \\sum_{j=1}^{i}a_ib_j$$ \n",
    "\n",
    "**Respuesta:**\n",
    "Se requieren $\\sum_{i=1}^{n}i$ multiplicaciones y $\\frac{n(n+1)}{2}$ sumas en total.\n",
    "\n"
   ]
  },
  {
   "cell_type": "markdown",
   "id": "6c3ee1a3",
   "metadata": {},
   "source": [
    "**b) Modifique la suma en la parte a) a un formato equivalente que reduzca el número de cálculos.**\n",
    "\n",
    "**Respuesta:**\n",
    "1. Linealidad de sumatoria: $ = \\sum_{i=1}^{n} (a_i \\sum_{j=1}^{i}b_j)$\n",
    "2. Suma de una progresión aritmética: $\\sum_{i=1}^{n}a_i \\cdot \\frac{i(i+1)}{2}$\n",
    "3. Reagrupación: $\\sum_{i=1}^{n} \\frac{i(i+1)}{2}a_i$\n"
   ]
  },
  {
   "cell_type": "markdown",
   "id": "89e9ca47",
   "metadata": {},
   "source": [
    "## Discusiones\n",
    "**1. Escriba un algoritmo para sumar la serie finita $\\sum_{i=1}^{n}x_i$ en orden inverso.**"
   ]
  },
  {
   "cell_type": "code",
   "execution_count": 9,
   "id": "096188d0",
   "metadata": {},
   "outputs": [
    {
     "name": "stdout",
     "output_type": "stream",
     "text": [
      "Resultado inverso: 15\n"
     ]
    }
   ],
   "source": [
    "sum_reverse = 0\n",
    "for i in range(5, 0, -1):\n",
    "    sum_reverse += i\n",
    "\n",
    "print(\"Resultado inverso:\", sum_reverse)"
   ]
  },
  {
   "cell_type": "markdown",
   "id": "f0ae937a",
   "metadata": {},
   "source": [
    "**2 Las ecuaciones (1.2) y (1.3) en la sección 1.2 proporcionan formas alternativas para las raíces 𝑥1 y 𝑥2 de 𝑎𝑥 2 + 𝑏𝑥 + 𝑐 = 0. Construya un algoritmo con entrada a, b y c y salida $x_1$, $x_2$ que calcule las raíces $x_1$ y $x_2$ (que pueden ser iguales con conjugados complejos) mediante la mejor fórmula para cada raíz.**"
   ]
  },
  {
   "cell_type": "code",
   "execution_count": 12,
   "id": "9c2646d6",
   "metadata": {},
   "outputs": [
    {
     "name": "stdout",
     "output_type": "stream",
     "text": [
      "La/s raiz/ices de la ecuacion cuadratica es/son:  ((1.5+1.05j), (1.5-1.065j))\n"
     ]
    }
   ],
   "source": [
    "def raices(a : float, b : float, c : float) -> tuple[float, float] | float | tuple[complex, complex]:\n",
    "    discriminante = b**2 - 4*a*c\n",
    "    \n",
    "    if (discriminante == 0):\n",
    "        raiz = (-b + (discriminante)**0.5) / 2*a\n",
    "        return raiz\n",
    "    \n",
    "    elif (discriminante > 0):\n",
    "        raiz1 = (-b + (discriminante)**0.5) / 2*a\n",
    "        raiz2 = (-b - (discriminante)**0.5) / 2*a\n",
    "        return raiz1, raiz2\n",
    "    \n",
    "    else:\n",
    "        raiz1 = complex(-b / 2*a, (abs(discriminante))**0.5 * 100 // 2*a / 100)\n",
    "        raiz2 = complex(-b / 2*a, -(abs(discriminante))**0.5 * 100 // 2*a / 100)\n",
    "        return raiz1, raiz2\n",
    "\n",
    "\n",
    "resultado = raices(1.5, -2, 1)\n",
    "print('La/s raiz/ices de la ecuacion cuadratica es/son: ', resultado)\n",
    "    "
   ]
  },
  {
   "cell_type": "markdown",
   "id": "94bc0f91",
   "metadata": {},
   "source": [
    "**3. Suponga que**\n",
    "$$\\frac{1 - 2x}{1 - x + x^2} + \\frac{2x - 4x^3}{1 - x^2 + x^4} + \\frac{4x^3 - 8x^7}{1 - x^4 + x^8} .. =  \\frac{1 + 2x}{1 + x + x^2}$$\n",
    "\n",
    "para $x < 1$ y si $x = 0.25$."
   ]
  },
  {
   "cell_type": "markdown",
   "id": "657673f9",
   "metadata": {},
   "source": [
    "Escriba y ejecute un algoritmo que determine el número de términos necesarios en el lado izquierdo de la ecuación de tal forma que el lado izquierdo difiera del lado derecho en menos de $10^{-6}$."
   ]
  },
  {
   "cell_type": "code",
   "execution_count": 13,
   "id": "2008e32f",
   "metadata": {},
   "outputs": [],
   "source": [
    "def calcular_lado_izquierdo(x):\n",
    "    suma_lado_izquierdo = 0.0\n",
    "    termino = 1\n",
    "    denominador = 1.0\n",
    "    while True:\n",
    "        suma_lado_izquierdo += (2.0**(termino - 1) * x**(2*termino - 1)) / denominador\n",
    "        if abs(suma_lado_izquierdo - (1 + 2*x) / (1 + x + x**2)) < 1e-6:\n",
    "            break\n",
    "        termino += 1\n",
    "        denominador *= 1 - x**(2*termino)\n",
    "    return termino"
   ]
  },
  {
   "cell_type": "markdown",
   "id": "fc25c590",
   "metadata": {},
   "source": []
  }
 ],
 "metadata": {
  "kernelspec": {
   "display_name": "Python 3",
   "language": "python",
   "name": "python3"
  },
  "language_info": {
   "codemirror_mode": {
    "name": "ipython",
    "version": 3
   },
   "file_extension": ".py",
   "mimetype": "text/x-python",
   "name": "python",
   "nbconvert_exporter": "python",
   "pygments_lexer": "ipython3",
   "version": "3.11.4"
  }
 },
 "nbformat": 4,
 "nbformat_minor": 5
}

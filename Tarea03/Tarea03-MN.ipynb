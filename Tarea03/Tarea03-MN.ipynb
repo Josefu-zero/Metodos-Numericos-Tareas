{
 "cells": [
  {
   "cell_type": "markdown",
   "id": "2b6b8004",
   "metadata": {},
   "source": [
    "# Tarea 03"
   ]
  },
  {
   "cell_type": "markdown",
   "id": "1ac85d0a",
   "metadata": {},
   "source": [
    "## CONJUNTO DE EJERCICIOS 1.3\n",
    "1. Utilice aritmética de corte de tres dígitos para calcular las siguientes sumas. Para cada parte, ¿qué método es más preciso y por qué? \n",
    "\n",
    "a) $$\\sum_{i=1}^{10} \\frac{1}{i^2} $$\n",
    "    \n",
    "El siguiente código produce la suma exacta de esta función:"
   ]
  },
  {
   "cell_type": "code",
   "execution_count": 11,
   "id": "073303f4",
   "metadata": {},
   "outputs": [
    {
     "name": "stdout",
     "output_type": "stream",
     "text": [
      "1.5497677311665408\n"
     ]
    }
   ],
   "source": [
    "sum = 0\n",
    "for i in range (1, 11):\n",
    "    sum += 1 / (i ** 2)\n",
    "\n",
    "print(sum)"
   ]
  },
  {
   "cell_type": "markdown",
   "id": "ec77740e",
   "metadata": {},
   "source": [
    "Redondear a 3 dígitos cada vez que se itera:"
   ]
  },
  {
   "cell_type": "code",
   "execution_count": 17,
   "id": "e21a2407",
   "metadata": {},
   "outputs": [
    {
     "name": "stdout",
     "output_type": "stream",
     "text": [
      "1.0\n",
      "1.25\n",
      "1.361\n",
      "1.423\n",
      "1.463\n",
      "1.491\n",
      "1.5110000000000001\n",
      "1.5270000000000001\n",
      "1.5390000000000001\n",
      "1.5490000000000002\n",
      "Final Result:  1.549\n"
     ]
    }
   ],
   "source": [
    "sum = 0\n",
    "for i in range(1, 11):\n",
    "    sum += round(1 / (i ** 2), 3)\n",
    "    print (sum)\n",
    "\n",
    "print(\"Final Result: \", round(sum, 3))"
   ]
  },
  {
   "cell_type": "markdown",
   "id": "866fa13a",
   "metadata": {},
   "source": [
    "b) $$\\sum_{i=1}^{10} \\frac{1}{i^3}$$\n",
    "Suma exacta:"
   ]
  },
  {
   "cell_type": "code",
   "execution_count": 18,
   "id": "868b84a4",
   "metadata": {},
   "outputs": [
    {
     "name": "stdout",
     "output_type": "stream",
     "text": [
      "1.197531985674193\n"
     ]
    }
   ],
   "source": [
    "sum = 0\n",
    "for i in range (1, 11):\n",
    "    sum += 1 / (i **3)\n",
    "\n",
    "print(sum)"
   ]
  },
  {
   "cell_type": "markdown",
   "id": "2c3a2b46",
   "metadata": {},
   "source": [
    "Redondear a 3 dígitos cada vez que se itera:"
   ]
  },
  {
   "cell_type": "code",
   "execution_count": 16,
   "id": "fdcfc0c6",
   "metadata": {},
   "outputs": [
    {
     "name": "stdout",
     "output_type": "stream",
     "text": [
      "1.0\n",
      "1.125\n",
      "1.162\n",
      "1.178\n",
      "1.186\n",
      "1.1909999999999998\n",
      "1.1939999999999997\n",
      "1.1959999999999997\n",
      "1.1969999999999996\n",
      "1.1979999999999995\n",
      "Final Result:  1.198\n"
     ]
    }
   ],
   "source": [
    "sum = 0\n",
    "for i in range(1, 11):\n",
    "    sum += round(1 / (i ** 3), 3)\n",
    "    print (sum)\n",
    "\n",
    "print(\"Final Result: \", round(sum, 3))"
   ]
  },
  {
   "cell_type": "code",
   "execution_count": null,
   "id": "3907473f",
   "metadata": {},
   "outputs": [],
   "source": []
  }
 ],
 "metadata": {
  "kernelspec": {
   "display_name": "Python 3",
   "language": "python",
   "name": "python3"
  },
  "language_info": {
   "codemirror_mode": {
    "name": "ipython",
    "version": 3
   },
   "file_extension": ".py",
   "mimetype": "text/x-python",
   "name": "python",
   "nbconvert_exporter": "python",
   "pygments_lexer": "ipython3",
   "version": "3.11.9"
  }
 },
 "nbformat": 4,
 "nbformat_minor": 5
}

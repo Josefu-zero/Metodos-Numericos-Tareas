{
 "cells": [
  {
   "cell_type": "markdown",
   "id": "2b6b8004",
   "metadata": {},
   "source": [
    "# Tarea 03"
   ]
  },
  {
   "cell_type": "markdown",
   "id": "1ac85d0a",
   "metadata": {},
   "source": [
    "## CONJUNTO DE EJERCICIOS 1.3\n",
    "1. Utilice aritmética de corte de tres dígitos para calcular las siguientes sumas. Para cada parte, ¿qué método es más preciso y por qué? \n",
    "\n",
    "a) $$\\sum_{i=1}^{10} \\frac{1}{i^2} $$\n",
    "    \n",
    "El siguiente código produce la suma exacta de esta función:"
   ]
  },
  {
   "cell_type": "code",
   "execution_count": 37,
   "id": "073303f4",
   "metadata": {},
   "outputs": [
    {
     "name": "stdout",
     "output_type": "stream",
     "text": [
      "1.5497677311665408\n"
     ]
    }
   ],
   "source": [
    "sum = 0\n",
    "for i in range (1, 11):\n",
    "    sum += 1 / (i ** 2)\n",
    "\n",
    "print(sum)"
   ]
  },
  {
   "cell_type": "markdown",
   "id": "ec77740e",
   "metadata": {},
   "source": [
    "Redondear a 3 dígitos cada vez que se itera:"
   ]
  },
  {
   "cell_type": "code",
   "execution_count": 38,
   "id": "e21a2407",
   "metadata": {},
   "outputs": [
    {
     "name": "stdout",
     "output_type": "stream",
     "text": [
      "\n",
      "Resultado con corte de 3 dígitos: 1.547\n",
      "Resultado inverso con corte de 3 dígitos: 1.547\n"
     ]
    }
   ],
   "source": [
    "sum_corte = 0\n",
    "for i in range(1, 11):\n",
    "    # Calcula 1/i^3 y redondea a 3 dígitos truncando (no redondeo estándar)\n",
    "    termino = 1 / (i ** 2)\n",
    "    termino_cortado = int(termino * 1000) / 1000  # Corte a 3 dígitos\n",
    "    sum_corte += termino_cortado\n",
    "    \n",
    "\n",
    "print(\"\\nResultado con corte de 3 dígitos:\", sum_corte)\n",
    "\n",
    "sum_corte_reverse = 0\n",
    "for i in range(10, 0, -1):\n",
    "    termino = 1 / (i ** 2)\n",
    "    termino_cortado = int(termino * 1000) / 1000  # Corte a 3 dígitos\n",
    "    sum_corte_reverse += termino_cortado\n",
    "\n",
    "print(\"Resultado inverso con corte de 3 dígitos:\", sum_corte_reverse)"
   ]
  },
  {
   "cell_type": "markdown",
   "id": "866fa13a",
   "metadata": {},
   "source": [
    "b) $$\\sum_{i=1}^{10} \\frac{1}{i^3}$$\n",
    "Suma exacta:"
   ]
  },
  {
   "cell_type": "code",
   "execution_count": 32,
   "id": "868b84a4",
   "metadata": {},
   "outputs": [
    {
     "name": "stdout",
     "output_type": "stream",
     "text": [
      "Final Result 1.197531985674193\n"
     ]
    }
   ],
   "source": [
    "sum = 0\n",
    "for i in range (1, 11):\n",
    "    sum += 1 / (i **3)\n",
    "\n",
    "print(\"Final Result\",sum)\n"
   ]
  },
  {
   "cell_type": "markdown",
   "id": "2c3a2b46",
   "metadata": {},
   "source": [
    "Redondear a 3 dígitos cada vez que se itera:"
   ]
  },
  {
   "cell_type": "code",
   "execution_count": 40,
   "id": "fe5651b3",
   "metadata": {},
   "outputs": [
    {
     "name": "stdout",
     "output_type": "stream",
     "text": [
      "\n",
      "Resultado con corte de 3 dígitos: 1.1939999999999995\n",
      "Resultado inverso con corte de 3 dígitos: 1.194\n"
     ]
    }
   ],
   "source": [
    "sum_corte = 0\n",
    "for i in range(1, 11):\n",
    "    # Calcula 1/i^3 y redondea a 3 dígitos truncando (no redondeo estándar)\n",
    "    termino = 1 / (i ** 3)\n",
    "    termino_cortado = int(termino * 1000) / 1000  # Corte a 3 dígitos\n",
    "    sum_corte += termino_cortado\n",
    "\n",
    "print(\"\\nResultado con corte de 3 dígitos:\", sum_corte)\n",
    "\n",
    "sum_corte_reverse = 0\n",
    "for i in range(10, 0, -1):\n",
    "    termino = 1 / (i ** 3)\n",
    "    termino_cortado = int(termino * 1000) / 1000  # Corte a 3 dígitos\n",
    "    sum_corte_reverse += termino_cortado\n",
    "\n",
    "print(\"Resultado inverso con corte de 3 dígitos:\", sum_corte_reverse)"
   ]
  },
  {
   "cell_type": "markdown",
   "id": "ec93be46",
   "metadata": {},
   "source": [
    "Conclusión: Al comenzar con los términos más grandes y avanzar hacia los más pequeños, se reduce la pérdida de precisión al sumar valores decimales. Esto evita que los errores de redondeo o truncamiento afecten significativamente el resultado final.\n",
    "\n",
    "En cambio, la suma inversa acumula primero los términos más pequeños, lo que puede amplificar los errores al sumarlos posteriormente con valores más grandes, especialmente cuando se trabaja con aritmética de precisión limitada (como el corte a 3 dígitos)."
   ]
  },
  {
   "cell_type": "markdown",
   "id": "69a19dfc",
   "metadata": {},
   "source": []
  }
 ],
 "metadata": {
  "kernelspec": {
   "display_name": "Python 3",
   "language": "python",
   "name": "python3"
  },
  "language_info": {
   "codemirror_mode": {
    "name": "ipython",
    "version": 3
   },
   "file_extension": ".py",
   "mimetype": "text/x-python",
   "name": "python",
   "nbconvert_exporter": "python",
   "pygments_lexer": "ipython3",
   "version": "3.11.9"
  }
 },
 "nbformat": 4,
 "nbformat_minor": 5
}

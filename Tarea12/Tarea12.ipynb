{
 "cells": [
  {
   "cell_type": "markdown",
   "id": "48307204",
   "metadata": {},
   "source": [
    "# **Escuela Politecnica Nacional** \n",
    "# **Metodos Numericos**\n",
    "# **Tarea 12**\n",
    "## **Fecha:** 06/08/2025\n",
    "## **Nombre:**  Joseph Jimenez"
   ]
  },
  {
   "cell_type": "markdown",
   "id": "6891f000",
   "metadata": {},
   "source": [
    "Enlace al repositorio : https://github.com/Josefu-zero/Metodos-Numericos-Tareas/tree/main/Tarea12"
   ]
  },
  {
   "cell_type": "markdown",
   "id": "4422f23f-8049-43e1-a2c5-858e5c2b602d",
   "metadata": {},
   "source": [
    "\n",
    "## Conjunto de ejercicios"
   ]
  },
  {
   "cell_type": "markdown",
   "id": "6ac15d4b",
   "metadata": {},
   "source": [
    "#### **1. Use el método de Euler para aproximar las soluciones para cada uno de los siguientes problemas de valor inicial.**"
   ]
  },
  {
   "cell_type": "markdown",
   "id": "6833380d",
   "metadata": {},
   "source": [
    "La siguinte funcion fue proporcidada por el docente"
   ]
  },
  {
   "cell_type": "code",
   "execution_count": 1,
   "id": "bda2277d",
   "metadata": {},
   "outputs": [],
   "source": [
    "from typing import Callable\n",
    "\n",
    "\n",
    "# ####################################################################\n",
    "def ODE_euler(\n",
    "    *,\n",
    "    a: float,\n",
    "    b: float,\n",
    "    f: Callable[[float, float], float],\n",
    "    y_t0: float,\n",
    "    N: int,\n",
    ") -> tuple[list[float], list[float], float]:\n",
    "    \"\"\"Solves (numerically) an ODE of the form\n",
    "        dy/dt = f(t, y)\n",
    "            y(t_0) = y_t0, a <= t_0 <= b\n",
    "    using the Euler method for the N+1 points in the time range [a, b].\n",
    "\n",
    "    It generates N+1 mesh points with:\n",
    "        t_i = a + i*h, h = (a - b) / N,\n",
    "    where h is the step size.\n",
    "\n",
    "\n",
    "    ## Parameters\n",
    "    ``a``: initial time\n",
    "    ``b``: final time\n",
    "    ``f``: function of two variables ``t`` and ``y``\n",
    "    ``y_t0``: initial condition\n",
    "    ``N``: number of mesh points\n",
    "\n",
    "    ## Return\n",
    "    ``ys``: a list of the N+1 approximated values of y\n",
    "    ``ts``: a list of the N+1 mesh points\n",
    "    ``h``: the step size h\n",
    "\n",
    "    \"\"\"\n",
    "    h = (b - a) / N\n",
    "    t = a\n",
    "    ts = [t]\n",
    "    ys = [y_t0]\n",
    "\n",
    "    for _ in range(N):\n",
    "        y = ys[-1]\n",
    "        y += h * f(t, y)\n",
    "        ys.append(y)\n",
    "\n",
    "        t += h\n",
    "        ts.append(t)\n",
    "    return ys, ts, h\n"
   ]
  },
  {
   "cell_type": "markdown",
   "id": "7351a798",
   "metadata": {},
   "source": [
    "#### **2. Las soluciones reales para los problemas de valor inicial en el ejercicio 1 se proporcionan aquí. Compare el error real en cada paso.**"
   ]
  },
  {
   "cell_type": "markdown",
   "id": "469fb669",
   "metadata": {},
   "source": [
    "#### **3. Utilice el método de Euler para aproximar las soluciones para cada uno de los siguientes problemas de valor inicial.**"
   ]
  },
  {
   "cell_type": "markdown",
   "id": "28cd2f98",
   "metadata": {},
   "source": [
    "#### **4. Aquí se dan las soluciones reales para los problemas de valor inicial en el ejercicio 3. Calcule el error real en las aproximaciones del ejercicio 3.**"
   ]
  },
  {
   "cell_type": "markdown",
   "id": "56d80bc8",
   "metadata": {},
   "source": [
    "#### **5. Utilice los resultados del ejercicio 3 y la interpolación lineal para aproximar los siguientes valores de 𝑦(𝑡). Compare las aproximaciones asignadas para los valores reales obtenidos mediante las funciones determinadas en el ejercicio 4.**"
   ]
  },
  {
   "cell_type": "markdown",
   "id": "5995e17b",
   "metadata": {},
   "source": [
    "#### **6. Use el método de Taylor de orden 2 para aproximar las soluciones para cada uno de los siguientes problemas de valor inicial.**"
   ]
  },
  {
   "cell_type": "markdown",
   "id": "7f4f9bc9",
   "metadata": {},
   "source": [
    "#### **7. Repita el ejercicio 6 con el método de Taylor de orden 4**"
   ]
  },
  {
   "cell_type": "markdown",
   "id": "30c781bb",
   "metadata": {},
   "source": []
  }
 ],
 "metadata": {
  "kernelspec": {
   "display_name": ".venv",
   "language": "python",
   "name": "python3"
  },
  "language_info": {
   "codemirror_mode": {
    "name": "ipython",
    "version": 3
   },
   "file_extension": ".py",
   "mimetype": "text/x-python",
   "name": "python",
   "nbconvert_exporter": "python",
   "pygments_lexer": "ipython3",
   "version": "3.11.9"
  }
 },
 "nbformat": 4,
 "nbformat_minor": 5
}

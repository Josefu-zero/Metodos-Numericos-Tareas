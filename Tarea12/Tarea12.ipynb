{
 "cells": [
  {
   "cell_type": "markdown",
   "id": "48307204",
   "metadata": {},
   "source": [
    "# **Escuela Politecnica Nacional** \n",
    "# **Metodos Numericos**\n",
    "# **Tarea 12**\n",
    "## **Fecha:** 06/08/2025\n",
    "## **Nombre:**  Joseph Jimenez"
   ]
  },
  {
   "cell_type": "markdown",
   "id": "6891f000",
   "metadata": {},
   "source": [
    "Enlace al repositorio : https://github.com/Josefu-zero/Metodos-Numericos-Tareas/tree/main/Tarea12"
   ]
  },
  {
   "cell_type": "markdown",
   "id": "4422f23f-8049-43e1-a2c5-858e5c2b602d",
   "metadata": {},
   "source": [
    "\n",
    "## Conjunto de ejercicios"
   ]
  },
  {
   "cell_type": "markdown",
   "id": "6ac15d4b",
   "metadata": {},
   "source": [
    "#### **1. Use el método de Euler para aproximar las soluciones para cada uno de los siguientes problemas de valor inicial.**"
   ]
  }
 ],
 "metadata": {
  "kernelspec": {
   "display_name": "Python 3",
   "language": "python",
   "name": "python3"
  },
  "language_info": {
   "codemirror_mode": {
    "name": "ipython",
    "version": 3
   },
   "file_extension": ".py",
   "mimetype": "text/x-python",
   "name": "python",
   "nbconvert_exporter": "python",
   "pygments_lexer": "ipython3",
   "version": "3.13.3"
  }
 },
 "nbformat": 4,
 "nbformat_minor": 5
}
